{
  "nbformat": 4,
  "nbformat_minor": 0,
  "metadata": {
    "kernelspec": {
      "name": "python3",
      "display_name": "Python 3"
    },
    "language_info": {
      "codemirror_mode": {
        "name": "ipython",
        "version": 3
      },
      "file_extension": ".py",
      "mimetype": "text/x-python",
      "name": "python",
      "nbconvert_exporter": "python",
      "pygments_lexer": "ipython3",
      "version": "3.7.3"
    },
    "colab": {
      "name": "Utkarsh_dataset_v1.ipynb",
      "provenance": [],
      "collapsed_sections": [],
      "include_colab_link": true
    },
    "accelerator": "GPU"
  },
  "cells": [
    {
      "cell_type": "markdown",
      "metadata": {
        "id": "view-in-github",
        "colab_type": "text"
      },
      "source": [
        "<a href=\"https://colab.research.google.com/github/utkarshsharma1/ECG_Signals/blob/master/Utkarsh_dataset_v1.ipynb\" target=\"_parent\"><img src=\"https://colab.research.google.com/assets/colab-badge.svg\" alt=\"Open In Colab\"/></a>"
      ]
    },
    {
      "cell_type": "markdown",
      "metadata": {
        "id": "i6868mD6Ws4d",
        "colab_type": "text"
      },
      "source": [
        "**Do not edit**\n",
        "make your own copy"
      ]
    },
    {
      "cell_type": "code",
      "metadata": {
        "id": "bQn3J98Ad7Dt",
        "colab_type": "code",
        "colab": {
          "base_uri": "https://localhost:8080/",
          "height": 401
        },
        "outputId": "695ab6d1-09a4-4f1c-bc6b-f8cfa23bbdf3"
      },
      "source": [
        "!pip install tensorflow==2.0.0-beta1"
      ],
      "execution_count": 38,
      "outputs": [
        {
          "output_type": "stream",
          "text": [
            "Requirement already satisfied: tensorflow==2.0.0-beta1 in /usr/local/lib/python3.6/dist-packages (2.0.0b1)\n",
            "Requirement already satisfied: keras-preprocessing>=1.0.5 in /usr/local/lib/python3.6/dist-packages (from tensorflow==2.0.0-beta1) (1.1.0)\n",
            "Requirement already satisfied: tf-estimator-nightly<1.14.0.dev2019060502,>=1.14.0.dev2019060501 in /usr/local/lib/python3.6/dist-packages (from tensorflow==2.0.0-beta1) (1.14.0.dev2019060501)\n",
            "Requirement already satisfied: tb-nightly<1.14.0a20190604,>=1.14.0a20190603 in /usr/local/lib/python3.6/dist-packages (from tensorflow==2.0.0-beta1) (1.14.0a20190603)\n",
            "Requirement already satisfied: wrapt>=1.11.1 in /usr/local/lib/python3.6/dist-packages (from tensorflow==2.0.0-beta1) (1.11.2)\n",
            "Requirement already satisfied: wheel>=0.26 in /usr/local/lib/python3.6/dist-packages (from tensorflow==2.0.0-beta1) (0.34.2)\n",
            "Requirement already satisfied: numpy<2.0,>=1.14.5 in /usr/local/lib/python3.6/dist-packages (from tensorflow==2.0.0-beta1) (1.17.5)\n",
            "Requirement already satisfied: grpcio>=1.8.6 in /usr/local/lib/python3.6/dist-packages (from tensorflow==2.0.0-beta1) (1.27.1)\n",
            "Requirement already satisfied: six>=1.10.0 in /usr/local/lib/python3.6/dist-packages (from tensorflow==2.0.0-beta1) (1.12.0)\n",
            "Requirement already satisfied: gast>=0.2.0 in /usr/local/lib/python3.6/dist-packages (from tensorflow==2.0.0-beta1) (0.2.2)\n",
            "Requirement already satisfied: protobuf>=3.6.1 in /usr/local/lib/python3.6/dist-packages (from tensorflow==2.0.0-beta1) (3.10.0)\n",
            "Requirement already satisfied: google-pasta>=0.1.6 in /usr/local/lib/python3.6/dist-packages (from tensorflow==2.0.0-beta1) (0.1.8)\n",
            "Requirement already satisfied: keras-applications>=1.0.6 in /usr/local/lib/python3.6/dist-packages (from tensorflow==2.0.0-beta1) (1.0.8)\n",
            "Requirement already satisfied: absl-py>=0.7.0 in /usr/local/lib/python3.6/dist-packages (from tensorflow==2.0.0-beta1) (0.9.0)\n",
            "Requirement already satisfied: termcolor>=1.1.0 in /usr/local/lib/python3.6/dist-packages (from tensorflow==2.0.0-beta1) (1.1.0)\n",
            "Requirement already satisfied: astor>=0.6.0 in /usr/local/lib/python3.6/dist-packages (from tensorflow==2.0.0-beta1) (0.8.1)\n",
            "Requirement already satisfied: markdown>=2.6.8 in /usr/local/lib/python3.6/dist-packages (from tb-nightly<1.14.0a20190604,>=1.14.0a20190603->tensorflow==2.0.0-beta1) (3.2.1)\n",
            "Requirement already satisfied: setuptools>=41.0.0 in /usr/local/lib/python3.6/dist-packages (from tb-nightly<1.14.0a20190604,>=1.14.0a20190603->tensorflow==2.0.0-beta1) (45.2.0)\n",
            "Requirement already satisfied: werkzeug>=0.11.15 in /usr/local/lib/python3.6/dist-packages (from tb-nightly<1.14.0a20190604,>=1.14.0a20190603->tensorflow==2.0.0-beta1) (1.0.0)\n",
            "Requirement already satisfied: h5py in /usr/local/lib/python3.6/dist-packages (from keras-applications>=1.0.6->tensorflow==2.0.0-beta1) (2.8.0)\n"
          ],
          "name": "stdout"
        }
      ]
    },
    {
      "cell_type": "code",
      "metadata": {
        "id": "T1KmM8EmQ8d2",
        "colab_type": "code",
        "colab": {}
      },
      "source": [
        "import pandas as pd\n",
        "import numpy as np\n",
        "import matplotlib.pyplot as plt\n",
        "from os import listdir\n"
      ],
      "execution_count": 0,
      "outputs": []
    },
    {
      "cell_type": "code",
      "metadata": {
        "id": "vyMHLOHMSggg",
        "colab_type": "code",
        "outputId": "ebc4a5c6-01b7-4ab2-f3fa-0a471e4b273b",
        "colab": {
          "base_uri": "https://localhost:8080/",
          "height": 419
        }
      },
      "source": [
        "!pip install wfdb\n",
        "import wfdb              # much needed for annotations"
      ],
      "execution_count": 40,
      "outputs": [
        {
          "output_type": "stream",
          "text": [
            "Requirement already satisfied: wfdb in /usr/local/lib/python3.6/dist-packages (2.2.1)\n",
            "Requirement already satisfied: numpy>=1.11.0 in /usr/local/lib/python3.6/dist-packages (from wfdb) (1.17.5)\n",
            "Requirement already satisfied: pandas>=0.19.1 in /usr/local/lib/python3.6/dist-packages (from wfdb) (0.25.3)\n",
            "Requirement already satisfied: nose>=1.3.7 in /usr/local/lib/python3.6/dist-packages (from wfdb) (1.3.7)\n",
            "Requirement already satisfied: matplotlib>=1.5.1 in /usr/local/lib/python3.6/dist-packages (from wfdb) (3.1.3)\n",
            "Requirement already satisfied: scipy>=0.19.0 in /usr/local/lib/python3.6/dist-packages (from wfdb) (1.4.1)\n",
            "Requirement already satisfied: requests>=2.10.0 in /usr/local/lib/python3.6/dist-packages (from wfdb) (2.21.0)\n",
            "Requirement already satisfied: sklearn>=0.0 in /usr/local/lib/python3.6/dist-packages (from wfdb) (0.0)\n",
            "Requirement already satisfied: pytz>=2017.2 in /usr/local/lib/python3.6/dist-packages (from pandas>=0.19.1->wfdb) (2018.9)\n",
            "Requirement already satisfied: python-dateutil>=2.6.1 in /usr/local/lib/python3.6/dist-packages (from pandas>=0.19.1->wfdb) (2.6.1)\n",
            "Requirement already satisfied: pyparsing!=2.0.4,!=2.1.2,!=2.1.6,>=2.0.1 in /usr/local/lib/python3.6/dist-packages (from matplotlib>=1.5.1->wfdb) (2.4.6)\n",
            "Requirement already satisfied: cycler>=0.10 in /usr/local/lib/python3.6/dist-packages (from matplotlib>=1.5.1->wfdb) (0.10.0)\n",
            "Requirement already satisfied: kiwisolver>=1.0.1 in /usr/local/lib/python3.6/dist-packages (from matplotlib>=1.5.1->wfdb) (1.1.0)\n",
            "Requirement already satisfied: idna<2.9,>=2.5 in /usr/local/lib/python3.6/dist-packages (from requests>=2.10.0->wfdb) (2.8)\n",
            "Requirement already satisfied: certifi>=2017.4.17 in /usr/local/lib/python3.6/dist-packages (from requests>=2.10.0->wfdb) (2019.11.28)\n",
            "Requirement already satisfied: urllib3<1.25,>=1.21.1 in /usr/local/lib/python3.6/dist-packages (from requests>=2.10.0->wfdb) (1.24.3)\n",
            "Requirement already satisfied: chardet<3.1.0,>=3.0.2 in /usr/local/lib/python3.6/dist-packages (from requests>=2.10.0->wfdb) (3.0.4)\n",
            "Requirement already satisfied: scikit-learn in /usr/local/lib/python3.6/dist-packages (from sklearn>=0.0->wfdb) (0.22.1)\n",
            "Requirement already satisfied: six>=1.5 in /usr/local/lib/python3.6/dist-packages (from python-dateutil>=2.6.1->pandas>=0.19.1->wfdb) (1.12.0)\n",
            "Requirement already satisfied: setuptools in /usr/local/lib/python3.6/dist-packages (from kiwisolver>=1.0.1->matplotlib>=1.5.1->wfdb) (45.2.0)\n",
            "Requirement already satisfied: joblib>=0.11 in /usr/local/lib/python3.6/dist-packages (from scikit-learn->sklearn>=0.0->wfdb) (0.14.1)\n"
          ],
          "name": "stdout"
        }
      ]
    },
    {
      "cell_type": "code",
      "metadata": {
        "id": "1XWteLZ7Q8eK",
        "colab_type": "code",
        "colab": {}
      },
      "source": [
        "path = 'mit-bih-arrhythmia-database-1.0.0/'"
      ],
      "execution_count": 0,
      "outputs": []
    },
    {
      "cell_type": "code",
      "metadata": {
        "id": "3pzuAHR9Q8eY",
        "colab_type": "code",
        "colab": {}
      },
      "source": [
        "sample_database = ['100', '101', '102', '103', '104', '105', '106', '107', '108', \n",
        "                   '109', '111', '112', '113', '114', '115', '116', '117', '118',\n",
        "                   '119', '121', '122', '123', '124', '200', '201', '202', '203',\n",
        "                   '205', '207', '208', '209', '210', '212', '213', '214', '215',\n",
        "                   '217', '219', '220', '221', '222', '223', '228', '230', '231',\n",
        "                   '232', '233', '234']"
      ],
      "execution_count": 0,
      "outputs": []
    },
    {
      "cell_type": "code",
      "metadata": {
        "id": "2Y1xHMCeQ8ei",
        "colab_type": "code",
        "colab": {}
      },
      "source": [
        "def load_ecg_signal(file):\n",
        "    \n",
        "    record = wfdb.rdrecord(file, pb_dir= 'mitdb')\n",
        "    annotation = wfdb.rdann(file, 'atr', pb_dir= 'mitdb')\n",
        "    \n",
        "    #This gives signal\n",
        "    p_signal = record.p_signal\n",
        "    \n",
        "    assert record.fs == 360, 'Sample frequency is not 360'\n",
        "    \n",
        "    #This gives symbols & annotation index\n",
        "    atr_symbol = annotation.symbol\n",
        "    atr_sample = annotation.sample\n",
        "    \n",
        "    return p_signal, atr_symbol, atr_sample"
      ],
      "execution_count": 0,
      "outputs": []
    },
    {
      "cell_type": "code",
      "metadata": {
        "id": "s7vG2HB7Q8ep",
        "colab_type": "code",
        "colab": {}
      },
      "source": [
        "abnormal = ['L', 'R', 'V', '/', 'A', 'f', 'F', 'j', 'a', 'E', 'J', 'e', 'S']"
      ],
      "execution_count": 0,
      "outputs": []
    },
    {
      "cell_type": "code",
      "metadata": {
        "id": "OoDKQqsXQ8ew",
        "colab_type": "code",
        "colab": {}
      },
      "source": [
        "def make_dataset(sample_database, no_of_sec, fs):\n",
        "    \n",
        "    #No of columns\n",
        "    num_cols = 2 * no_of_sec * fs\n",
        "    X_all = np.zeros((1, num_cols))\n",
        "    Y_all = np.zeros((1,1))\n",
        "    symbol_all = []\n",
        "    \n",
        "    max_rows = []\n",
        "    \n",
        "    for i in sample_database:\n",
        "        #file = path + i\n",
        "        print(i)\n",
        "        p_signal, atr_symbol, atr_sample = load_ecg_signal(i)\n",
        "        \n",
        "        #Take out first signal as there are 2 signals\n",
        "        p_signal = p_signal[:,0]\n",
        "        \n",
        "        #Make a dataframe to exclude irrevalent atr_symbol\n",
        "        #atr_sample is index of annotation\n",
        "        df_annotation = pd.DataFrame({'atr_symbol': atr_symbol,'atr_sample': atr_sample})\n",
        "        df_annotation = df_annotation.loc[df_annotation.atr_symbol.isin(abnormal + ['N'])]\n",
        "        \n",
        "        #Gives no of accepted pulses\n",
        "        no_of_rows = len(df_annotation)\n",
        "        \n",
        "        #creates matrix accordingly\n",
        "        X = np.zeros((no_of_rows, num_cols))\n",
        "        Y = np.zeros((no_of_rows, 1))\n",
        "        \n",
        "        #keep track of rows\n",
        "        row_number = 0\n",
        "        \n",
        "        #Now iterate through the dataframe\n",
        "        for atr_sample, atr_symbol in zip(df_annotation.atr_sample.values, df_annotation.atr_symbol.values):\n",
        "            \n",
        "            #Took min and max value in order to tackle the 2 extreme end cases\n",
        "            left = max([0, (atr_sample - no_of_sec * fs)])\n",
        "            right = min([len(p_signal), (atr_sample + no_of_sec * fs)])\n",
        "            x = p_signal[left: right]\n",
        "            \n",
        "            if len(x) == num_cols:\n",
        "            \n",
        "                #This will store all the values of p_signal from 'left' to 'right'\n",
        "                X[row_number, :] = x\n",
        "                \n",
        "                #This line will store 0 if its normal & 1 if its abnormal in Y\n",
        "                Y[row_number, :] = int(atr_symbol in abnormal)\n",
        "                \n",
        "                #A list consisting of all symbols\n",
        "                symbol_all.append(atr_symbol)\n",
        "                row_number += 1\n",
        "                \n",
        "        #Reduces rows of X and Y as we remove some datas whose len(x) != num_cols\n",
        "        X = X[: row_number, :]\n",
        "        Y = Y[: row_number, :]\n",
        "                \n",
        "        #For checking dimensions       \n",
        "        max_rows.append(row_number)\n",
        "                \n",
        "        #append X and Y from previous iteration with new data\n",
        "        X_all = np.append(X_all, X, axis = 0)\n",
        "        Y_all = np.append(Y_all, Y, axis = 0)\n",
        "     \n",
        "    #Removes first column as it contains only zeros when we initialized it\n",
        "    X_all = X_all[1:, :]\n",
        "    Y_all = Y_all[1:, :]\n",
        "            \n",
        "    \n",
        "    assert np.sum(max_rows) == X_all.shape[0], 'No of rows messed 1'\n",
        "    assert Y_all.shape[0] == X_all.shape[0], 'No of rows messed 2' \n",
        "    assert Y_all.shape[0] == len(symbol_all), 'No of rows messed 3'\n",
        "            \n",
        "    return X_all, Y_all, symbol_all"
      ],
      "execution_count": 0,
      "outputs": []
    },
    {
      "cell_type": "code",
      "metadata": {
        "id": "ww8OMoM4Q8e4",
        "colab_type": "code",
        "outputId": "74f7e157-4f3d-400f-ab98-57915a6850b7",
        "colab": {
          "base_uri": "https://localhost:8080/",
          "height": 890
        }
      },
      "source": [
        "#Lets keep no_of_sec as -+ of 3\n",
        "no_of_sec = 3\n",
        "#sampling frequency is 360\n",
        "fs = 360\n",
        "X_all, Y_all, Symbol_all = make_dataset(sample_database, no_of_sec, fs)"
      ],
      "execution_count": 46,
      "outputs": [
        {
          "output_type": "stream",
          "text": [
            "100\n",
            "101\n",
            "102\n",
            "103\n",
            "104\n",
            "105\n",
            "106\n",
            "107\n",
            "108\n",
            "109\n",
            "111\n",
            "112\n",
            "113\n",
            "114\n",
            "115\n",
            "116\n",
            "117\n",
            "118\n",
            "119\n",
            "121\n",
            "122\n",
            "123\n",
            "124\n",
            "200\n",
            "201\n",
            "202\n",
            "203\n",
            "205\n",
            "207\n",
            "208\n",
            "209\n",
            "210\n",
            "212\n",
            "213\n",
            "214\n",
            "215\n",
            "217\n",
            "219\n",
            "220\n",
            "221\n",
            "222\n",
            "223\n",
            "228\n",
            "230\n",
            "231\n",
            "232\n",
            "233\n",
            "234\n"
          ],
          "name": "stdout"
        }
      ]
    },
    {
      "cell_type": "code",
      "metadata": {
        "id": "GKvQv7nYQ8e-",
        "colab_type": "code",
        "outputId": "4534734f-6538-4b37-f219-20ca9e02b0f1",
        "colab": {
          "base_uri": "https://localhost:8080/",
          "height": 35
        }
      },
      "source": [
        "print(X_all.shape, Y_all.shape, len(Symbol_all))"
      ],
      "execution_count": 47,
      "outputs": [
        {
          "output_type": "stream",
          "text": [
            "(109099, 2160) (109099, 1) 109099\n"
          ],
          "name": "stdout"
        }
      ]
    },
    {
      "cell_type": "code",
      "metadata": {
        "id": "jiPdOxdAfZos",
        "colab_type": "code",
        "colab": {
          "base_uri": "https://localhost:8080/",
          "height": 35
        },
        "outputId": "3a241b4b-0f99-4726-ab22-b089b34735c5"
      },
      "source": [
        "np.unique(Y_all, return_counts= True)"
      ],
      "execution_count": 48,
      "outputs": [
        {
          "output_type": "execute_result",
          "data": {
            "text/plain": [
              "(array([0., 1.]), array([74795, 34304]))"
            ]
          },
          "metadata": {
            "tags": []
          },
          "execution_count": 48
        }
      ]
    },
    {
      "cell_type": "code",
      "metadata": {
        "id": "86FuDDaIUzDp",
        "colab_type": "code",
        "outputId": "fc532a5c-ccc4-4dd2-d870-1f95681472c2",
        "colab": {
          "base_uri": "https://localhost:8080/",
          "height": 297
        }
      },
      "source": [
        "plt.plot(X_all[5888])\n",
        "plt.xlabel('Time index')\n",
        "plt.ylabel('ECG Signal')\n",
        "plt.show\n",
        "print('Y value : ', Y_all[5888])"
      ],
      "execution_count": 49,
      "outputs": [
        {
          "output_type": "stream",
          "text": [
            "Y value :  [1.]\n"
          ],
          "name": "stdout"
        },
        {
          "output_type": "display_data",
          "data": {
            "image/png": "[encoded data removed]",
            "text/plain": [
              "<Figure size 432x288 with 1 Axes>"
            ]
          },
          "metadata": {
            "tags": []
          }
        }
      ]
    },
    {
      "cell_type": "code",
      "metadata": {
        "id": "2aTRK-CYVRYT",
        "colab_type": "code",
        "colab": {}
      },
      "source": [
        "#we naively just decided to randomly split our data by samples into a train and validation set.\n",
        "from sklearn.model_selection import train_test_split\n",
        "X_train, X_valid, Y_train, Y_valid = train_test_split(X_all, Y_all, test_size = 0.33, random_state = 69)"
      ],
      "execution_count": 0,
      "outputs": []
    },
    {
      "cell_type": "code",
      "metadata": {
        "id": "9J5uy5R0TpBk",
        "colab_type": "code",
        "colab": {}
      },
      "source": [
        "import tensorflow as tf\n",
        "from tensorflow.keras.models import Sequential\n",
        "from tensorflow.keras.layers import Dense, Conv2D, Flatten, Dropout, MaxPooling2D"
      ],
      "execution_count": 0,
      "outputs": []
    },
    {
      "cell_type": "code",
      "metadata": {
        "id": "aLOSZiDlh_qH",
        "colab_type": "code",
        "colab": {}
      },
      "source": [
        "model = Sequential()\n",
        "model.add(Dense(32, activation = 'relu', input_dim = X_train.shape[1]))\n",
        "model.add(Dropout(rate = 0.25))\n",
        "model.add(Dense(1, activation = 'sigmoid'))"
      ],
      "execution_count": 0,
      "outputs": []
    },
    {
      "cell_type": "code",
      "metadata": {
        "id": "RttRyBPaaAam",
        "colab_type": "code",
        "colab": {}
      },
      "source": [
        "model.compile(\n",
        "    loss = 'binary_crossentropy',\n",
        "    optimizer = 'adam',\n",
        "    metrics = ['accuracy']\n",
        ")"
      ],
      "execution_count": 0,
      "outputs": []
    },
    {
      "cell_type": "code",
      "metadata": {
        "id": "t1SPXb8haNH3",
        "colab_type": "code",
        "colab": {
          "base_uri": "https://localhost:8080/",
          "height": 235
        },
        "outputId": "7a042069-7117-4eea-ff3a-32d19778c135"
      },
      "source": [
        "model.fit(X_train, Y_train, batch_size = 32, epochs = 5, verbose = 1)"
      ],
      "execution_count": 54,
      "outputs": [
        {
          "output_type": "stream",
          "text": [
            "Train on 73096 samples\n",
            "Epoch 1/5\n",
            "73096/73096 [==============================] - 6s 81us/sample - loss: 0.2501 - accuracy: 0.9058\n",
            "Epoch 2/5\n",
            "73096/73096 [==============================] - 6s 81us/sample - loss: 0.1608 - accuracy: 0.9474\n",
            "Epoch 3/5\n",
            "73096/73096 [==============================] - 5s 70us/sample - loss: 0.1418 - accuracy: 0.9539\n",
            "Epoch 4/5\n",
            "73096/73096 [==============================] - 5s 71us/sample - loss: 0.1338 - accuracy: 0.9588\n",
            "Epoch 5/5\n",
            "73096/73096 [==============================] - 5s 71us/sample - loss: 0.1254 - accuracy: 0.9616\n"
          ],
          "name": "stdout"
        },
        {
          "output_type": "execute_result",
          "data": {
            "text/plain": [
              "<tensorflow.python.keras.callbacks.History at 0x7f53abb311d0>"
            ]
          },
          "metadata": {
            "tags": []
          },
          "execution_count": 54
        }
      ]
    },
    {
      "cell_type": "code",
      "metadata": {
        "id": "VfQFgNc0dBjT",
        "colab_type": "code",
        "colab": {}
      },
      "source": [
        "from sklearn.metrics import roc_auc_score, accuracy_score, precision_score, recall_score\n",
        "\n",
        "def calc_prevalence(Y_actual):\n",
        "  return sum(Y_actual)/ len(Y_actual)\n",
        "\n",
        "def calc_specificity(Y_actual, Y_pred, thresh):\n",
        "  return sum((Y_pred < thresh) & (Y_actual == 0))/ sum(Y_actual == 0)\n",
        "\n",
        "def print_report(Y_actual, Y_pred, thresh):\n",
        "\n",
        "  auc = roc_auc_score(Y_actual, Y_pred)\n",
        "  accuracy = accuracy_score(Y_actual, (Y_pred > thresh))\n",
        "  recall = recall_score(Y_actual, (Y_pred > thresh))\n",
        "  precision = precision_score(Y_actual, (Y_pred > thresh))\n",
        "  specificity = calc_specificity(Y_actual, Y_pred, thresh)\n",
        "  prevalence = calc_prevalence(Y_actual)\n",
        "  print('AUC: %.3f' %auc)\n",
        "  print('Accuracy: %.3f' %accuracy)\n",
        "  print('Recall: %.3f' %recall)\n",
        "  print('Precision: %.3f' %precision)\n",
        "  print('Specificity: %.3f' %specificity)\n",
        "  print('Prevalence: %.3f' %prevalence)\n",
        "  print('')\n",
        "  return auc, accuracy, recall, precision, specificity\n"
      ],
      "execution_count": 0,
      "outputs": []
    },
    {
      "cell_type": "code",
      "metadata": {
        "id": "hVxQ7h80kco1",
        "colab_type": "code",
        "colab": {
          "base_uri": "https://localhost:8080/",
          "height": 54
        },
        "outputId": "97242c55-34fe-4654-b8c1-9e2753db6565"
      },
      "source": [
        "Y_train_preds_dense = model.predict_proba(X_train, verbose = 1)\n",
        "Y_valid_preds_dense = model.predict_proba(X_valid, verbose = 1)"
      ],
      "execution_count": 56,
      "outputs": [
        {
          "output_type": "stream",
          "text": [
            "73096/73096 [==============================] - 2s 33us/sample\n",
            "36003/36003 [==============================] - 1s 28us/sample\n"
          ],
          "name": "stdout"
        }
      ]
    },
    {
      "cell_type": "code",
      "metadata": {
        "id": "AcL7fjYSlfKB",
        "colab_type": "code",
        "colab": {
          "base_uri": "https://localhost:8080/",
          "height": 35
        },
        "outputId": "a0a06348-6a82-4e89-8a01-a5e10e5d7819"
      },
      "source": [
        "#It calculates the ratio of number of values of Y_train = 0 to size of Y_train\n",
        "thresh = (sum(Y_train)/ len(Y_train))[0]\n",
        "thresh"
      ],
      "execution_count": 57,
      "outputs": [
        {
          "output_type": "execute_result",
          "data": {
            "text/plain": [
              "0.3161732516143154"
            ]
          },
          "metadata": {
            "tags": []
          },
          "execution_count": 57
        }
      ]
    },
    {
      "cell_type": "code",
      "metadata": {
        "id": "VxASdQJBlpJT",
        "colab_type": "code",
        "colab": {
          "base_uri": "https://localhost:8080/",
          "height": 399
        },
        "outputId": "011ddcce-9532-423e-e3eb-9a74b60e7d22"
      },
      "source": [
        "print('Train');\n",
        "print_report(Y_train, Y_train_preds_dense, thresh)\n",
        "print('Valid');\n",
        "print_report(Y_valid, Y_valid_preds_dense, thresh)"
      ],
      "execution_count": 60,
      "outputs": [
        {
          "output_type": "stream",
          "text": [
            "Train\n",
            "AUC: 0.991\n",
            "Accuracy: 0.968\n",
            "Recall: 0.940\n",
            "Precision: 0.960\n",
            "Specificity: 0.982\n",
            "Prevalence: 0.316\n",
            "\n",
            "Valid\n",
            "AUC: 0.987\n",
            "Accuracy: 0.964\n",
            "Recall: 0.932\n",
            "Precision: 0.950\n",
            "Specificity: 0.978\n",
            "Prevalence: 0.311\n",
            "\n"
          ],
          "name": "stdout"
        },
        {
          "output_type": "execute_result",
          "data": {
            "text/plain": [
              "(0.987003454432009,\n",
              " 0.9635585923395272,\n",
              " 0.9320110783525418,\n",
              " 0.9498315578621506,\n",
              " array([0.97779121]))"
            ]
          },
          "metadata": {
            "tags": []
          },
          "execution_count": 60
        }
      ]
    },
    {
      "cell_type": "code",
      "metadata": {
        "id": "xVFCQeKimWsO",
        "colab_type": "code",
        "colab": {
          "base_uri": "https://localhost:8080/",
          "height": 35
        },
        "outputId": "f3a3492a-7555-49a7-904c-f65b27245439"
      },
      "source": [
        "#Technically the same patient can show up in both the training and validation sets. \n",
        "#This means that we may have accidentally leaked information across the datasets. \n",
        "#We can test this idea by splitting on patients instead of samples.\n",
        "import random\n",
        "random.seed(27)\n",
        "pts_train = random.sample(sample_database, 36)\n",
        "pts_valid = [pt for pt in sample_database if pt not in pts_train]\n",
        "print(len(pts_train), len(pts_valid))"
      ],
      "execution_count": 61,
      "outputs": [
        {
          "output_type": "stream",
          "text": [
            "36 12\n"
          ],
          "name": "stdout"
        }
      ]
    },
    {
      "cell_type": "code",
      "metadata": {
        "id": "H3JABRl_qG_e",
        "colab_type": "code",
        "colab": {
          "base_uri": "https://localhost:8080/",
          "height": 926
        },
        "outputId": "7baad8c1-7e5b-4a00-e0c5-4e49559f2eb4"
      },
      "source": [
        "X_train, Y_train, Sym_train = make_dataset(pts_train, no_of_sec, fs)\n",
        "X_valid, Y_valid, Sym_valid = make_dataset(pts_valid, no_of_sec, fs)\n",
        "print(X_train.shape, Y_train.shape, len(Sym_train))\n",
        "print(X_valid.shape, Y_valid.shape, len(Sym_valid))"
      ],
      "execution_count": 64,
      "outputs": [
        {
          "output_type": "stream",
          "text": [
            "223\n",
            "209\n",
            "231\n",
            "118\n",
            "119\n",
            "113\n",
            "104\n",
            "234\n",
            "117\n",
            "214\n",
            "123\n",
            "221\n",
            "200\n",
            "202\n",
            "112\n",
            "116\n",
            "212\n",
            "210\n",
            "203\n",
            "102\n",
            "215\n",
            "122\n",
            "230\n",
            "208\n",
            "207\n",
            "121\n",
            "114\n",
            "219\n",
            "101\n",
            "115\n",
            "213\n",
            "100\n",
            "233\n",
            "222\n",
            "205\n",
            "109\n",
            "103\n",
            "105\n",
            "106\n",
            "107\n",
            "108\n",
            "111\n",
            "124\n",
            "201\n",
            "217\n",
            "220\n",
            "228\n",
            "232\n",
            "(84802, 2160) (84802, 1) 84802\n",
            "(24297, 2160) (24297, 1) 24297\n"
          ],
          "name": "stdout"
        }
      ]
    },
    {
      "cell_type": "markdown",
      "metadata": {
        "id": "96uMuClItatY",
        "colab_type": "text"
      },
      "source": [
        "Let's try to implement CNN"
      ]
    },
    {
      "cell_type": "code",
      "metadata": {
        "id": "leVvmTGpqrMi",
        "colab_type": "code",
        "colab": {
          "base_uri": "https://localhost:8080/",
          "height": 54
        },
        "outputId": "882ad574-98e2-483e-d065-966fc0cc81a9"
      },
      "source": [
        "X_train_cnn = np.reshape(X_train, (X_train.shape[0], X_train.shape[1], 1))\n",
        "X_valid_cnn = np.reshape(X_valid, (X_valid.shape[0], X_valid.shape[1], 1))\n",
        "\n",
        "print(X_train_cnn.shape)\n",
        "print(X_valid_cnn.shape)"
      ],
      "execution_count": 68,
      "outputs": [
        {
          "output_type": "stream",
          "text": [
            "(84802, 2160, 1)\n",
            "(24297, 2160, 1)\n"
          ],
          "name": "stdout"
        }
      ]
    },
    {
      "cell_type": "code",
      "metadata": {
        "id": "QhBQ1rAut-GU",
        "colab_type": "code",
        "colab": {}
      },
      "source": [
        "from tensorflow.keras.layers import Conv1D"
      ],
      "execution_count": 0,
      "outputs": []
    },
    {
      "cell_type": "code",
      "metadata": {
        "id": "z5HN8PrBuTzp",
        "colab_type": "code",
        "colab": {}
      },
      "source": [
        "model = Sequential()\n",
        "model.add(Conv1D(filters = 128, kernel_size = 5, activation = 'relu', input_shape = (X_train.shape[1], 1)))\n",
        "model.add(Dropout(rate = 0.25))\n",
        "model.add(Flatten())\n",
        "model.add(Dense(1, activation = 'sigmoid'))"
      ],
      "execution_count": 0,
      "outputs": []
    },
    {
      "cell_type": "code",
      "metadata": {
        "id": "M_asA3amu7lr",
        "colab_type": "code",
        "colab": {}
      },
      "source": [
        "model.compile(\n",
        "    loss = 'binary_crossentropy',\n",
        "    optimizer = 'adam',\n",
        "    metrics = ['accuracy']\n",
        ")"
      ],
      "execution_count": 0,
      "outputs": []
    },
    {
      "cell_type": "code",
      "metadata": {
        "id": "YRDiszhyvCHm",
        "colab_type": "code",
        "colab": {
          "base_uri": "https://localhost:8080/",
          "height": 235
        },
        "outputId": "fb005e6b-3bc6-4852-ab8b-cf72dc224419"
      },
      "source": [
        "model.fit(X_train_cnn, Y_train, batch_size = 32, epochs = 5, verbose = 1)"
      ],
      "execution_count": 75,
      "outputs": [
        {
          "output_type": "stream",
          "text": [
            "Train on 84802 samples\n",
            "Epoch 1/5\n",
            "84802/84802 [==============================] - 376s 4ms/sample - loss: 0.1634 - accuracy: 0.9465\n",
            "Epoch 2/5\n",
            "84802/84802 [==============================] - 374s 4ms/sample - loss: 0.1009 - accuracy: 0.9682\n",
            "Epoch 3/5\n",
            "84802/84802 [==============================] - 373s 4ms/sample - loss: 0.0860 - accuracy: 0.9725\n",
            "Epoch 4/5\n",
            "84802/84802 [==============================] - 373s 4ms/sample - loss: 0.0778 - accuracy: 0.9747\n",
            "Epoch 5/5\n",
            "84802/84802 [==============================] - 372s 4ms/sample - loss: 0.0727 - accuracy: 0.9765\n"
          ],
          "name": "stdout"
        },
        {
          "output_type": "execute_result",
          "data": {
            "text/plain": [
              "<tensorflow.python.keras.callbacks.History at 0x7f53ab50aa90>"
            ]
          },
          "metadata": {
            "tags": []
          },
          "execution_count": 75
        }
      ]
    },
    {
      "cell_type": "code",
      "metadata": {
        "id": "AgIwAKmzvIoW",
        "colab_type": "code",
        "colab": {
          "base_uri": "https://localhost:8080/",
          "height": 54
        },
        "outputId": "7aebe1f0-b528-467c-c4ae-ee90bfcb5153"
      },
      "source": [
        "Y_train_preds_cnn = model.predict_proba(X_train_cnn, verbose = 1)\n",
        "Y_valid_preds_cnn = model.predict_proba(X_valid_cnn, verbose = 1)"
      ],
      "execution_count": 76,
      "outputs": [
        {
          "output_type": "stream",
          "text": [
            "84802/84802 [==============================] - 53s 628us/sample\n",
            "24297/24297 [==============================] - 15s 629us/sample\n"
          ],
          "name": "stdout"
        }
      ]
    },
    {
      "cell_type": "code",
      "metadata": {
        "id": "rdQxZ6Ok2ZVW",
        "colab_type": "code",
        "colab": {}
      },
      "source": [
        "#It calculates the ratio of number of values of Y_train = 0 to size of Y_train\n",
        "thresh = (sum(Y_train)/ len(Y_train))[0]\n",
        "thresh"
      ],
      "execution_count": 0,
      "outputs": []
    },
    {
      "cell_type": "code",
      "metadata": {
        "id": "JR0jonOo2iIp",
        "colab_type": "code",
        "colab": {}
      },
      "source": [
        "print('Train');\n",
        "print_report(Y_train_cnn, Y_train_preds_cnn, thresh)\n",
        "print('Valid');\n",
        "print_report(Y_valid_cnn, Y_valid_preds_cnn, thresh)"
      ],
      "execution_count": 0,
      "outputs": []
    }
  ]
}