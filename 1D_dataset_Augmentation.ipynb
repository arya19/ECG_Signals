{
  "nbformat": 4,
  "nbformat_minor": 0,
  "metadata": {
    "colab": {
      "name": "1D_dataset_Augmentation.ipynb",
      "provenance": [],
      "authorship_tag": "ABX9TyPGAJ7BmglMzQ5ySUmasED7",
      "include_colab_link": true
    },
    "kernelspec": {
      "name": "python3",
      "display_name": "Python 3"
    },
    "accelerator": "GPU"
  },
  "cells": [
    {
      "cell_type": "markdown",
      "metadata": {
        "id": "view-in-github",
        "colab_type": "text"
      },
      "source": [
        "<a href=\"https://colab.research.google.com/github/utkarshsharma1/ECG_Signals/blob/master/1D_dataset_Augmentation.ipynb\" target=\"_parent\"><img src=\"https://colab.research.google.com/assets/colab-badge.svg\" alt=\"Open In Colab\"/></a>"
      ]
    },
    {
      "cell_type": "code",
      "metadata": {
        "id": "Rb5aqcgxcbln",
        "colab_type": "code",
        "colab": {
          "base_uri": "https://localhost:8080/",
          "height": 85
        },
        "outputId": "35780170-8511-4f47-84ab-d8ab2bb434d6"
      },
      "source": [
        "try:\n",
        "  # %tensorflow_version only exists in Colab.\n",
        "  %tensorflow_version 2.x\n",
        "except Exception:\n",
        "  pass\n",
        "\n",
        "!pip install pyyaml h5py  # Required to save models in HDF5 format"
      ],
      "execution_count": null,
      "outputs": [
        {
          "output_type": "stream",
          "text": [
            "Requirement already satisfied: pyyaml in /usr/local/lib/python3.6/dist-packages (3.13)\n",
            "Requirement already satisfied: h5py in /usr/local/lib/python3.6/dist-packages (2.10.0)\n",
            "Requirement already satisfied: numpy>=1.7 in /usr/local/lib/python3.6/dist-packages (from h5py) (1.18.2)\n",
            "Requirement already satisfied: six in /usr/local/lib/python3.6/dist-packages (from h5py) (1.12.0)\n"
          ],
          "name": "stdout"
        }
      ]
    },
    {
      "cell_type": "code",
      "metadata": {
        "id": "5UBPTDBhcw8n",
        "colab_type": "code",
        "colab": {
          "base_uri": "https://localhost:8080/",
          "height": 122
        },
        "outputId": "07123ec1-d548-4e26-9b82-6bc9ea62dcbe"
      },
      "source": [
        "from google.colab import drive\n",
        "drive.mount('/content/drive')"
      ],
      "execution_count": null,
      "outputs": [
        {
          "output_type": "stream",
          "text": [
            "Go to this URL in a browser: https://accounts.google.com/o/oauth2/auth?client_id=947318989803-6bn6qk8qdgf4n4g3pfee6491hc0brc4i.apps.googleusercontent.com&redirect_uri=urn%3aietf%3awg%3aoauth%3a2.0%3aoob&response_type=code&scope=email%20https%3a%2f%2fwww.googleapis.com%2fauth%2fdocs.test%20https%3a%2f%2fwww.googleapis.com%2fauth%2fdrive%20https%3a%2f%2fwww.googleapis.com%2fauth%2fdrive.photos.readonly%20https%3a%2f%2fwww.googleapis.com%2fauth%2fpeopleapi.readonly\n",
            "\n",
            "Enter your authorization code:\n",
            "··········\n",
            "Mounted at /content/drive\n"
          ],
          "name": "stdout"
        }
      ]
    },
    {
      "cell_type": "code",
      "metadata": {
        "id": "cnJ01zg_cxrc",
        "colab_type": "code",
        "colab": {}
      },
      "source": [
        "%matplotlib inline\n",
        "\n",
        "import pandas as pd\n",
        "import numpy as np\n",
        "import os\n",
        "from sklearn.utils import shuffle\n",
        "import matplotlib.pyplot as plt\n",
        "import h5py\n",
        "import math\n",
        "from glob import glob\n",
        "from scipy.signal import resample\n",
        "import random\n",
        "np.random.seed(42)\n",
        "import seaborn as sns"
      ],
      "execution_count": null,
      "outputs": []
    },
    {
      "cell_type": "markdown",
      "metadata": {
        "id": "z4KUDSFCdLjE",
        "colab_type": "text"
      },
      "source": [
        "#Load Data"
      ]
    },
    {
      "cell_type": "code",
      "metadata": {
        "id": "VwYLoEICdJsN",
        "colab_type": "code",
        "colab": {
          "base_uri": "https://localhost:8080/",
          "height": 1000
        },
        "outputId": "a159e736-d28e-4bfa-93f9-1eefd72d6cf3"
      },
      "source": [
        "alldata = np.empty(shape=[0, 188])\n",
        "\n",
        "paths = glob('/content/drive/My Drive/Colab Notebooks/data_ecg/*.csv')\n",
        "for path in paths:\n",
        "    try:\n",
        "      #It only takes files of our dataset and ignores rest\n",
        "      if(path.split('/')[-1][0] == '1' or path.split('/')[-1][0] == '2'):\n",
        "        print('Loading ', path)\n",
        "        csvrows = np.loadtxt(path, delimiter=',')\n",
        "        alldata = np.append(alldata, csvrows, axis=0)\n",
        "    except:\n",
        "      print(\"Error\")"
      ],
      "execution_count": null,
      "outputs": [
        {
          "output_type": "stream",
          "text": [
            "Loading  /content/drive/My Drive/Colab Notebooks/data_ecg/100_MLII.csv\n",
            "Loading  /content/drive/My Drive/Colab Notebooks/data_ecg/100_V5.csv\n",
            "Loading  /content/drive/My Drive/Colab Notebooks/data_ecg/101_MLII.csv\n",
            "Loading  /content/drive/My Drive/Colab Notebooks/data_ecg/101_V1.csv\n",
            "Loading  /content/drive/My Drive/Colab Notebooks/data_ecg/102_V5.csv\n",
            "Loading  /content/drive/My Drive/Colab Notebooks/data_ecg/102_V2.csv\n",
            "Loading  /content/drive/My Drive/Colab Notebooks/data_ecg/103_MLII.csv\n",
            "Loading  /content/drive/My Drive/Colab Notebooks/data_ecg/103_V2.csv\n",
            "Loading  /content/drive/My Drive/Colab Notebooks/data_ecg/104_V5.csv\n",
            "Loading  /content/drive/My Drive/Colab Notebooks/data_ecg/104_V2.csv\n",
            "Loading  /content/drive/My Drive/Colab Notebooks/data_ecg/105_MLII.csv\n",
            "Loading  /content/drive/My Drive/Colab Notebooks/data_ecg/105_V1.csv\n",
            "Loading  /content/drive/My Drive/Colab Notebooks/data_ecg/106_MLII.csv\n",
            "Loading  /content/drive/My Drive/Colab Notebooks/data_ecg/106_V1.csv\n",
            "Loading  /content/drive/My Drive/Colab Notebooks/data_ecg/107_MLII.csv\n",
            "Loading  /content/drive/My Drive/Colab Notebooks/data_ecg/107_V1.csv\n",
            "Loading  /content/drive/My Drive/Colab Notebooks/data_ecg/108_MLII.csv\n",
            "Loading  /content/drive/My Drive/Colab Notebooks/data_ecg/108_V1.csv\n",
            "Loading  /content/drive/My Drive/Colab Notebooks/data_ecg/109_MLII.csv\n",
            "Loading  /content/drive/My Drive/Colab Notebooks/data_ecg/109_V1.csv\n",
            "Loading  /content/drive/My Drive/Colab Notebooks/data_ecg/111_MLII.csv\n",
            "Loading  /content/drive/My Drive/Colab Notebooks/data_ecg/111_V1.csv\n",
            "Loading  /content/drive/My Drive/Colab Notebooks/data_ecg/112_MLII.csv\n",
            "Loading  /content/drive/My Drive/Colab Notebooks/data_ecg/112_V1.csv\n",
            "Loading  /content/drive/My Drive/Colab Notebooks/data_ecg/113_MLII.csv\n",
            "Loading  /content/drive/My Drive/Colab Notebooks/data_ecg/113_V1.csv\n",
            "Loading  /content/drive/My Drive/Colab Notebooks/data_ecg/114_V5.csv\n",
            "Loading  /content/drive/My Drive/Colab Notebooks/data_ecg/114_MLII.csv\n",
            "Loading  /content/drive/My Drive/Colab Notebooks/data_ecg/115_MLII.csv\n",
            "Loading  /content/drive/My Drive/Colab Notebooks/data_ecg/115_V1.csv\n",
            "Loading  /content/drive/My Drive/Colab Notebooks/data_ecg/116_MLII.csv\n",
            "Loading  /content/drive/My Drive/Colab Notebooks/data_ecg/116_V1.csv\n",
            "Loading  /content/drive/My Drive/Colab Notebooks/data_ecg/117_MLII.csv\n",
            "Loading  /content/drive/My Drive/Colab Notebooks/data_ecg/117_V2.csv\n",
            "Loading  /content/drive/My Drive/Colab Notebooks/data_ecg/118_MLII.csv\n",
            "Loading  /content/drive/My Drive/Colab Notebooks/data_ecg/118_V1.csv\n",
            "Loading  /content/drive/My Drive/Colab Notebooks/data_ecg/119_MLII.csv\n",
            "Loading  /content/drive/My Drive/Colab Notebooks/data_ecg/119_V1.csv\n",
            "Loading  /content/drive/My Drive/Colab Notebooks/data_ecg/121_MLII.csv\n",
            "Loading  /content/drive/My Drive/Colab Notebooks/data_ecg/121_V1.csv\n",
            "Loading  /content/drive/My Drive/Colab Notebooks/data_ecg/122_MLII.csv\n",
            "Loading  /content/drive/My Drive/Colab Notebooks/data_ecg/122_V1.csv\n",
            "Loading  /content/drive/My Drive/Colab Notebooks/data_ecg/123_MLII.csv\n",
            "Loading  /content/drive/My Drive/Colab Notebooks/data_ecg/123_V5.csv\n",
            "Loading  /content/drive/My Drive/Colab Notebooks/data_ecg/124_MLII.csv\n",
            "Loading  /content/drive/My Drive/Colab Notebooks/data_ecg/124_V4.csv\n",
            "Loading  /content/drive/My Drive/Colab Notebooks/data_ecg/200_MLII.csv\n",
            "Loading  /content/drive/My Drive/Colab Notebooks/data_ecg/200_V1.csv\n",
            "Loading  /content/drive/My Drive/Colab Notebooks/data_ecg/201_MLII.csv\n",
            "Loading  /content/drive/My Drive/Colab Notebooks/data_ecg/201_V1.csv\n",
            "Loading  /content/drive/My Drive/Colab Notebooks/data_ecg/202_MLII.csv\n",
            "Loading  /content/drive/My Drive/Colab Notebooks/data_ecg/202_V1.csv\n",
            "Loading  /content/drive/My Drive/Colab Notebooks/data_ecg/203_MLII.csv\n",
            "Loading  /content/drive/My Drive/Colab Notebooks/data_ecg/203_V1.csv\n",
            "Loading  /content/drive/My Drive/Colab Notebooks/data_ecg/205_MLII.csv\n",
            "Loading  /content/drive/My Drive/Colab Notebooks/data_ecg/205_V1.csv\n",
            "Loading  /content/drive/My Drive/Colab Notebooks/data_ecg/207_MLII.csv\n",
            "Loading  /content/drive/My Drive/Colab Notebooks/data_ecg/207_V1.csv\n",
            "Loading  /content/drive/My Drive/Colab Notebooks/data_ecg/208_MLII.csv\n",
            "Loading  /content/drive/My Drive/Colab Notebooks/data_ecg/208_V1.csv\n",
            "Loading  /content/drive/My Drive/Colab Notebooks/data_ecg/209_MLII.csv\n",
            "Loading  /content/drive/My Drive/Colab Notebooks/data_ecg/209_V1.csv\n",
            "Loading  /content/drive/My Drive/Colab Notebooks/data_ecg/210_MLII.csv\n",
            "Loading  /content/drive/My Drive/Colab Notebooks/data_ecg/210_V1.csv\n",
            "Loading  /content/drive/My Drive/Colab Notebooks/data_ecg/212_MLII.csv\n",
            "Loading  /content/drive/My Drive/Colab Notebooks/data_ecg/212_V1.csv\n",
            "Loading  /content/drive/My Drive/Colab Notebooks/data_ecg/213_MLII.csv\n",
            "Loading  /content/drive/My Drive/Colab Notebooks/data_ecg/213_V1.csv\n",
            "Loading  /content/drive/My Drive/Colab Notebooks/data_ecg/214_MLII.csv\n",
            "Loading  /content/drive/My Drive/Colab Notebooks/data_ecg/214_V1.csv\n",
            "Loading  /content/drive/My Drive/Colab Notebooks/data_ecg/215_MLII.csv\n",
            "Loading  /content/drive/My Drive/Colab Notebooks/data_ecg/215_V1.csv\n",
            "Loading  /content/drive/My Drive/Colab Notebooks/data_ecg/217_MLII.csv\n",
            "Loading  /content/drive/My Drive/Colab Notebooks/data_ecg/217_V1.csv\n",
            "Loading  /content/drive/My Drive/Colab Notebooks/data_ecg/219_MLII.csv\n",
            "Loading  /content/drive/My Drive/Colab Notebooks/data_ecg/219_V1.csv\n",
            "Loading  /content/drive/My Drive/Colab Notebooks/data_ecg/220_MLII.csv\n",
            "Loading  /content/drive/My Drive/Colab Notebooks/data_ecg/220_V1.csv\n",
            "Loading  /content/drive/My Drive/Colab Notebooks/data_ecg/221_MLII.csv\n",
            "Loading  /content/drive/My Drive/Colab Notebooks/data_ecg/221_V1.csv\n",
            "Loading  /content/drive/My Drive/Colab Notebooks/data_ecg/222_MLII.csv\n",
            "Loading  /content/drive/My Drive/Colab Notebooks/data_ecg/222_V1.csv\n",
            "Loading  /content/drive/My Drive/Colab Notebooks/data_ecg/223_MLII.csv\n",
            "Loading  /content/drive/My Drive/Colab Notebooks/data_ecg/223_V1.csv\n",
            "Loading  /content/drive/My Drive/Colab Notebooks/data_ecg/228_MLII.csv\n",
            "Loading  /content/drive/My Drive/Colab Notebooks/data_ecg/228_V1.csv\n",
            "Loading  /content/drive/My Drive/Colab Notebooks/data_ecg/230_MLII.csv\n",
            "Loading  /content/drive/My Drive/Colab Notebooks/data_ecg/230_V1.csv\n",
            "Loading  /content/drive/My Drive/Colab Notebooks/data_ecg/231_MLII.csv\n",
            "Loading  /content/drive/My Drive/Colab Notebooks/data_ecg/231_V1.csv\n",
            "Loading  /content/drive/My Drive/Colab Notebooks/data_ecg/232_MLII.csv\n",
            "Loading  /content/drive/My Drive/Colab Notebooks/data_ecg/232_V1.csv\n",
            "Loading  /content/drive/My Drive/Colab Notebooks/data_ecg/233_MLII.csv\n",
            "Loading  /content/drive/My Drive/Colab Notebooks/data_ecg/233_V1.csv\n",
            "Loading  /content/drive/My Drive/Colab Notebooks/data_ecg/234_MLII.csv\n",
            "Loading  /content/drive/My Drive/Colab Notebooks/data_ecg/234_V1.csv\n"
          ],
          "name": "stdout"
        }
      ]
    },
    {
      "cell_type": "code",
      "metadata": {
        "id": "JdWpReo_E78B",
        "colab_type": "code",
        "colab": {
          "base_uri": "https://localhost:8080/",
          "height": 51
        },
        "outputId": "ef630dc3-9db1-4977-d448-543d6047d80a"
      },
      "source": [
        "print(alldata.shape)\n",
        "print(np.unique(alldata[:,187], return_counts=True))"
      ],
      "execution_count": null,
      "outputs": [
        {
          "output_type": "stream",
          "text": [
            "(146234, 188)\n",
            "(array([0., 1., 2., 3., 4., 5.]), array([112447,   6566,   9585,   4783,   9722,   3131]))\n"
          ],
          "name": "stdout"
        }
      ]
    },
    {
      "cell_type": "code",
      "metadata": {
        "id": "Oj7VfYeNR7om",
        "colab_type": "code",
        "colab": {
          "base_uri": "https://localhost:8080/",
          "height": 295
        },
        "outputId": "89d57262-0dfa-45e1-b6bd-53c14bad40e6"
      },
      "source": [
        "a, b = np.unique(alldata[:,187], return_counts=True)\n",
        "plt.figure(figsize= (7, 4))\n",
        "plt.xlabel(\"Category\")\n",
        "plt.ylabel(\"Counts\")  \n",
        "plt.title(\"Distribution of data before augmentation\")\n",
        "A = ['N', 'L', 'R', 'V', '/', 'A']\n",
        "plt.bar(a, b, tick_label = A )\n",
        "plt.savefig(\"/content/drive/My Drive/Colab Notebooks/1D_output/data_distribution.jpg\")"
      ],
      "execution_count": null,
      "outputs": [
        {
          "output_type": "display_data",
          "data": {
            "image/png": "[encoded data removed]",
            "text/plain": [
              "<Figure size 504x288 with 1 Axes>"
            ]
          },
          "metadata": {
            "tags": [],
            "needs_background": "light"
          }
        }
      ]
    },
    {
      "cell_type": "code",
      "metadata": {
        "id": "ks5bfHpUM0xa",
        "colab_type": "code",
        "colab": {
          "base_uri": "https://localhost:8080/",
          "height": 253
        },
        "outputId": "083d438a-438e-4252-ab5d-7597c14b8a14"
      },
      "source": [
        "df = pd.DataFrame.from_records(alldata)\n",
        "df.head()"
      ],
      "execution_count": null,
      "outputs": [
        {
          "output_type": "execute_result",
          "data": {
            "text/html": [
              "<div>\n",
              "<style scoped>\n",
              "    .dataframe tbody tr th:only-of-type {\n",
              "        vertical-align: middle;\n",
              "    }\n",
              "\n",
              "    .dataframe tbody tr th {\n",
              "        vertical-align: top;\n",
              "    }\n",
              "\n",
              "    .dataframe thead th {\n",
              "        text-align: right;\n",
              "    }\n",
              "</style>\n",
              "<table border=\"1\" class=\"dataframe\">\n",
              "  <thead>\n",
              "    <tr style=\"text-align: right;\">\n",
              "      <th></th>\n",
              "      <th>0</th>\n",
              "      <th>1</th>\n",
              "      <th>2</th>\n",
              "      <th>3</th>\n",
              "      <th>4</th>\n",
              "      <th>5</th>\n",
              "      <th>6</th>\n",
              "      <th>7</th>\n",
              "      <th>8</th>\n",
              "      <th>9</th>\n",
              "      <th>10</th>\n",
              "      <th>11</th>\n",
              "      <th>12</th>\n",
              "      <th>13</th>\n",
              "      <th>14</th>\n",
              "      <th>15</th>\n",
              "      <th>16</th>\n",
              "      <th>17</th>\n",
              "      <th>18</th>\n",
              "      <th>19</th>\n",
              "      <th>20</th>\n",
              "      <th>21</th>\n",
              "      <th>22</th>\n",
              "      <th>23</th>\n",
              "      <th>24</th>\n",
              "      <th>25</th>\n",
              "      <th>26</th>\n",
              "      <th>27</th>\n",
              "      <th>28</th>\n",
              "      <th>29</th>\n",
              "      <th>30</th>\n",
              "      <th>31</th>\n",
              "      <th>32</th>\n",
              "      <th>33</th>\n",
              "      <th>34</th>\n",
              "      <th>35</th>\n",
              "      <th>36</th>\n",
              "      <th>37</th>\n",
              "      <th>38</th>\n",
              "      <th>39</th>\n",
              "      <th>...</th>\n",
              "      <th>148</th>\n",
              "      <th>149</th>\n",
              "      <th>150</th>\n",
              "      <th>151</th>\n",
              "      <th>152</th>\n",
              "      <th>153</th>\n",
              "      <th>154</th>\n",
              "      <th>155</th>\n",
              "      <th>156</th>\n",
              "      <th>157</th>\n",
              "      <th>158</th>\n",
              "      <th>159</th>\n",
              "      <th>160</th>\n",
              "      <th>161</th>\n",
              "      <th>162</th>\n",
              "      <th>163</th>\n",
              "      <th>164</th>\n",
              "      <th>165</th>\n",
              "      <th>166</th>\n",
              "      <th>167</th>\n",
              "      <th>168</th>\n",
              "      <th>169</th>\n",
              "      <th>170</th>\n",
              "      <th>171</th>\n",
              "      <th>172</th>\n",
              "      <th>173</th>\n",
              "      <th>174</th>\n",
              "      <th>175</th>\n",
              "      <th>176</th>\n",
              "      <th>177</th>\n",
              "      <th>178</th>\n",
              "      <th>179</th>\n",
              "      <th>180</th>\n",
              "      <th>181</th>\n",
              "      <th>182</th>\n",
              "      <th>183</th>\n",
              "      <th>184</th>\n",
              "      <th>185</th>\n",
              "      <th>186</th>\n",
              "      <th>187</th>\n",
              "    </tr>\n",
              "  </thead>\n",
              "  <tbody>\n",
              "    <tr>\n",
              "      <th>0</th>\n",
              "      <td>0.669411</td>\n",
              "      <td>0.579191</td>\n",
              "      <td>0.027081</td>\n",
              "      <td>0.159776</td>\n",
              "      <td>0.109931</td>\n",
              "      <td>0.165558</td>\n",
              "      <td>0.127484</td>\n",
              "      <td>0.147963</td>\n",
              "      <td>0.123659</td>\n",
              "      <td>0.152570</td>\n",
              "      <td>0.120649</td>\n",
              "      <td>0.147532</td>\n",
              "      <td>0.140926</td>\n",
              "      <td>0.141007</td>\n",
              "      <td>0.120620</td>\n",
              "      <td>0.136173</td>\n",
              "      <td>0.132908</td>\n",
              "      <td>0.138769</td>\n",
              "      <td>0.137194</td>\n",
              "      <td>0.137430</td>\n",
              "      <td>0.127765</td>\n",
              "      <td>0.127547</td>\n",
              "      <td>0.140362</td>\n",
              "      <td>0.134910</td>\n",
              "      <td>0.134581</td>\n",
              "      <td>0.125649</td>\n",
              "      <td>0.135959</td>\n",
              "      <td>0.127262</td>\n",
              "      <td>0.135332</td>\n",
              "      <td>0.125608</td>\n",
              "      <td>0.127909</td>\n",
              "      <td>0.126565</td>\n",
              "      <td>0.117908</td>\n",
              "      <td>0.111217</td>\n",
              "      <td>0.114543</td>\n",
              "      <td>0.115438</td>\n",
              "      <td>0.113080</td>\n",
              "      <td>0.116654</td>\n",
              "      <td>0.124365</td>\n",
              "      <td>0.142172</td>\n",
              "      <td>...</td>\n",
              "      <td>0.0</td>\n",
              "      <td>0.0</td>\n",
              "      <td>0.0</td>\n",
              "      <td>0.0</td>\n",
              "      <td>0.0</td>\n",
              "      <td>0.0</td>\n",
              "      <td>0.0</td>\n",
              "      <td>0.0</td>\n",
              "      <td>0.0</td>\n",
              "      <td>0.0</td>\n",
              "      <td>0.0</td>\n",
              "      <td>0.0</td>\n",
              "      <td>0.0</td>\n",
              "      <td>0.0</td>\n",
              "      <td>0.0</td>\n",
              "      <td>0.0</td>\n",
              "      <td>0.0</td>\n",
              "      <td>0.0</td>\n",
              "      <td>0.0</td>\n",
              "      <td>0.0</td>\n",
              "      <td>0.0</td>\n",
              "      <td>0.0</td>\n",
              "      <td>0.0</td>\n",
              "      <td>0.0</td>\n",
              "      <td>0.0</td>\n",
              "      <td>0.0</td>\n",
              "      <td>0.0</td>\n",
              "      <td>0.0</td>\n",
              "      <td>0.0</td>\n",
              "      <td>0.0</td>\n",
              "      <td>0.0</td>\n",
              "      <td>0.0</td>\n",
              "      <td>0.0</td>\n",
              "      <td>0.0</td>\n",
              "      <td>0.0</td>\n",
              "      <td>0.0</td>\n",
              "      <td>0.0</td>\n",
              "      <td>0.0</td>\n",
              "      <td>0.0</td>\n",
              "      <td>0.0</td>\n",
              "    </tr>\n",
              "    <tr>\n",
              "      <th>1</th>\n",
              "      <td>0.702475</td>\n",
              "      <td>0.782524</td>\n",
              "      <td>0.166335</td>\n",
              "      <td>0.101707</td>\n",
              "      <td>0.077532</td>\n",
              "      <td>0.144347</td>\n",
              "      <td>0.102707</td>\n",
              "      <td>0.136863</td>\n",
              "      <td>0.105399</td>\n",
              "      <td>0.120042</td>\n",
              "      <td>0.101827</td>\n",
              "      <td>0.129193</td>\n",
              "      <td>0.108682</td>\n",
              "      <td>0.114550</td>\n",
              "      <td>0.108623</td>\n",
              "      <td>0.111996</td>\n",
              "      <td>0.100243</td>\n",
              "      <td>0.110256</td>\n",
              "      <td>0.109961</td>\n",
              "      <td>0.113979</td>\n",
              "      <td>0.116104</td>\n",
              "      <td>0.112457</td>\n",
              "      <td>0.118203</td>\n",
              "      <td>0.114287</td>\n",
              "      <td>0.113681</td>\n",
              "      <td>0.111939</td>\n",
              "      <td>0.104452</td>\n",
              "      <td>0.107706</td>\n",
              "      <td>0.096508</td>\n",
              "      <td>0.098805</td>\n",
              "      <td>0.089470</td>\n",
              "      <td>0.089159</td>\n",
              "      <td>0.076505</td>\n",
              "      <td>0.081691</td>\n",
              "      <td>0.067399</td>\n",
              "      <td>0.077280</td>\n",
              "      <td>0.064582</td>\n",
              "      <td>0.089117</td>\n",
              "      <td>0.093312</td>\n",
              "      <td>0.136579</td>\n",
              "      <td>...</td>\n",
              "      <td>0.0</td>\n",
              "      <td>0.0</td>\n",
              "      <td>0.0</td>\n",
              "      <td>0.0</td>\n",
              "      <td>0.0</td>\n",
              "      <td>0.0</td>\n",
              "      <td>0.0</td>\n",
              "      <td>0.0</td>\n",
              "      <td>0.0</td>\n",
              "      <td>0.0</td>\n",
              "      <td>0.0</td>\n",
              "      <td>0.0</td>\n",
              "      <td>0.0</td>\n",
              "      <td>0.0</td>\n",
              "      <td>0.0</td>\n",
              "      <td>0.0</td>\n",
              "      <td>0.0</td>\n",
              "      <td>0.0</td>\n",
              "      <td>0.0</td>\n",
              "      <td>0.0</td>\n",
              "      <td>0.0</td>\n",
              "      <td>0.0</td>\n",
              "      <td>0.0</td>\n",
              "      <td>0.0</td>\n",
              "      <td>0.0</td>\n",
              "      <td>0.0</td>\n",
              "      <td>0.0</td>\n",
              "      <td>0.0</td>\n",
              "      <td>0.0</td>\n",
              "      <td>0.0</td>\n",
              "      <td>0.0</td>\n",
              "      <td>0.0</td>\n",
              "      <td>0.0</td>\n",
              "      <td>0.0</td>\n",
              "      <td>0.0</td>\n",
              "      <td>0.0</td>\n",
              "      <td>0.0</td>\n",
              "      <td>0.0</td>\n",
              "      <td>0.0</td>\n",
              "      <td>0.0</td>\n",
              "    </tr>\n",
              "    <tr>\n",
              "      <th>2</th>\n",
              "      <td>0.737790</td>\n",
              "      <td>0.796901</td>\n",
              "      <td>0.081758</td>\n",
              "      <td>0.161546</td>\n",
              "      <td>0.137585</td>\n",
              "      <td>0.171284</td>\n",
              "      <td>0.139616</td>\n",
              "      <td>0.166056</td>\n",
              "      <td>0.138925</td>\n",
              "      <td>0.155468</td>\n",
              "      <td>0.137550</td>\n",
              "      <td>0.147941</td>\n",
              "      <td>0.133740</td>\n",
              "      <td>0.151228</td>\n",
              "      <td>0.131918</td>\n",
              "      <td>0.151089</td>\n",
              "      <td>0.140657</td>\n",
              "      <td>0.161562</td>\n",
              "      <td>0.142910</td>\n",
              "      <td>0.159723</td>\n",
              "      <td>0.130961</td>\n",
              "      <td>0.150790</td>\n",
              "      <td>0.131368</td>\n",
              "      <td>0.156519</td>\n",
              "      <td>0.137413</td>\n",
              "      <td>0.158221</td>\n",
              "      <td>0.147507</td>\n",
              "      <td>0.163982</td>\n",
              "      <td>0.144516</td>\n",
              "      <td>0.152852</td>\n",
              "      <td>0.134378</td>\n",
              "      <td>0.148044</td>\n",
              "      <td>0.131215</td>\n",
              "      <td>0.141157</td>\n",
              "      <td>0.135128</td>\n",
              "      <td>0.146530</td>\n",
              "      <td>0.155095</td>\n",
              "      <td>0.185870</td>\n",
              "      <td>0.191658</td>\n",
              "      <td>0.202343</td>\n",
              "      <td>...</td>\n",
              "      <td>0.0</td>\n",
              "      <td>0.0</td>\n",
              "      <td>0.0</td>\n",
              "      <td>0.0</td>\n",
              "      <td>0.0</td>\n",
              "      <td>0.0</td>\n",
              "      <td>0.0</td>\n",
              "      <td>0.0</td>\n",
              "      <td>0.0</td>\n",
              "      <td>0.0</td>\n",
              "      <td>0.0</td>\n",
              "      <td>0.0</td>\n",
              "      <td>0.0</td>\n",
              "      <td>0.0</td>\n",
              "      <td>0.0</td>\n",
              "      <td>0.0</td>\n",
              "      <td>0.0</td>\n",
              "      <td>0.0</td>\n",
              "      <td>0.0</td>\n",
              "      <td>0.0</td>\n",
              "      <td>0.0</td>\n",
              "      <td>0.0</td>\n",
              "      <td>0.0</td>\n",
              "      <td>0.0</td>\n",
              "      <td>0.0</td>\n",
              "      <td>0.0</td>\n",
              "      <td>0.0</td>\n",
              "      <td>0.0</td>\n",
              "      <td>0.0</td>\n",
              "      <td>0.0</td>\n",
              "      <td>0.0</td>\n",
              "      <td>0.0</td>\n",
              "      <td>0.0</td>\n",
              "      <td>0.0</td>\n",
              "      <td>0.0</td>\n",
              "      <td>0.0</td>\n",
              "      <td>0.0</td>\n",
              "      <td>0.0</td>\n",
              "      <td>0.0</td>\n",
              "      <td>0.0</td>\n",
              "    </tr>\n",
              "    <tr>\n",
              "      <th>3</th>\n",
              "      <td>0.714591</td>\n",
              "      <td>0.560478</td>\n",
              "      <td>-0.029479</td>\n",
              "      <td>0.161665</td>\n",
              "      <td>0.078421</td>\n",
              "      <td>0.150414</td>\n",
              "      <td>0.088287</td>\n",
              "      <td>0.137978</td>\n",
              "      <td>0.094037</td>\n",
              "      <td>0.127950</td>\n",
              "      <td>0.096241</td>\n",
              "      <td>0.130713</td>\n",
              "      <td>0.110203</td>\n",
              "      <td>0.127033</td>\n",
              "      <td>0.106080</td>\n",
              "      <td>0.125370</td>\n",
              "      <td>0.118795</td>\n",
              "      <td>0.132817</td>\n",
              "      <td>0.118136</td>\n",
              "      <td>0.131843</td>\n",
              "      <td>0.122374</td>\n",
              "      <td>0.130198</td>\n",
              "      <td>0.126090</td>\n",
              "      <td>0.130587</td>\n",
              "      <td>0.124609</td>\n",
              "      <td>0.134738</td>\n",
              "      <td>0.128962</td>\n",
              "      <td>0.130545</td>\n",
              "      <td>0.131968</td>\n",
              "      <td>0.127552</td>\n",
              "      <td>0.130620</td>\n",
              "      <td>0.129524</td>\n",
              "      <td>0.135250</td>\n",
              "      <td>0.126851</td>\n",
              "      <td>0.129270</td>\n",
              "      <td>0.140603</td>\n",
              "      <td>0.159969</td>\n",
              "      <td>0.176002</td>\n",
              "      <td>0.180978</td>\n",
              "      <td>0.195622</td>\n",
              "      <td>...</td>\n",
              "      <td>0.0</td>\n",
              "      <td>0.0</td>\n",
              "      <td>0.0</td>\n",
              "      <td>0.0</td>\n",
              "      <td>0.0</td>\n",
              "      <td>0.0</td>\n",
              "      <td>0.0</td>\n",
              "      <td>0.0</td>\n",
              "      <td>0.0</td>\n",
              "      <td>0.0</td>\n",
              "      <td>0.0</td>\n",
              "      <td>0.0</td>\n",
              "      <td>0.0</td>\n",
              "      <td>0.0</td>\n",
              "      <td>0.0</td>\n",
              "      <td>0.0</td>\n",
              "      <td>0.0</td>\n",
              "      <td>0.0</td>\n",
              "      <td>0.0</td>\n",
              "      <td>0.0</td>\n",
              "      <td>0.0</td>\n",
              "      <td>0.0</td>\n",
              "      <td>0.0</td>\n",
              "      <td>0.0</td>\n",
              "      <td>0.0</td>\n",
              "      <td>0.0</td>\n",
              "      <td>0.0</td>\n",
              "      <td>0.0</td>\n",
              "      <td>0.0</td>\n",
              "      <td>0.0</td>\n",
              "      <td>0.0</td>\n",
              "      <td>0.0</td>\n",
              "      <td>0.0</td>\n",
              "      <td>0.0</td>\n",
              "      <td>0.0</td>\n",
              "      <td>0.0</td>\n",
              "      <td>0.0</td>\n",
              "      <td>0.0</td>\n",
              "      <td>0.0</td>\n",
              "      <td>0.0</td>\n",
              "    </tr>\n",
              "    <tr>\n",
              "      <th>4</th>\n",
              "      <td>0.699162</td>\n",
              "      <td>0.595851</td>\n",
              "      <td>-0.005985</td>\n",
              "      <td>0.117447</td>\n",
              "      <td>0.082660</td>\n",
              "      <td>0.112321</td>\n",
              "      <td>0.077772</td>\n",
              "      <td>0.112916</td>\n",
              "      <td>0.090391</td>\n",
              "      <td>0.118374</td>\n",
              "      <td>0.097390</td>\n",
              "      <td>0.112145</td>\n",
              "      <td>0.085137</td>\n",
              "      <td>0.110473</td>\n",
              "      <td>0.080582</td>\n",
              "      <td>0.108035</td>\n",
              "      <td>0.082760</td>\n",
              "      <td>0.103658</td>\n",
              "      <td>0.082642</td>\n",
              "      <td>0.112224</td>\n",
              "      <td>0.096094</td>\n",
              "      <td>0.106861</td>\n",
              "      <td>0.076531</td>\n",
              "      <td>0.110904</td>\n",
              "      <td>0.088676</td>\n",
              "      <td>0.111723</td>\n",
              "      <td>0.086370</td>\n",
              "      <td>0.107507</td>\n",
              "      <td>0.087201</td>\n",
              "      <td>0.090009</td>\n",
              "      <td>0.068408</td>\n",
              "      <td>0.074706</td>\n",
              "      <td>0.054057</td>\n",
              "      <td>0.081229</td>\n",
              "      <td>0.070261</td>\n",
              "      <td>0.078362</td>\n",
              "      <td>0.084897</td>\n",
              "      <td>0.103362</td>\n",
              "      <td>0.122871</td>\n",
              "      <td>0.138358</td>\n",
              "      <td>...</td>\n",
              "      <td>0.0</td>\n",
              "      <td>0.0</td>\n",
              "      <td>0.0</td>\n",
              "      <td>0.0</td>\n",
              "      <td>0.0</td>\n",
              "      <td>0.0</td>\n",
              "      <td>0.0</td>\n",
              "      <td>0.0</td>\n",
              "      <td>0.0</td>\n",
              "      <td>0.0</td>\n",
              "      <td>0.0</td>\n",
              "      <td>0.0</td>\n",
              "      <td>0.0</td>\n",
              "      <td>0.0</td>\n",
              "      <td>0.0</td>\n",
              "      <td>0.0</td>\n",
              "      <td>0.0</td>\n",
              "      <td>0.0</td>\n",
              "      <td>0.0</td>\n",
              "      <td>0.0</td>\n",
              "      <td>0.0</td>\n",
              "      <td>0.0</td>\n",
              "      <td>0.0</td>\n",
              "      <td>0.0</td>\n",
              "      <td>0.0</td>\n",
              "      <td>0.0</td>\n",
              "      <td>0.0</td>\n",
              "      <td>0.0</td>\n",
              "      <td>0.0</td>\n",
              "      <td>0.0</td>\n",
              "      <td>0.0</td>\n",
              "      <td>0.0</td>\n",
              "      <td>0.0</td>\n",
              "      <td>0.0</td>\n",
              "      <td>0.0</td>\n",
              "      <td>0.0</td>\n",
              "      <td>0.0</td>\n",
              "      <td>0.0</td>\n",
              "      <td>0.0</td>\n",
              "      <td>0.0</td>\n",
              "    </tr>\n",
              "  </tbody>\n",
              "</table>\n",
              "<p>5 rows × 188 columns</p>\n",
              "</div>"
            ],
            "text/plain": [
              "        0         1         2         3         4    ...  183  184  185  186  187\n",
              "0  0.669411  0.579191  0.027081  0.159776  0.109931  ...  0.0  0.0  0.0  0.0  0.0\n",
              "1  0.702475  0.782524  0.166335  0.101707  0.077532  ...  0.0  0.0  0.0  0.0  0.0\n",
              "2  0.737790  0.796901  0.081758  0.161546  0.137585  ...  0.0  0.0  0.0  0.0  0.0\n",
              "3  0.714591  0.560478 -0.029479  0.161665  0.078421  ...  0.0  0.0  0.0  0.0  0.0\n",
              "4  0.699162  0.595851 -0.005985  0.117447  0.082660  ...  0.0  0.0  0.0  0.0  0.0\n",
              "\n",
              "[5 rows x 188 columns]"
            ]
          },
          "metadata": {
            "tags": []
          },
          "execution_count": 23
        }
      ]
    },
    {
      "cell_type": "code",
      "metadata": {
        "id": "CpkVnM1GNErV",
        "colab_type": "code",
        "colab": {
          "base_uri": "https://localhost:8080/",
          "height": 136
        },
        "outputId": "f84ed2ba-b03d-404a-f3dd-5d072caa2e3e"
      },
      "source": [
        "df[187].value_counts()"
      ],
      "execution_count": null,
      "outputs": [
        {
          "output_type": "execute_result",
          "data": {
            "text/plain": [
              "0.0    112447\n",
              "4.0      9722\n",
              "2.0      9585\n",
              "1.0      6566\n",
              "3.0      4783\n",
              "5.0      3131\n",
              "Name: 187, dtype: int64"
            ]
          },
          "metadata": {
            "tags": []
          },
          "execution_count": 24
        }
      ]
    },
    {
      "cell_type": "code",
      "metadata": {
        "id": "rghkWBzENa4w",
        "colab_type": "code",
        "colab": {}
      },
      "source": [
        "M = df.values\n",
        "X = M[:, :-1]\n",
        "y = M[:, -1].astype(int)"
      ],
      "execution_count": null,
      "outputs": []
    },
    {
      "cell_type": "code",
      "metadata": {
        "id": "ZCxIjdhLIFKQ",
        "colab_type": "code",
        "colab": {
          "base_uri": "https://localhost:8080/",
          "height": 744
        },
        "outputId": "34294ef1-7f30-4dfe-997f-13fc91d973c4"
      },
      "source": [
        "C0 = np.argwhere(y == 0).flatten()\n",
        "C1 = np.argwhere(y == 1).flatten()\n",
        "C2 = np.argwhere(y == 2).flatten()\n",
        "C3 = np.argwhere(y == 3).flatten()\n",
        "C4 = np.argwhere(y == 4).flatten()\n",
        "C5 = np.argwhere(y == 5).flatten()\n",
        "\n",
        "x = np.arange(0, 187)*8/1000.0\n",
        "\n",
        "plt.figure(figsize=(20,12))\n",
        "plt.plot(x, X[C0, :][10], label=\"N\") # Display first normal beat.\n",
        "plt.plot(x, X[C1, :][10], label=\"L\") # Display first abnormal beat.\n",
        "plt.plot(x, X[C2, :][10], label=\"R\") # Display first abnormal beat.\n",
        "plt.plot(x, X[C3, :][10], label=\"V\") # Display first abnormal beat.\n",
        "plt.plot(x, X[C4, :][10], label=\"/\") # Display first abnormal beat.\n",
        "plt.plot(x, X[C5, :][10], label=\"A\") \n",
        "\n",
        "plt.legend(fontsize=20)\n",
        "plt.title(\"1-beat ECG for every category\", fontsize=20)\n",
        "plt.ylabel(\"Normalized Amplitude (0 - 1)\", fontsize=20)\n",
        "plt.xlabel(\"Time (sec)\", fontsize = 20)\n",
        "plt.savefig('/content/drive/My Drive/Colab Notebooks/data_ecg_v2/1-beat ECG for every category 3.jpg')"
      ],
      "execution_count": null,
      "outputs": [
        {
          "output_type": "display_data",
          "data": {
            "image/png": "[encoded data removed]",
            "text/plain": [
              "<Figure size 1440x864 with 1 Axes>"
            ]
          },
          "metadata": {
            "tags": [],
            "needs_background": "light"
          }
        }
      ]
    },
    {
      "cell_type": "code",
      "metadata": {
        "id": "fYIP2e34JYb8",
        "colab_type": "code",
        "colab": {}
      },
      "source": [
        "def stretch(x):\n",
        "    l = int(187 * (1 + (random.random()-0.5)/3))\n",
        "    y = resample(x, l)\n",
        "    if l < 187:\n",
        "        y_ = np.zeros(shape=(187, ))\n",
        "        y_[:l] = y\n",
        "    else:\n",
        "        y_ = y[:187]\n",
        "    return y_\n",
        "\n",
        "def amplify(x):\n",
        "    alpha = (random.random()-0.5)\n",
        "    factor = -alpha*x + (1+alpha)\n",
        "    return x*factor\n",
        "  \n",
        "def augment(x):\n",
        "    result = np.zeros(shape= (4, 187))\n",
        "    for i in range(len(result)):\n",
        "        tmp = random.random()\n",
        "        if tmp < 0.33:\n",
        "            new_y = stretch(x)\n",
        "        elif tmp < 0.66:\n",
        "            new_y = amplify(x)\n",
        "        else:\n",
        "            new_y = stretch(x)\n",
        "            new_y = amplify(new_y)\n",
        "        result[i, :] = new_y\n",
        "    return result"
      ],
      "execution_count": null,
      "outputs": []
    },
    {
      "cell_type": "code",
      "metadata": {
        "id": "gDM3NfN_2vHy",
        "colab_type": "code",
        "colab": {
          "base_uri": "https://localhost:8080/",
          "height": 34
        },
        "outputId": "c2bbcc16-b558-4393-a7c4-d1f726f84b78"
      },
      "source": [
        "random.random()-0.5"
      ],
      "execution_count": null,
      "outputs": [
        {
          "output_type": "execute_result",
          "data": {
            "text/plain": [
              "-0.3091501563558138"
            ]
          },
          "metadata": {
            "tags": []
          },
          "execution_count": 58
        }
      ]
    },
    {
      "cell_type": "code",
      "metadata": {
        "id": "4D0p4vQSK3cf",
        "colab_type": "code",
        "colab": {
          "base_uri": "https://localhost:8080/",
          "height": 364
        },
        "outputId": "9527ab50-61a5-4f88-f009-76fb1a8bb4a9"
      },
      "source": [
        "plt.figure(figsize = (10, 5))\n",
        "i = 10\n",
        "plt.title(\"Amplifying signal\", fontsize=20)\n",
        "plt.ylabel(\"Normalized Amplitude (0 - 1)\", fontsize=20)\n",
        "plt.xlabel(\"Time (sec)\", fontsize = 20)\n",
        "plt.plot(X[i, :], label = 'Nor')\n",
        "plt.plot(amplify( X[i, :]), label = 'Amp')\n",
        "#plt.plot(stretch( X[i, :]), label = 'Str')\n",
        "plt.legend()\n",
        "plt.savefig('/content/drive/My Drive/Colab Notebooks/data_ecg_v2/unstretching.jpg')"
      ],
      "execution_count": null,
      "outputs": [
        {
          "output_type": "display_data",
          "data": {
            "image/png": "[encoded data removed]",
            "text/plain": [
              "<Figure size 720x360 with 1 Axes>"
            ]
          },
          "metadata": {
            "tags": [],
            "needs_background": "light"
          }
        }
      ]
    },
    {
      "cell_type": "code",
      "metadata": {
        "id": "RHMK-y2qORQf",
        "colab_type": "code",
        "colab": {
          "base_uri": "https://localhost:8080/",
          "height": 68
        },
        "outputId": "f2e61f43-b65b-404f-a727-219fca113426"
      },
      "source": [
        "print(X.shape, y.shape)\n",
        "np.unique(y, return_counts = True)"
      ],
      "execution_count": null,
      "outputs": [
        {
          "output_type": "stream",
          "text": [
            "(146234, 187) (146234,)\n"
          ],
          "name": "stdout"
        },
        {
          "output_type": "execute_result",
          "data": {
            "text/plain": [
              "(array([0, 1, 2, 3, 4, 5]),\n",
              " array([112447,   6566,   9585,   4783,   9722,   3131]))"
            ]
          },
          "metadata": {
            "tags": []
          },
          "execution_count": 71
        }
      ]
    },
    {
      "cell_type": "code",
      "metadata": {
        "id": "-UjcNloMK-1E",
        "colab_type": "code",
        "colab": {}
      },
      "source": [
        "C1 = np.argwhere(y == 1).flatten()\n",
        "result = np.apply_along_axis(augment, axis=1, arr=X[C1]).reshape(-1, 187)\n",
        "classes = np.ones(shape=(result.shape[0],), dtype=int)*1\n",
        "X = np.vstack([X, result])\n",
        "y = np.hstack([y, classes])"
      ],
      "execution_count": null,
      "outputs": []
    },
    {
      "cell_type": "code",
      "metadata": {
        "id": "_6L3BexIWX5e",
        "colab_type": "code",
        "colab": {
          "base_uri": "https://localhost:8080/",
          "height": 68
        },
        "outputId": "9100c780-abfd-4dfb-eda4-d5ee901072f2"
      },
      "source": [
        "print(X.shape, y.shape)\n",
        "np.unique(y, return_counts = True)"
      ],
      "execution_count": null,
      "outputs": [
        {
          "output_type": "stream",
          "text": [
            "(172498, 187) (172498,)\n"
          ],
          "name": "stdout"
        },
        {
          "output_type": "execute_result",
          "data": {
            "text/plain": [
              "(array([0, 1, 2, 3, 4, 5]),\n",
              " array([112447,  32830,   9585,   4783,   9722,   3131]))"
            ]
          },
          "metadata": {
            "tags": []
          },
          "execution_count": 73
        }
      ]
    },
    {
      "cell_type": "code",
      "metadata": {
        "id": "mXjQZsB2YXHL",
        "colab_type": "code",
        "colab": {
          "base_uri": "https://localhost:8080/",
          "height": 68
        },
        "outputId": "b3fd6491-cdd3-4218-de7e-2c6fc715c744"
      },
      "source": [
        "C2 = np.argwhere(y == 2).flatten()\n",
        "result = np.apply_along_axis(augment, axis=1, arr=X[C2]).reshape(-1, 187)\n",
        "classes = np.ones(shape=(result.shape[0],), dtype=int)*2\n",
        "X = np.vstack([X, result])\n",
        "y = np.hstack([y, classes])\n",
        "\n",
        "print(X.shape, y.shape)\n",
        "np.unique(y, return_counts = True)"
      ],
      "execution_count": null,
      "outputs": [
        {
          "output_type": "stream",
          "text": [
            "(210838, 187) (210838,)\n"
          ],
          "name": "stdout"
        },
        {
          "output_type": "execute_result",
          "data": {
            "text/plain": [
              "(array([0, 1, 2, 3, 4, 5]),\n",
              " array([112447,  32830,  47925,   4783,   9722,   3131]))"
            ]
          },
          "metadata": {
            "tags": []
          },
          "execution_count": 74
        }
      ]
    },
    {
      "cell_type": "code",
      "metadata": {
        "id": "eJva0-4udt7r",
        "colab_type": "code",
        "colab": {
          "base_uri": "https://localhost:8080/",
          "height": 68
        },
        "outputId": "91c6c4cc-f23e-4f9e-9627-119a39b248d2"
      },
      "source": [
        "C3 = np.argwhere(y == 3).flatten()\n",
        "result = np.apply_along_axis(augment, axis=1, arr=X[C3]).reshape(-1, 187)\n",
        "classes = np.ones(shape=(result.shape[0],), dtype=int)*3\n",
        "X = np.vstack([X, result])\n",
        "y = np.hstack([y, classes])\n",
        "\n",
        "print(X.shape, y.shape)\n",
        "np.unique(y, return_counts = True)"
      ],
      "execution_count": null,
      "outputs": [
        {
          "output_type": "stream",
          "text": [
            "(229970, 187) (229970,)\n"
          ],
          "name": "stdout"
        },
        {
          "output_type": "execute_result",
          "data": {
            "text/plain": [
              "(array([0, 1, 2, 3, 4, 5]),\n",
              " array([112447,  32830,  47925,  23915,   9722,   3131]))"
            ]
          },
          "metadata": {
            "tags": []
          },
          "execution_count": 75
        }
      ]
    },
    {
      "cell_type": "code",
      "metadata": {
        "id": "42yYir7ydt61",
        "colab_type": "code",
        "colab": {
          "base_uri": "https://localhost:8080/",
          "height": 68
        },
        "outputId": "6134f1e5-5a82-428a-8895-cab3e0e0c745"
      },
      "source": [
        "C4 = np.argwhere(y == 4).flatten()\n",
        "result = np.apply_along_axis(augment, axis=1, arr=X[C4]).reshape(-1, 187)\n",
        "classes = np.ones(shape=(result.shape[0],), dtype=int)*4\n",
        "X = np.vstack([X, result])\n",
        "y = np.hstack([y, classes])\n",
        "\n",
        "print(X.shape, y.shape)\n",
        "np.unique(y, return_counts = True)"
      ],
      "execution_count": null,
      "outputs": [
        {
          "output_type": "stream",
          "text": [
            "(268858, 187) (268858,)\n"
          ],
          "name": "stdout"
        },
        {
          "output_type": "execute_result",
          "data": {
            "text/plain": [
              "(array([0, 1, 2, 3, 4, 5]),\n",
              " array([112447,  32830,  47925,  23915,  48610,   3131]))"
            ]
          },
          "metadata": {
            "tags": []
          },
          "execution_count": 76
        }
      ]
    },
    {
      "cell_type": "code",
      "metadata": {
        "id": "MFizewqYYn1M",
        "colab_type": "code",
        "colab": {
          "base_uri": "https://localhost:8080/",
          "height": 68
        },
        "outputId": "ce1ac6bd-4223-45d5-be02-5652a9eff571"
      },
      "source": [
        "C4 = np.argwhere(y == 5).flatten()\n",
        "result = np.apply_along_axis(augment, axis=1, arr=X[C5]).reshape(-1, 187)\n",
        "classes = np.ones(shape=(result.shape[0],), dtype=int)*5\n",
        "X = np.vstack([X, result])\n",
        "y = np.hstack([y, classes])\n",
        "\n",
        "print(X.shape, y.shape)\n",
        "np.unique(y, return_counts = True)"
      ],
      "execution_count": null,
      "outputs": [
        {
          "output_type": "stream",
          "text": [
            "(281382, 187) (281382,)\n"
          ],
          "name": "stdout"
        },
        {
          "output_type": "execute_result",
          "data": {
            "text/plain": [
              "(array([0, 1, 2, 3, 4, 5]),\n",
              " array([112447,  32830,  47925,  23915,  48610,  15655]))"
            ]
          },
          "metadata": {
            "tags": []
          },
          "execution_count": 77
        }
      ]
    },
    {
      "cell_type": "code",
      "metadata": {
        "id": "x16otFza-2Ec",
        "colab_type": "code",
        "colab": {
          "base_uri": "https://localhost:8080/",
          "height": 293
        },
        "outputId": "3bf5ed6f-b2d2-4d11-f38e-9f90a8486b98"
      },
      "source": [
        "a, b = np.unique(y, return_counts = True)\n",
        "plt.figure(figsize= (7, 4))\n",
        "plt.xlabel(\"Category\", fontsize = 10)\n",
        "plt.ylabel(\"Counts\", fontsize = 10)  \n",
        "plt.title(\"Distribution of data after augmentation\", fontsize = 10)\n",
        "A = ['N', 'L', 'R', 'V', '/', 'A']\n",
        "plt.bar(a, b, tick_label = A )\n",
        "plt.savefig(\"/content/drive/My Drive/Colab Notebooks/data_ecg_v2/aug_data_distribution.jpg\")"
      ],
      "execution_count": null,
      "outputs": [
        {
          "output_type": "display_data",
          "data": {
            "image/png": "[encoded data removed]",
            "text/plain": [
              "<Figure size 504x288 with 1 Axes>"
            ]
          },
          "metadata": {
            "tags": [],
            "needs_background": "light"
          }
        }
      ]
    },
    {
      "cell_type": "markdown",
      "metadata": {
        "id": "43FkehlFOpIc",
        "colab_type": "text"
      },
      "source": [
        "#Splitting"
      ]
    },
    {
      "cell_type": "code",
      "metadata": {
        "id": "QPUkwbFagANs",
        "colab_type": "code",
        "colab": {}
      },
      "source": [
        "C0 = np.argwhere(y == 0).flatten()\n",
        "C1 = np.argwhere(y == 1).flatten()\n",
        "C2 = np.argwhere(y == 2).flatten()\n",
        "C3 = np.argwhere(y == 3).flatten()\n",
        "C4 = np.argwhere(y == 4).flatten()\n",
        "C5 = np.argwhere(y == 5).flatten()"
      ],
      "execution_count": null,
      "outputs": []
    },
    {
      "cell_type": "code",
      "metadata": {
        "id": "ZPjSAfurOXp4",
        "colab_type": "code",
        "colab": {}
      },
      "source": [
        "subC0 = np.random.choice(C0, 8000)\n",
        "subC1 = np.random.choice(C1, 8000)\n",
        "subC2 = np.random.choice(C2, 8000)\n",
        "subC3 = np.random.choice(C3, 8000)\n",
        "subC4 = np.random.choice(C4, 8000)\n",
        "subC5 = np.random.choice(C5, 8000)"
      ],
      "execution_count": null,
      "outputs": []
    },
    {
      "cell_type": "code",
      "metadata": {
        "id": "8cR9g-MgeTHB",
        "colab_type": "code",
        "colab": {}
      },
      "source": [
        "X_test = np.vstack([X[subC0], X[subC1], X[subC2], X[subC3], X[subC4], X[subC5]])\n",
        "y_test = np.hstack([y[subC0], y[subC1], y[subC2], y[subC3], y[subC4], y[subC5]])"
      ],
      "execution_count": null,
      "outputs": []
    },
    {
      "cell_type": "code",
      "metadata": {
        "id": "PSRp52NVeVL1",
        "colab_type": "code",
        "colab": {
          "base_uri": "https://localhost:8080/",
          "height": 34
        },
        "outputId": "886e032e-d6ee-4479-afc8-79a266fe64b8"
      },
      "source": [
        "print(X_test.shape, y_test.shape)"
      ],
      "execution_count": null,
      "outputs": [
        {
          "output_type": "stream",
          "text": [
            "(48000, 187) (48000,)\n"
          ],
          "name": "stdout"
        }
      ]
    },
    {
      "cell_type": "code",
      "metadata": {
        "id": "k7BQw0Shebc1",
        "colab_type": "code",
        "colab": {}
      },
      "source": [
        "X_train = np.delete(X, [subC0, subC1, subC2, subC3, subC4], axis=0)\n",
        "y_train = np.delete(y, [subC0, subC1, subC2, subC3, subC4], axis=0)"
      ],
      "execution_count": null,
      "outputs": []
    },
    {
      "cell_type": "code",
      "metadata": {
        "id": "DwCr3kWugI3P",
        "colab_type": "code",
        "colab": {}
      },
      "source": [
        "X_train, y_train = shuffle(X_train, y_train, random_state=0)\n",
        "X_test, y_test = shuffle(X_test, y_test, random_state=0)"
      ],
      "execution_count": null,
      "outputs": []
    },
    {
      "cell_type": "code",
      "metadata": {
        "id": "s7I-xsSEoj7y",
        "colab_type": "code",
        "colab": {
          "base_uri": "https://localhost:8080/",
          "height": 34
        },
        "outputId": "69e9d3c8-2f79-4743-c8e8-5e860205c26d"
      },
      "source": [
        "train_aug_data = np.concatenate((X_train, y_train.reshape(len(y_train), 1)), axis = 1)\n",
        "test_aug_data = np.concatenate((X_test, y_test.reshape(len(y_test), 1)), axis =1)\n",
        "print(train_aug_data.shape, test_aug_data.shape)"
      ],
      "execution_count": null,
      "outputs": [
        {
          "output_type": "stream",
          "text": [
            "(245009, 188) (48000, 188)\n"
          ],
          "name": "stdout"
        }
      ]
    },
    {
      "cell_type": "code",
      "metadata": {
        "id": "8kGktlc4g8xH",
        "colab_type": "code",
        "colab": {}
      },
      "source": [
        "with open('/content/drive/My Drive/Colab Notebooks/data_ecg/train_aug_v3.csv', \"wb\") as fin:\n",
        "    np.savetxt(fin, train_aug_data, delimiter=\",\", fmt='%f')\n",
        "\n",
        "with open('/content/drive/My Drive/Colab Notebooks/data_ecg/test_aug_v3.csv', \"wb\") as fin:\n",
        "    np.savetxt(fin, test_aug_data, delimiter=\",\", fmt='%f')"
      ],
      "execution_count": null,
      "outputs": []
    },
    {
      "cell_type": "code",
      "metadata": {
        "id": "PsGgMDEprczO",
        "colab_type": "code",
        "colab": {}
      },
      "source": [
        ""
      ],
      "execution_count": null,
      "outputs": []
    }
  ]
}