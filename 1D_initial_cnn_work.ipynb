{
  "nbformat": 4,
  "nbformat_minor": 0,
  "metadata": {
    "colab": {
      "name": "1D_initial_cnn_work",
      "provenance": [],
      "collapsed_sections": [],
      "authorship_tag": "ABX9TyMMX+iQtV95upl6pbzJxZfi",
      "include_colab_link": true
    },
    "kernelspec": {
      "name": "python3",
      "display_name": "Python 3"
    }
  },
  "cells": [
    {
      "cell_type": "markdown",
      "metadata": {
        "id": "view-in-github",
        "colab_type": "text"
      },
      "source": [
        "<a href=\"https://colab.research.google.com/github/utkarshsharma1/ECG_Signals/blob/master/1D_initial_cnn_work.ipynb\" target=\"_parent\"><img src=\"https://colab.research.google.com/assets/colab-badge.svg\" alt=\"Open In Colab\"/></a>"
      ]
    },
    {
      "cell_type": "code",
      "metadata": {
        "id": "_iJqBrGG39KD",
        "colab_type": "code",
        "colab": {
          "base_uri": "https://localhost:8080/",
          "height": 85
        },
        "outputId": "ad14cdfe-95d6-4b6f-d71e-2f0e03b3ba49"
      },
      "source": [
        "try:\n",
        "  # %tensorflow_version only exists in Colab.\n",
        "  %tensorflow_version 2.x\n",
        "except Exception:\n",
        "  pass\n",
        "\n",
        "!pip install pyyaml h5py  # Required to save models in HDF5 format"
      ],
      "execution_count": null,
      "outputs": [
        {
          "output_type": "stream",
          "text": [
            "Requirement already satisfied: pyyaml in /usr/local/lib/python3.6/dist-packages (3.13)\n",
            "Requirement already satisfied: h5py in /usr/local/lib/python3.6/dist-packages (2.10.0)\n",
            "Requirement already satisfied: numpy>=1.7 in /usr/local/lib/python3.6/dist-packages (from h5py) (1.18.2)\n",
            "Requirement already satisfied: six in /usr/local/lib/python3.6/dist-packages (from h5py) (1.12.0)\n"
          ],
          "name": "stdout"
        }
      ]
    },
    {
      "cell_type": "code",
      "metadata": {
        "id": "qhXdMtAM4Egk",
        "colab_type": "code",
        "colab": {
          "base_uri": "https://localhost:8080/",
          "height": 122
        },
        "outputId": "4a673c2c-a9a5-49bf-a763-c6a25f3927dc"
      },
      "source": [
        "from google.colab import drive\n",
        "drive.mount('/content/drive')"
      ],
      "execution_count": null,
      "outputs": [
        {
          "output_type": "stream",
          "text": [
            "Go to this URL in a browser: https://accounts.google.com/o/oauth2/auth?client_id=947318989803-6bn6qk8qdgf4n4g3pfee6491hc0brc4i.apps.googleusercontent.com&redirect_uri=urn%3aietf%3awg%3aoauth%3a2.0%3aoob&response_type=code&scope=email%20https%3a%2f%2fwww.googleapis.com%2fauth%2fdocs.test%20https%3a%2f%2fwww.googleapis.com%2fauth%2fdrive%20https%3a%2f%2fwww.googleapis.com%2fauth%2fdrive.photos.readonly%20https%3a%2f%2fwww.googleapis.com%2fauth%2fpeopleapi.readonly\n",
            "\n",
            "Enter your authorization code:\n",
            "··········\n",
            "Mounted at /content/drive\n"
          ],
          "name": "stdout"
        }
      ]
    },
    {
      "cell_type": "code",
      "metadata": {
        "id": "qj1uskir4GRE",
        "colab_type": "code",
        "colab": {
          "base_uri": "https://localhost:8080/",
          "height": 71
        },
        "outputId": "b83abfff-c860-4518-f9a1-ef5457c9d389"
      },
      "source": [
        "%matplotlib inline\n",
        "\n",
        "import pandas as pd\n",
        "import numpy as np\n",
        "import os\n",
        "import matplotlib.pyplot as plt\n",
        "from glob import glob\n",
        "import math\n",
        "import seaborn as sns"
      ],
      "execution_count": null,
      "outputs": [
        {
          "output_type": "stream",
          "text": [
            "/usr/local/lib/python3.6/dist-packages/statsmodels/tools/_testing.py:19: FutureWarning: pandas.util.testing is deprecated. Use the functions in the public API at pandas.testing instead.\n",
            "  import pandas.util.testing as tm\n"
          ],
          "name": "stderr"
        }
      ]
    },
    {
      "cell_type": "code",
      "metadata": {
        "id": "WwYtVO_B4I_c",
        "colab_type": "code",
        "colab": {
          "base_uri": "https://localhost:8080/",
          "height": 904
        },
        "outputId": "050aee52-8d9f-4a24-c7d0-1e9326adf1d5"
      },
      "source": [
        "!pip install wfdb\n",
        "import wfdb              # much needed for annotations\n",
        "\n",
        "\n",
        "!pip install biosppy\n",
        "from biosppy.signals import ecg\n",
        "from scipy import signal"
      ],
      "execution_count": null,
      "outputs": [
        {
          "output_type": "stream",
          "text": [
            "Collecting wfdb\n",
            "\u001b[?25l  Downloading https://files.pythonhosted.org/packages/b2/96/c2200539fdf4f087e14d30ed62a66544b6f441196bcb8ecc7a29ec6503b9/wfdb-2.2.1.tar.gz (94kB)\n",
            "\u001b[K     |████████████████████████████████| 102kB 2.7MB/s \n",
            "\u001b[?25hCollecting nose>=1.3.7\n",
            "\u001b[?25l  Downloading https://files.pythonhosted.org/packages/15/d8/dd071918c040f50fa1cf80da16423af51ff8ce4a0f2399b7bf8de45ac3d9/nose-1.3.7-py3-none-any.whl (154kB)\n",
            "\u001b[K     |████████████████████████████████| 163kB 8.3MB/s \n",
            "\u001b[?25hRequirement already satisfied: numpy>=1.11.0 in /usr/local/lib/python3.6/dist-packages (from wfdb) (1.18.2)\n",
            "Requirement already satisfied: matplotlib>=1.5.1 in /usr/local/lib/python3.6/dist-packages (from wfdb) (3.2.1)\n",
            "Requirement already satisfied: requests>=2.10.0 in /usr/local/lib/python3.6/dist-packages (from wfdb) (2.21.0)\n",
            "Requirement already satisfied: pandas>=0.19.1 in /usr/local/lib/python3.6/dist-packages (from wfdb) (1.0.3)\n",
            "Requirement already satisfied: scipy>=0.19.0 in /usr/local/lib/python3.6/dist-packages (from wfdb) (1.4.1)\n",
            "Requirement already satisfied: sklearn>=0.0 in /usr/local/lib/python3.6/dist-packages (from wfdb) (0.0)\n",
            "Requirement already satisfied: python-dateutil>=2.1 in /usr/local/lib/python3.6/dist-packages (from matplotlib>=1.5.1->wfdb) (2.8.1)\n",
            "Requirement already satisfied: kiwisolver>=1.0.1 in /usr/local/lib/python3.6/dist-packages (from matplotlib>=1.5.1->wfdb) (1.2.0)\n",
            "Requirement already satisfied: cycler>=0.10 in /usr/local/lib/python3.6/dist-packages (from matplotlib>=1.5.1->wfdb) (0.10.0)\n",
            "Requirement already satisfied: pyparsing!=2.0.4,!=2.1.2,!=2.1.6,>=2.0.1 in /usr/local/lib/python3.6/dist-packages (from matplotlib>=1.5.1->wfdb) (2.4.7)\n",
            "Requirement already satisfied: idna<2.9,>=2.5 in /usr/local/lib/python3.6/dist-packages (from requests>=2.10.0->wfdb) (2.8)\n",
            "Requirement already satisfied: urllib3<1.25,>=1.21.1 in /usr/local/lib/python3.6/dist-packages (from requests>=2.10.0->wfdb) (1.24.3)\n",
            "Requirement already satisfied: certifi>=2017.4.17 in /usr/local/lib/python3.6/dist-packages (from requests>=2.10.0->wfdb) (2020.4.5.1)\n",
            "Requirement already satisfied: chardet<3.1.0,>=3.0.2 in /usr/local/lib/python3.6/dist-packages (from requests>=2.10.0->wfdb) (3.0.4)\n",
            "Requirement already satisfied: pytz>=2017.2 in /usr/local/lib/python3.6/dist-packages (from pandas>=0.19.1->wfdb) (2018.9)\n",
            "Requirement already satisfied: scikit-learn in /usr/local/lib/python3.6/dist-packages (from sklearn>=0.0->wfdb) (0.22.2.post1)\n",
            "Requirement already satisfied: six>=1.5 in /usr/local/lib/python3.6/dist-packages (from python-dateutil>=2.1->matplotlib>=1.5.1->wfdb) (1.12.0)\n",
            "Requirement already satisfied: joblib>=0.11 in /usr/local/lib/python3.6/dist-packages (from scikit-learn->sklearn>=0.0->wfdb) (0.14.1)\n",
            "Building wheels for collected packages: wfdb\n",
            "  Building wheel for wfdb (setup.py) ... \u001b[?25l\u001b[?25hdone\n",
            "  Created wheel for wfdb: filename=wfdb-2.2.1-cp36-none-any.whl size=100368 sha256=5bdeea53db72cc2185d53b30725e301c0e58761f435af34966f0e76a4a0c5690\n",
            "  Stored in directory: /root/.cache/pip/wheels/bb/a9/00/0078d26b0c15b31be0001af8eb659496709c361c69641303f1\n",
            "Successfully built wfdb\n",
            "Installing collected packages: nose, wfdb\n",
            "Successfully installed nose-1.3.7 wfdb-2.2.1\n",
            "Collecting biosppy\n",
            "\u001b[?25l  Downloading https://files.pythonhosted.org/packages/b7/60/d09a277f9d31a2fc9190edf7e8a685c4f9b54b5dff487f523b916f441e1a/biosppy-0.6.1-py2.py3-none-any.whl (76kB)\n",
            "\u001b[K     |████████████████████████████████| 81kB 2.3MB/s \n",
            "\u001b[?25hCollecting shortuuid\n",
            "  Downloading https://files.pythonhosted.org/packages/25/a6/2ecc1daa6a304e7f1b216f0896b26156b78e7c38e1211e9b798b4716c53d/shortuuid-1.0.1-py3-none-any.whl\n",
            "Requirement already satisfied: six in /usr/local/lib/python3.6/dist-packages (from biosppy) (1.12.0)\n",
            "Requirement already satisfied: scikit-learn in /usr/local/lib/python3.6/dist-packages (from biosppy) (0.22.2.post1)\n",
            "Requirement already satisfied: scipy in /usr/local/lib/python3.6/dist-packages (from biosppy) (1.4.1)\n",
            "Requirement already satisfied: h5py in /usr/local/lib/python3.6/dist-packages (from biosppy) (2.10.0)\n",
            "Requirement already satisfied: numpy in /usr/local/lib/python3.6/dist-packages (from biosppy) (1.18.2)\n",
            "Requirement already satisfied: matplotlib in /usr/local/lib/python3.6/dist-packages (from biosppy) (3.2.1)\n",
            "Collecting bidict\n",
            "  Downloading https://files.pythonhosted.org/packages/50/fe/5a4abf8cc66616c8afe3b57e0cbdfe25e0e2507618b68fd747d221e1525f/bidict-0.19.0-py2.py3-none-any.whl\n",
            "Requirement already satisfied: joblib>=0.11 in /usr/local/lib/python3.6/dist-packages (from scikit-learn->biosppy) (0.14.1)\n",
            "Requirement already satisfied: python-dateutil>=2.1 in /usr/local/lib/python3.6/dist-packages (from matplotlib->biosppy) (2.8.1)\n",
            "Requirement already satisfied: pyparsing!=2.0.4,!=2.1.2,!=2.1.6,>=2.0.1 in /usr/local/lib/python3.6/dist-packages (from matplotlib->biosppy) (2.4.7)\n",
            "Requirement already satisfied: kiwisolver>=1.0.1 in /usr/local/lib/python3.6/dist-packages (from matplotlib->biosppy) (1.2.0)\n",
            "Requirement already satisfied: cycler>=0.10 in /usr/local/lib/python3.6/dist-packages (from matplotlib->biosppy) (0.10.0)\n",
            "Installing collected packages: shortuuid, bidict, biosppy\n",
            "Successfully installed bidict-0.19.0 biosppy-0.6.1 shortuuid-1.0.1\n"
          ],
          "name": "stdout"
        }
      ]
    },
    {
      "cell_type": "code",
      "metadata": {
        "id": "7u5ArFU4K9ux",
        "colab_type": "code",
        "colab": {}
      },
      "source": [
        "import tensorflow as tf\n",
        "\n",
        "#tf.logging.set_verbosity(tf.logging.INFO)\n",
        "import logging\n",
        "logger = tf.get_logger()\n",
        "logger.setLevel(logging.ERROR)"
      ],
      "execution_count": null,
      "outputs": []
    },
    {
      "cell_type": "code",
      "metadata": {
        "id": "GqnBoJua4RKG",
        "colab_type": "code",
        "colab": {}
      },
      "source": [
        "sample_database = ['100', '101', '102', '103', '104', '105', '106', '107', '108', \n",
        "                   '109', '111', '112', '113', '114', '115', '116', '117', '118',\n",
        "                   '119', '121', '122', '123', '124', '200', '201', '202', '203',\n",
        "                   '205', '207', '208', '209', '210', '212', '213', '214', '215',\n",
        "                   '217', '219', '220', '221', '222', '223', '228', '230', '231',\n",
        "                   '232', '233', '234']\n",
        "\n",
        "#abnormal = ['L', 'R', 'V', '/', 'A', 'f', 'F', 'j', 'a', 'E', 'J', 'e', 'S']\n",
        "abnormal = ['L', 'R', 'V', '/', 'A']"
      ],
      "execution_count": null,
      "outputs": []
    },
    {
      "cell_type": "code",
      "metadata": {
        "id": "qUeGCqQYXvHg",
        "colab_type": "code",
        "colab": {
          "base_uri": "https://localhost:8080/",
          "height": 34
        },
        "outputId": "5004c623-0e43-49a4-f5d8-909fe43721fd"
      },
      "source": [
        "record = wfdb.rdsamp('100', pb_dir= 'mitdb')\n",
        "annotation = wfdb.rdann('100', 'atr', pb_dir= 'mitdb')\n",
        "data = record[0].transpose()\n",
        "category = np.array(annotation.symbol)\n",
        "rate = np.zeros_like(category, dtype='float')\n",
        "for catid, catval in enumerate(category):\n",
        "    if (catval == 'N'):\n",
        "        rate[catid] = 1         # Normal\n",
        "    elif (catval in abnormal):\n",
        "        rate[catid] = abnormal.index(catval) + 2      # Abnormal\n",
        "rate"
      ],
      "execution_count": null,
      "outputs": [
        {
          "output_type": "execute_result",
          "data": {
            "text/plain": [
              "array([0., 1., 1., ..., 1., 1., 1.])"
            ]
          },
          "metadata": {
            "tags": []
          },
          "execution_count": 7
        }
      ]
    },
    {
      "cell_type": "code",
      "metadata": {
        "id": "Zg6Eeh2Tq2X1",
        "colab_type": "code",
        "colab": {
          "base_uri": "https://localhost:8080/",
          "height": 34
        },
        "outputId": "86ddd3da-3101-44b1-a9c8-58a9d7c81530"
      },
      "source": [
        "rates = np.zeros_like(data[0], dtype='float')\n",
        "rates[annotation.sample] = rate\n",
        "indices = np.arange(data[0].size, dtype='int')\n",
        "for channelid, channel in enumerate(data):\n",
        "    chname = record[1].get('sig_name')[channelid]\n",
        "    out = ecg.ecg(signal=channel, sampling_rate=360, show=False)\n",
        "    rpeaks = np.zeros_like(channel, dtype='float')\n",
        "    rpeaks[out['rpeaks']] = 1.0\n",
        "    beatstoremove = np.array([0])\n",
        "    beats = np.split(channel, out['rpeaks'])\n",
        "out['rpeaks']"
      ],
      "execution_count": null,
      "outputs": [
        {
          "output_type": "execute_result",
          "data": {
            "text/plain": [
              "array([    74,    368,    660, ..., 649228, 649482, 649730])"
            ]
          },
          "metadata": {
            "tags": []
          },
          "execution_count": 8
        }
      ]
    },
    {
      "cell_type": "code",
      "metadata": {
        "id": "uNlYe_BEA6bW",
        "colab_type": "code",
        "colab": {}
      },
      "source": [
        "for idx, idxval in enumerate(out['rpeaks']):\n",
        "    firstround = idx == 0\n",
        "    lastround = idx == len(beats) - 1\n",
        "\n",
        "    # Skip first and last beat.\n",
        "    if (firstround or lastround):\n",
        "        continue\n",
        "\n",
        "    # Get the classification value that is on\n",
        "    # or near the position of the rpeak index.\n",
        "    fromidx = 0 if idxval < 10 else idxval - 10\n",
        "    toidx = idxval + 10\n",
        "    catval = rates[fromidx:toidx].max()\n",
        "\n",
        "    # Skip beat if there is no classification.\n",
        "    if (catval == 0.0):\n",
        "        beatstoremove = np.append(beatstoremove, idx)\n",
        "        continue\n",
        "\n",
        "    # Normal beat is now classified as 0.0 and rest is 1.0, 2.0, 3.0, 4.0, 5.0.\n",
        "    catval = catval - 1.0\n",
        "\n",
        "    # Append some extra readings from next beat.\n",
        "    beats[idx] = np.append(beats[idx], beats[idx+1][:40])\n",
        "\n",
        "    # Normalize the readings to a 0-1 range for ML purposes.\n",
        "    beats[idx] = (beats[idx] - beats[idx].min()) / beats[idx].ptp()\n",
        "\n",
        "    # Resample from 360Hz to 125Hz\n",
        "    newsize = int((beats[idx].size * 125 / 360) + 0.5)\n",
        "    beats[idx] = signal.resample(beats[idx], newsize)\n",
        "\n",
        "    # Skipping records that are too long.\n",
        "    if (beats[idx].size > 187):\n",
        "        beatstoremove = np.append(beatstoremove, idx)\n",
        "        continue\n",
        "\n",
        "    # Pad with zeroes.\n",
        "    zerocount = 187 - beats[idx].size\n",
        "    beats[idx] = np.pad(beats[idx], (0, zerocount), 'constant', constant_values=(0.0, 0.0))\n",
        "\n",
        "    # Append the classification to the beat data.\n",
        "    beats[idx] = np.append(beats[idx], catval)"
      ],
      "execution_count": null,
      "outputs": []
    },
    {
      "cell_type": "code",
      "metadata": {
        "id": "eeX_J2d9mju5",
        "colab_type": "code",
        "colab": {
          "base_uri": "https://localhost:8080/",
          "height": 34
        },
        "outputId": "3ca4aea6-5169-4250-c958-a01a508ef98d"
      },
      "source": [
        "beatstoremove"
      ],
      "execution_count": null,
      "outputs": [
        {
          "output_type": "execute_result",
          "data": {
            "text/plain": [
              "array([   0,  367, 1903])"
            ]
          },
          "metadata": {
            "tags": []
          },
          "execution_count": 22
        }
      ]
    },
    {
      "cell_type": "code",
      "metadata": {
        "id": "KwswHIgu4T8R",
        "colab_type": "code",
        "colab": {
          "base_uri": "https://localhost:8080/",
          "height": 1000
        },
        "outputId": "bb445c6b-d4d5-47f6-e19b-4659ff110eb9"
      },
      "source": [
        "if not os.path.exists('/content/drive/My Drive/Colab Notebooks/data_ecg/'):\n",
        "    os.mkdir('/content/drive/My Drive/Colab Notebooks/data_ecg/')\n",
        "\n",
        "for path in sample_database:\n",
        "\n",
        "    print(path)\n",
        "\n",
        "    # Read in the data\n",
        "    record = wfdb.rdsamp(path, pb_dir= 'mitdb')\n",
        "    annotation = wfdb.rdann(path, 'atr', pb_dir= 'mitdb')\n",
        "    \n",
        "    # Get the ECG values from the file.\n",
        "    data = record[0].transpose()\n",
        "    \n",
        "    #Get the integer value of our class\n",
        "    category = np.array(annotation.symbol)\n",
        "    rate = np.zeros_like(category, dtype='float')\n",
        "    for catid, catval in enumerate(category):\n",
        "        if (catval == 'N'):\n",
        "            rate[catid] = 1         # Normal\n",
        "        elif (catval in abnormal):\n",
        "            rate[catid] = abnormal.index(catval) + 2      # Abnormal\n",
        "    rates = np.zeros_like(data[0], dtype='float')\n",
        "    rates[annotation.sample] = rate\n",
        "    \n",
        "    indices = np.arange(data[0].size, dtype='int')\n",
        "\n",
        "    # Process each channel separately (2 per input file).\n",
        "    for channelid, channel in enumerate(data):\n",
        "        chname = record[1].get('sig_name')[channelid]\n",
        "        \n",
        "        # Find rpeaks in the ECG data. Most should match with\n",
        "        # the annotations.\n",
        "        out = ecg.ecg(signal=channel, sampling_rate=360, show=False)\n",
        "        rpeaks = np.zeros_like(channel, dtype='float')\n",
        "        rpeaks[out['rpeaks']] = 1.0\n",
        "        \n",
        "        beatstoremove = np.array([0])\n",
        "\n",
        "        # Split into individual heartbeats. For each heartbeat\n",
        "        # record, append classification (normal/abnormal).\n",
        "        beats = np.split(channel, out['rpeaks'])\n",
        "        for idx, idxval in enumerate(out['rpeaks']):\n",
        "            firstround = idx == 0\n",
        "            lastround = idx == len(beats) - 1\n",
        "\n",
        "            # Skip first and last beat.\n",
        "            if (firstround or lastround):\n",
        "                continue\n",
        "\n",
        "            # Get the classification value that is on\n",
        "            # or near the position of the rpeak index.\n",
        "            fromidx = 0 if idxval < 10 else idxval - 10\n",
        "            toidx = idxval + 10\n",
        "            catval = rates[fromidx:toidx].max()\n",
        "\n",
        "            # Skip beat if there is no classification.\n",
        "            if (catval == 0.0):\n",
        "                beatstoremove = np.append(beatstoremove, idx)\n",
        "                continue\n",
        "\n",
        "            # Normal beat is now classified as 0.0 and rest is 1.0, 2.0, 3.0, 4.0, 5.0.\n",
        "            catval = catval - 1.0\n",
        "\n",
        "            # Append some extra readings from next beat.\n",
        "            beats[idx] = np.append(beats[idx], beats[idx+1][:40])\n",
        "\n",
        "            # Normalize the readings to a 0-1 range for ML purposes.\n",
        "            beats[idx] = (beats[idx] - beats[idx].min()) / beats[idx].ptp()\n",
        "\n",
        "            # Resample from 360Hz to 125Hz\n",
        "            newsize = int((beats[idx].size * 125 / 360) + 0.5)\n",
        "            beats[idx] = signal.resample(beats[idx], newsize)\n",
        "\n",
        "            # Skipping records that are too long.\n",
        "            if (beats[idx].size > 187):\n",
        "                beatstoremove = np.append(beatstoremove, idx)\n",
        "                continue\n",
        "\n",
        "            # Pad with zeroes.\n",
        "            zerocount = 187 - beats[idx].size\n",
        "            beats[idx] = np.pad(beats[idx], (0, zerocount), 'constant', constant_values=(0.0, 0.0))\n",
        "\n",
        "            # Append the classification to the beat data.\n",
        "            beats[idx] = np.append(beats[idx], catval)\n",
        "\n",
        "        beatstoremove = np.append(beatstoremove, len(beats)-1)\n",
        "\n",
        "        # Remove first and last beats and the ones without classification.\n",
        "        beats = np.delete(beats, beatstoremove)\n",
        "\n",
        "        # Save to CSV file.\n",
        "        savedata = np.array(list(beats[:]), dtype=np.float)\n",
        "        outfn = '/content/drive/My Drive/Colab Notebooks/data_ecg/'+ path + '_'+ chname + '.csv'\n",
        "        print(' Generating ', outfn)\n",
        "        with open(outfn, \"wb\") as fin:\n",
        "            np.savetxt(fin, savedata, delimiter=\",\", fmt='%f')"
      ],
      "execution_count": null,
      "outputs": [
        {
          "output_type": "stream",
          "text": [
            "100\n",
            " Generating  /content/drive/My Drive/Colab Notebooks/data_ecg/100_MLII.csv\n",
            " Generating  /content/drive/My Drive/Colab Notebooks/data_ecg/100_V5.csv\n",
            "101\n",
            " Generating  /content/drive/My Drive/Colab Notebooks/data_ecg/101_MLII.csv\n",
            " Generating  /content/drive/My Drive/Colab Notebooks/data_ecg/101_V1.csv\n",
            " Generating  /content/drive/My Drive/Colab Notebooks/data_ecg/102_V5.csv\n",
            " Generating  /content/drive/My Drive/Colab Notebooks/data_ecg/102_V2.csv\n",
            "103\n",
            " Generating  /content/drive/My Drive/Colab Notebooks/data_ecg/103_MLII.csv\n",
            " Generating  /content/drive/My Drive/Colab Notebooks/data_ecg/103_V2.csv\n",
            "104\n",
            " Generating  /content/drive/My Drive/Colab Notebooks/data_ecg/104_V5.csv\n",
            " Generating  /content/drive/My Drive/Colab Notebooks/data_ecg/104_V2.csv\n",
            "105\n",
            " Generating  /content/drive/My Drive/Colab Notebooks/data_ecg/105_MLII.csv\n",
            " Generating  /content/drive/My Drive/Colab Notebooks/data_ecg/105_V1.csv\n",
            "106\n",
            " Generating  /content/drive/My Drive/Colab Notebooks/data_ecg/106_MLII.csv\n",
            " Generating  /content/drive/My Drive/Colab Notebooks/data_ecg/106_V1.csv\n",
            "107\n",
            " Generating  /content/drive/My Drive/Colab Notebooks/data_ecg/107_MLII.csv\n",
            " Generating  /content/drive/My Drive/Colab Notebooks/data_ecg/107_V1.csv\n",
            "108\n",
            " Generating  /content/drive/My Drive/Colab Notebooks/data_ecg/108_MLII.csv\n",
            " Generating  /content/drive/My Drive/Colab Notebooks/data_ecg/108_V1.csv\n",
            "109\n",
            " Generating  /content/drive/My Drive/Colab Notebooks/data_ecg/109_MLII.csv\n",
            " Generating  /content/drive/My Drive/Colab Notebooks/data_ecg/109_V1.csv\n",
            "111\n",
            " Generating  /content/drive/My Drive/Colab Notebooks/data_ecg/111_MLII.csv\n",
            " Generating  /content/drive/My Drive/Colab Notebooks/data_ecg/111_V1.csv\n",
            "112\n",
            " Generating  /content/drive/My Drive/Colab Notebooks/data_ecg/112_MLII.csv\n",
            " Generating  /content/drive/My Drive/Colab Notebooks/data_ecg/112_V1.csv\n",
            "113\n",
            " Generating  /content/drive/My Drive/Colab Notebooks/data_ecg/113_MLII.csv\n",
            " Generating  /content/drive/My Drive/Colab Notebooks/data_ecg/113_V1.csv\n",
            "114\n",
            " Generating  /content/drive/My Drive/Colab Notebooks/data_ecg/114_V5.csv\n",
            " Generating  /content/drive/My Drive/Colab Notebooks/data_ecg/114_MLII.csv\n",
            "115\n",
            " Generating  /content/drive/My Drive/Colab Notebooks/data_ecg/115_MLII.csv\n",
            " Generating  /content/drive/My Drive/Colab Notebooks/data_ecg/115_V1.csv\n",
            "116\n",
            " Generating  /content/drive/My Drive/Colab Notebooks/data_ecg/116_MLII.csv\n",
            " Generating  /content/drive/My Drive/Colab Notebooks/data_ecg/116_V1.csv\n",
            "117\n",
            " Generating  /content/drive/My Drive/Colab Notebooks/data_ecg/117_MLII.csv\n",
            " Generating  /content/drive/My Drive/Colab Notebooks/data_ecg/117_V2.csv\n",
            "118\n",
            " Generating  /content/drive/My Drive/Colab Notebooks/data_ecg/118_MLII.csv\n",
            " Generating  /content/drive/My Drive/Colab Notebooks/data_ecg/118_V1.csv\n",
            "119\n",
            " Generating  /content/drive/My Drive/Colab Notebooks/data_ecg/119_MLII.csv\n",
            " Generating  /content/drive/My Drive/Colab Notebooks/data_ecg/119_V1.csv\n",
            "121\n",
            " Generating  /content/drive/My Drive/Colab Notebooks/data_ecg/121_MLII.csv\n",
            " Generating  /content/drive/My Drive/Colab Notebooks/data_ecg/121_V1.csv\n",
            "122\n",
            " Generating  /content/drive/My Drive/Colab Notebooks/data_ecg/122_MLII.csv\n",
            " Generating  /content/drive/My Drive/Colab Notebooks/data_ecg/122_V1.csv\n",
            "123\n",
            " Generating  /content/drive/My Drive/Colab Notebooks/data_ecg/123_MLII.csv\n",
            " Generating  /content/drive/My Drive/Colab Notebooks/data_ecg/123_V5.csv\n",
            "124\n",
            " Generating  /content/drive/My Drive/Colab Notebooks/data_ecg/124_MLII.csv\n",
            " Generating  /content/drive/My Drive/Colab Notebooks/data_ecg/124_V4.csv\n",
            "200\n",
            " Generating  /content/drive/My Drive/Colab Notebooks/data_ecg/200_MLII.csv\n",
            " Generating  /content/drive/My Drive/Colab Notebooks/data_ecg/200_V1.csv\n",
            "201\n",
            " Generating  /content/drive/My Drive/Colab Notebooks/data_ecg/201_MLII.csv\n",
            " Generating  /content/drive/My Drive/Colab Notebooks/data_ecg/201_V1.csv\n",
            "202\n",
            " Generating  /content/drive/My Drive/Colab Notebooks/data_ecg/202_MLII.csv\n",
            " Generating  /content/drive/My Drive/Colab Notebooks/data_ecg/202_V1.csv\n",
            "203\n",
            " Generating  /content/drive/My Drive/Colab Notebooks/data_ecg/203_MLII.csv\n",
            " Generating  /content/drive/My Drive/Colab Notebooks/data_ecg/203_V1.csv\n",
            "205\n",
            " Generating  /content/drive/My Drive/Colab Notebooks/data_ecg/205_MLII.csv\n",
            " Generating  /content/drive/My Drive/Colab Notebooks/data_ecg/205_V1.csv\n",
            "207\n",
            " Generating  /content/drive/My Drive/Colab Notebooks/data_ecg/207_MLII.csv\n",
            " Generating  /content/drive/My Drive/Colab Notebooks/data_ecg/207_V1.csv\n",
            "208\n",
            " Generating  /content/drive/My Drive/Colab Notebooks/data_ecg/208_MLII.csv\n",
            " Generating  /content/drive/My Drive/Colab Notebooks/data_ecg/208_V1.csv\n",
            "209\n",
            " Generating  /content/drive/My Drive/Colab Notebooks/data_ecg/209_MLII.csv\n",
            " Generating  /content/drive/My Drive/Colab Notebooks/data_ecg/209_V1.csv\n",
            "210\n",
            " Generating  /content/drive/My Drive/Colab Notebooks/data_ecg/210_MLII.csv\n",
            " Generating  /content/drive/My Drive/Colab Notebooks/data_ecg/210_V1.csv\n",
            "212\n",
            " Generating  /content/drive/My Drive/Colab Notebooks/data_ecg/212_MLII.csv\n",
            " Generating  /content/drive/My Drive/Colab Notebooks/data_ecg/212_V1.csv\n",
            "213\n",
            " Generating  /content/drive/My Drive/Colab Notebooks/data_ecg/213_MLII.csv\n",
            " Generating  /content/drive/My Drive/Colab Notebooks/data_ecg/213_V1.csv\n",
            "214\n",
            " Generating  /content/drive/My Drive/Colab Notebooks/data_ecg/214_MLII.csv\n",
            " Generating  /content/drive/My Drive/Colab Notebooks/data_ecg/214_V1.csv\n",
            "215\n",
            " Generating  /content/drive/My Drive/Colab Notebooks/data_ecg/215_MLII.csv\n",
            " Generating  /content/drive/My Drive/Colab Notebooks/data_ecg/215_V1.csv\n",
            "217\n",
            " Generating  /content/drive/My Drive/Colab Notebooks/data_ecg/217_MLII.csv\n",
            " Generating  /content/drive/My Drive/Colab Notebooks/data_ecg/217_V1.csv\n",
            "219\n",
            " Generating  /content/drive/My Drive/Colab Notebooks/data_ecg/219_MLII.csv\n",
            " Generating  /content/drive/My Drive/Colab Notebooks/data_ecg/219_V1.csv\n",
            "220\n",
            " Generating  /content/drive/My Drive/Colab Notebooks/data_ecg/220_MLII.csv\n",
            " Generating  /content/drive/My Drive/Colab Notebooks/data_ecg/220_V1.csv\n",
            "221\n",
            " Generating  /content/drive/My Drive/Colab Notebooks/data_ecg/221_MLII.csv\n",
            " Generating  /content/drive/My Drive/Colab Notebooks/data_ecg/221_V1.csv\n",
            "222\n",
            " Generating  /content/drive/My Drive/Colab Notebooks/data_ecg/222_MLII.csv\n",
            " Generating  /content/drive/My Drive/Colab Notebooks/data_ecg/222_V1.csv\n",
            "223\n",
            " Generating  /content/drive/My Drive/Colab Notebooks/data_ecg/223_MLII.csv\n",
            " Generating  /content/drive/My Drive/Colab Notebooks/data_ecg/223_V1.csv\n",
            "228\n",
            " Generating  /content/drive/My Drive/Colab Notebooks/data_ecg/228_MLII.csv\n",
            " Generating  /content/drive/My Drive/Colab Notebooks/data_ecg/228_V1.csv\n",
            "230\n",
            " Generating  /content/drive/My Drive/Colab Notebooks/data_ecg/230_MLII.csv\n",
            " Generating  /content/drive/My Drive/Colab Notebooks/data_ecg/230_V1.csv\n",
            "231\n",
            " Generating  /content/drive/My Drive/Colab Notebooks/data_ecg/231_MLII.csv\n",
            " Generating  /content/drive/My Drive/Colab Notebooks/data_ecg/231_V1.csv\n",
            "232\n",
            " Generating  /content/drive/My Drive/Colab Notebooks/data_ecg/232_MLII.csv\n",
            " Generating  /content/drive/My Drive/Colab Notebooks/data_ecg/232_V1.csv\n",
            "233\n",
            " Generating  /content/drive/My Drive/Colab Notebooks/data_ecg/233_MLII.csv\n",
            " Generating  /content/drive/My Drive/Colab Notebooks/data_ecg/233_V1.csv\n",
            "234\n",
            " Generating  /content/drive/My Drive/Colab Notebooks/data_ecg/234_MLII.csv\n",
            " Generating  /content/drive/My Drive/Colab Notebooks/data_ecg/234_V1.csv\n"
          ],
          "name": "stdout"
        }
      ]
    },
    {
      "cell_type": "code",
      "metadata": {
        "id": "NyZ1BvDu4Znq",
        "colab_type": "code",
        "colab": {
          "base_uri": "https://localhost:8080/",
          "height": 34
        },
        "outputId": "a4cb2245-9c89-408c-d497-9b932619d6bb"
      },
      "source": [
        "data = np.loadtxt('/content/drive/My Drive/Colab Notebooks/data_ecg/104_V5.csv', delimiter=',')\n",
        "print(data.shape)"
      ],
      "execution_count": null,
      "outputs": [
        {
          "output_type": "stream",
          "text": [
            "(1516, 188)\n"
          ],
          "name": "stdout"
        }
      ]
    },
    {
      "cell_type": "code",
      "metadata": {
        "id": "uIwIamG48C9c",
        "colab_type": "code",
        "colab": {
          "base_uri": "https://localhost:8080/",
          "height": 1000
        },
        "outputId": "312b234f-fbb4-463e-f009-6ef3373ae037"
      },
      "source": [
        "for beatid in [0,1,2,3,99,200,502,1428,943]:\n",
        "    times = np.arange(187, dtype = 'float') / 187\n",
        "    beat = data[beatid][:-1]\n",
        "    anno = data[beatid][-1]\n",
        "    plt.figure(figsize=(20,5))\n",
        "    if (anno == 0.0):\n",
        "      plt.plot(times, beat, 'b')\n",
        "    else:\n",
        "      plt.plot(times, beat, 'r')\n",
        "    plt.xlabel('Time [s]')\n",
        "    plt.ylabel('beat ' + str(beatid) + \" type \" + str(anno))\n",
        "    #plt.show()\n",
        "    plt.savefig('/content/drive/My Drive/Colab Notebooks/data_ecg_v2/4.png')"
      ],
      "execution_count": null,
      "outputs": [
        {
          "output_type": "display_data",
          "data": {
            "image/png": "[encoded data removed]",
            "text/plain": [
              "<Figure size 1440x360 with 1 Axes>"
            ]
          },
          "metadata": {
            "tags": [],
            "needs_background": "light"
          }
        },
        {
          "output_type": "display_data",
          "data": {
            "image/png": "[encoded data removed]",
            "text/plain": [
              "<Figure size 1440x360 with 1 Axes>"
            ]
          },
          "metadata": {
            "tags": [],
            "needs_background": "light"
          }
        },
        {
          "output_type": "display_data",
          "data": {
            "image/png": "[encoded data removed]",
            "text/plain": [
              "<Figure size 1440x360 with 1 Axes>"
            ]
          },
          "metadata": {
            "tags": [],
            "needs_background": "light"
          }
        },
        {
          "output_type": "display_data",
          "data": {
            "image/png": "[encoded data removed]",
            "text/plain": [
              "<Figure size 1440x360 with 1 Axes>"
            ]
          },
          "metadata": {
            "tags": [],
            "needs_background": "light"
          }
        },
        {
          "output_type": "display_data",
          "data": {
            "image/png": "[encoded data removed]",
            "text/plain": [
              "<Figure size 1440x360 with 1 Axes>"
            ]
          },
          "metadata": {
            "tags": [],
            "needs_background": "light"
          }
        },
        {
          "output_type": "display_data",
          "data": {
            "image/png": "[encoded data removed]",
            "text/plain": [
              "<Figure size 1440x360 with 1 Axes>"
            ]
          },
          "metadata": {
            "tags": [],
            "needs_background": "light"
          }
        },
        {
          "output_type": "display_data",
          "data": {
            "image/png": "[encoded data removed]",
            "text/plain": [
              "<Figure size 1440x360 with 1 Axes>"
            ]
          },
          "metadata": {
            "tags": [],
            "needs_background": "light"
          }
        },
        {
          "output_type": "display_data",
          "data": {
            "image/png": "[encoded data removed]",
            "text/plain": [
              "<Figure size 1440x360 with 1 Axes>"
            ]
          },
          "metadata": {
            "tags": [],
            "needs_background": "light"
          }
        },
        {
          "output_type": "display_data",
          "data": {
            "image/png": "[encoded data removed]",
            "text/plain": [
              "<Figure size 1440x360 with 1 Axes>"
            ]
          },
          "metadata": {
            "tags": [],
            "needs_background": "light"
          }
        }
      ]
    },
    {
      "cell_type": "markdown",
      "metadata": {
        "id": "KdCzs9YC8nUe",
        "colab_type": "text"
      },
      "source": [
        "#Load data"
      ]
    },
    {
      "cell_type": "code",
      "metadata": {
        "id": "SQeUr4BU8GUd",
        "colab_type": "code",
        "colab": {
          "base_uri": "https://localhost:8080/",
          "height": 1000
        },
        "outputId": "c3636451-e316-4436-9a4b-9ee3379bb7e8"
      },
      "source": [
        "alldata = np.empty(shape=[0, 188])\n",
        "print(alldata.shape)\n",
        "paths = glob('/content/drive/My Drive/Colab Notebooks/data_ecg/*.csv')\n",
        "for path in paths:\n",
        "    print('Loading ', path)\n",
        "    try:\n",
        "      csvrows = np.loadtxt(path, delimiter=',')\n",
        "      alldata = np.append(alldata, csvrows, axis=0)\n",
        "    except:\n",
        "      print(\"Error\")"
      ],
      "execution_count": null,
      "outputs": [
        {
          "output_type": "stream",
          "text": [
            "(0, 188)\n",
            "Loading  /content/drive/My Drive/Colab Notebooks/data_ecg/100_MLII.csv\n",
            "Loading  /content/drive/My Drive/Colab Notebooks/data_ecg/100_V5.csv\n",
            "Loading  /content/drive/My Drive/Colab Notebooks/data_ecg/101_MLII.csv\n",
            "Loading  /content/drive/My Drive/Colab Notebooks/data_ecg/101_V1.csv\n",
            "Loading  /content/drive/My Drive/Colab Notebooks/data_ecg/102_V5.csv\n",
            "Loading  /content/drive/My Drive/Colab Notebooks/data_ecg/102_V2.csv\n",
            "Loading  /content/drive/My Drive/Colab Notebooks/data_ecg/103_MLII.csv\n",
            "Loading  /content/drive/My Drive/Colab Notebooks/data_ecg/103_V2.csv\n",
            "Loading  /content/drive/My Drive/Colab Notebooks/data_ecg/104_V5.csv\n",
            "Loading  /content/drive/My Drive/Colab Notebooks/data_ecg/104_V2.csv\n",
            "Loading  /content/drive/My Drive/Colab Notebooks/data_ecg/105_MLII.csv\n",
            "Loading  /content/drive/My Drive/Colab Notebooks/data_ecg/105_V1.csv\n",
            "Loading  /content/drive/My Drive/Colab Notebooks/data_ecg/106_MLII.csv\n",
            "Loading  /content/drive/My Drive/Colab Notebooks/data_ecg/106_V1.csv\n",
            "Loading  /content/drive/My Drive/Colab Notebooks/data_ecg/107_MLII.csv\n",
            "Loading  /content/drive/My Drive/Colab Notebooks/data_ecg/107_V1.csv\n",
            "Loading  /content/drive/My Drive/Colab Notebooks/data_ecg/108_MLII.csv\n",
            "Loading  /content/drive/My Drive/Colab Notebooks/data_ecg/108_V1.csv\n",
            "Loading  /content/drive/My Drive/Colab Notebooks/data_ecg/109_MLII.csv\n",
            "Loading  /content/drive/My Drive/Colab Notebooks/data_ecg/109_V1.csv\n",
            "Loading  /content/drive/My Drive/Colab Notebooks/data_ecg/111_MLII.csv\n",
            "Loading  /content/drive/My Drive/Colab Notebooks/data_ecg/111_V1.csv\n",
            "Loading  /content/drive/My Drive/Colab Notebooks/data_ecg/112_MLII.csv\n",
            "Loading  /content/drive/My Drive/Colab Notebooks/data_ecg/112_V1.csv\n",
            "Loading  /content/drive/My Drive/Colab Notebooks/data_ecg/113_MLII.csv\n",
            "Loading  /content/drive/My Drive/Colab Notebooks/data_ecg/113_V1.csv\n",
            "Loading  /content/drive/My Drive/Colab Notebooks/data_ecg/114_V5.csv\n",
            "Loading  /content/drive/My Drive/Colab Notebooks/data_ecg/114_MLII.csv\n",
            "Loading  /content/drive/My Drive/Colab Notebooks/data_ecg/115_MLII.csv\n",
            "Loading  /content/drive/My Drive/Colab Notebooks/data_ecg/115_V1.csv\n",
            "Loading  /content/drive/My Drive/Colab Notebooks/data_ecg/116_MLII.csv\n",
            "Loading  /content/drive/My Drive/Colab Notebooks/data_ecg/116_V1.csv\n",
            "Loading  /content/drive/My Drive/Colab Notebooks/data_ecg/117_MLII.csv\n",
            "Loading  /content/drive/My Drive/Colab Notebooks/data_ecg/117_V2.csv\n",
            "Loading  /content/drive/My Drive/Colab Notebooks/data_ecg/118_MLII.csv\n",
            "Loading  /content/drive/My Drive/Colab Notebooks/data_ecg/118_V1.csv\n",
            "Loading  /content/drive/My Drive/Colab Notebooks/data_ecg/119_MLII.csv\n",
            "Loading  /content/drive/My Drive/Colab Notebooks/data_ecg/119_V1.csv\n",
            "Loading  /content/drive/My Drive/Colab Notebooks/data_ecg/121_MLII.csv\n",
            "Loading  /content/drive/My Drive/Colab Notebooks/data_ecg/121_V1.csv\n",
            "Loading  /content/drive/My Drive/Colab Notebooks/data_ecg/122_MLII.csv\n",
            "Loading  /content/drive/My Drive/Colab Notebooks/data_ecg/122_V1.csv\n",
            "Loading  /content/drive/My Drive/Colab Notebooks/data_ecg/123_MLII.csv\n",
            "Loading  /content/drive/My Drive/Colab Notebooks/data_ecg/123_V5.csv\n",
            "Loading  /content/drive/My Drive/Colab Notebooks/data_ecg/124_MLII.csv\n",
            "Loading  /content/drive/My Drive/Colab Notebooks/data_ecg/124_V4.csv\n",
            "Loading  /content/drive/My Drive/Colab Notebooks/data_ecg/200_MLII.csv\n",
            "Loading  /content/drive/My Drive/Colab Notebooks/data_ecg/200_V1.csv\n",
            "Loading  /content/drive/My Drive/Colab Notebooks/data_ecg/201_MLII.csv\n",
            "Loading  /content/drive/My Drive/Colab Notebooks/data_ecg/201_V1.csv\n",
            "Loading  /content/drive/My Drive/Colab Notebooks/data_ecg/202_MLII.csv\n",
            "Loading  /content/drive/My Drive/Colab Notebooks/data_ecg/202_V1.csv\n",
            "Loading  /content/drive/My Drive/Colab Notebooks/data_ecg/203_MLII.csv\n",
            "Loading  /content/drive/My Drive/Colab Notebooks/data_ecg/203_V1.csv\n",
            "Loading  /content/drive/My Drive/Colab Notebooks/data_ecg/205_MLII.csv\n",
            "Loading  /content/drive/My Drive/Colab Notebooks/data_ecg/205_V1.csv\n",
            "Loading  /content/drive/My Drive/Colab Notebooks/data_ecg/207_MLII.csv\n",
            "Loading  /content/drive/My Drive/Colab Notebooks/data_ecg/207_V1.csv\n",
            "Loading  /content/drive/My Drive/Colab Notebooks/data_ecg/208_MLII.csv\n",
            "Loading  /content/drive/My Drive/Colab Notebooks/data_ecg/208_V1.csv\n",
            "Loading  /content/drive/My Drive/Colab Notebooks/data_ecg/209_MLII.csv\n",
            "Loading  /content/drive/My Drive/Colab Notebooks/data_ecg/209_V1.csv\n",
            "Loading  /content/drive/My Drive/Colab Notebooks/data_ecg/210_MLII.csv\n",
            "Loading  /content/drive/My Drive/Colab Notebooks/data_ecg/210_V1.csv\n",
            "Loading  /content/drive/My Drive/Colab Notebooks/data_ecg/212_MLII.csv\n",
            "Loading  /content/drive/My Drive/Colab Notebooks/data_ecg/212_V1.csv\n",
            "Loading  /content/drive/My Drive/Colab Notebooks/data_ecg/213_MLII.csv\n",
            "Loading  /content/drive/My Drive/Colab Notebooks/data_ecg/213_V1.csv\n",
            "Loading  /content/drive/My Drive/Colab Notebooks/data_ecg/214_MLII.csv\n",
            "Loading  /content/drive/My Drive/Colab Notebooks/data_ecg/214_V1.csv\n",
            "Loading  /content/drive/My Drive/Colab Notebooks/data_ecg/215_MLII.csv\n",
            "Loading  /content/drive/My Drive/Colab Notebooks/data_ecg/215_V1.csv\n",
            "Loading  /content/drive/My Drive/Colab Notebooks/data_ecg/217_MLII.csv\n",
            "Loading  /content/drive/My Drive/Colab Notebooks/data_ecg/217_V1.csv\n",
            "Loading  /content/drive/My Drive/Colab Notebooks/data_ecg/219_MLII.csv\n",
            "Loading  /content/drive/My Drive/Colab Notebooks/data_ecg/219_V1.csv\n",
            "Loading  /content/drive/My Drive/Colab Notebooks/data_ecg/220_MLII.csv\n",
            "Loading  /content/drive/My Drive/Colab Notebooks/data_ecg/220_V1.csv\n",
            "Loading  /content/drive/My Drive/Colab Notebooks/data_ecg/221_MLII.csv\n",
            "Loading  /content/drive/My Drive/Colab Notebooks/data_ecg/221_V1.csv\n",
            "Loading  /content/drive/My Drive/Colab Notebooks/data_ecg/222_MLII.csv\n",
            "Loading  /content/drive/My Drive/Colab Notebooks/data_ecg/222_V1.csv\n",
            "Loading  /content/drive/My Drive/Colab Notebooks/data_ecg/223_MLII.csv\n",
            "Loading  /content/drive/My Drive/Colab Notebooks/data_ecg/223_V1.csv\n",
            "Loading  /content/drive/My Drive/Colab Notebooks/data_ecg/228_MLII.csv\n",
            "Loading  /content/drive/My Drive/Colab Notebooks/data_ecg/228_V1.csv\n",
            "Loading  /content/drive/My Drive/Colab Notebooks/data_ecg/230_MLII.csv\n",
            "Loading  /content/drive/My Drive/Colab Notebooks/data_ecg/230_V1.csv\n",
            "Loading  /content/drive/My Drive/Colab Notebooks/data_ecg/231_MLII.csv\n",
            "Loading  /content/drive/My Drive/Colab Notebooks/data_ecg/231_V1.csv\n",
            "Loading  /content/drive/My Drive/Colab Notebooks/data_ecg/232_MLII.csv\n",
            "Loading  /content/drive/My Drive/Colab Notebooks/data_ecg/232_V1.csv\n",
            "Loading  /content/drive/My Drive/Colab Notebooks/data_ecg/233_MLII.csv\n",
            "Loading  /content/drive/My Drive/Colab Notebooks/data_ecg/233_V1.csv\n",
            "Loading  /content/drive/My Drive/Colab Notebooks/data_ecg/234_MLII.csv\n",
            "Loading  /content/drive/My Drive/Colab Notebooks/data_ecg/234_V1.csv\n"
          ],
          "name": "stdout"
        }
      ]
    },
    {
      "cell_type": "code",
      "metadata": {
        "id": "uQk9s10_9R0s",
        "colab_type": "code",
        "colab": {
          "base_uri": "https://localhost:8080/",
          "height": 34
        },
        "outputId": "3e4261d4-6305-4f6f-901b-ed578c5159a1"
      },
      "source": [
        "alldata.shape"
      ],
      "execution_count": null,
      "outputs": [
        {
          "output_type": "execute_result",
          "data": {
            "text/plain": [
              "(146234, 188)"
            ]
          },
          "metadata": {
            "tags": []
          },
          "execution_count": 19
        }
      ]
    },
    {
      "cell_type": "code",
      "metadata": {
        "id": "XWd1T7Bc9-5s",
        "colab_type": "code",
        "colab": {}
      },
      "source": [
        "# Randomly mix rows\n",
        "np.random.shuffle(alldata)\n",
        "totrows = len(alldata)\n",
        "trainrows = int((totrows * 3 / 5) + 0.5) # 60%\n",
        "testrows = int((totrows * 1 / 5) + 0.5) # 20%\n",
        "validaterows = totrows - trainrows - testrows # 20%\n",
        "mark1 = trainrows\n",
        "mark2 = mark1 + testrows"
      ],
      "execution_count": null,
      "outputs": []
    },
    {
      "cell_type": "code",
      "metadata": {
        "id": "2EqP-bjp_OG8",
        "colab_type": "code",
        "colab": {}
      },
      "source": [
        "with open('/content/drive/My Drive/Colab Notebooks/data_ecg/train.csv', \"wb\") as fin:\n",
        "    np.savetxt(fin, alldata[:mark1], delimiter=\",\", fmt='%f')\n",
        "\n",
        "with open('/content/drive/My Drive/Colab Notebooks/data_ecg/test.csv', \"wb\") as fin:\n",
        "    np.savetxt(fin, alldata[mark1:mark2], delimiter=\",\", fmt='%f')\n",
        "\n",
        "with open('/content/drive/My Drive/Colab Notebooks/data_ecg/validate.csv', \"wb\") as fin:\n",
        "    np.savetxt(fin, alldata[mark2:], delimiter=\",\", fmt='%f')"
      ],
      "execution_count": null,
      "outputs": []
    },
    {
      "cell_type": "markdown",
      "metadata": {
        "id": "_E4_xIlpLy2j",
        "colab_type": "text"
      },
      "source": [
        "#Model training"
      ]
    },
    {
      "cell_type": "code",
      "metadata": {
        "id": "CTJTMVWr_oFw",
        "colab_type": "code",
        "colab": {}
      },
      "source": [
        "# Training dataset.\n",
        "df = pd.read_csv(\"/content/drive/My Drive/Colab Notebooks/data_ecg/train.csv\", header=None)\n",
        "x_train = df.values[:, :-1]\n",
        "y_train = df.values[:, -1].astype(int)\n",
        "\n",
        "# Validation dataset.\n",
        "df = pd.read_csv(\"/content/drive/My Drive/Colab Notebooks/data_ecg/validate.csv\", header=None)\n",
        "x_validate = df.values[:, :-1]\n",
        "y_validate = df.values[:, -1].astype(int)\n",
        "\n",
        "# Test dataset.\n",
        "df = pd.read_csv(\"/content/drive/My Drive/Colab Notebooks/data_ecg/test.csv\", header=None)\n",
        "x_test = df.values[:, :-1]\n",
        "y_test = df.values[:, -1].astype(int)"
      ],
      "execution_count": null,
      "outputs": []
    },
    {
      "cell_type": "code",
      "metadata": {
        "id": "EH1r6F9SL1EQ",
        "colab_type": "code",
        "colab": {
          "base_uri": "https://localhost:8080/",
          "height": 156
        },
        "outputId": "71d8a9a6-0361-459d-df08-d626fdfc5638"
      },
      "source": [
        "print(np.unique(y_train, return_counts = True))\n",
        "print(np.unique(y_validate, return_counts = True))\n",
        "print(np.unique(y_test, return_counts = True))\n",
        "print(x_test.shape, y_test.shape)\n",
        "print(x_validate.shape, y_validate.shape)\n",
        "print(x_test.shape, y_train.shape)\n",
        "\n",
        "print(np.unique(y_train, return_counts = True) + np.unique(y_validate, return_counts = True) + np.unique(y_test, return_counts = True))"
      ],
      "execution_count": null,
      "outputs": [
        {
          "output_type": "stream",
          "text": [
            "(array([0, 1, 2, 3, 4, 5]), array([67529,  3863,  5784,  2832,  5861,  1871]))\n",
            "(array([0, 1, 2, 3, 4, 5]), array([22402,  1363,  1927,   988,  1924,   643]))\n",
            "(array([0, 1, 2, 3, 4, 5]), array([22516,  1340,  1874,   963,  1937,   617]))\n",
            "(29247, 187) (29247,)\n",
            "(29247, 187) (29247,)\n",
            "(29247, 187) (87740,)\n",
            "(array([0, 1, 2, 3, 4, 5]), array([67529,  3863,  5784,  2832,  5861,  1871]), array([0, 1, 2, 3, 4, 5]), array([22402,  1363,  1927,   988,  1924,   643]), array([0, 1, 2, 3, 4, 5]), array([22516,  1340,  1874,   963,  1937,   617]))\n"
          ],
          "name": "stdout"
        }
      ]
    },
    {
      "cell_type": "code",
      "metadata": {
        "id": "rdqU8cR8sTRc",
        "colab_type": "code",
        "colab": {
          "base_uri": "https://localhost:8080/",
          "height": 34
        },
        "outputId": "38b7e536-97e0-483b-d9af-390bbb6f1d64"
      },
      "source": [
        "a = np.unique(y_test, return_counts = True)\n",
        "print(a[1])"
      ],
      "execution_count": null,
      "outputs": [
        {
          "output_type": "stream",
          "text": [
            "[22516  1340  1874   963  1937   617]\n"
          ],
          "name": "stdout"
        }
      ]
    },
    {
      "cell_type": "code",
      "metadata": {
        "id": "a-ureoGmMJyR",
        "colab_type": "code",
        "colab": {}
      },
      "source": [
        "del df"
      ],
      "execution_count": null,
      "outputs": []
    },
    {
      "cell_type": "code",
      "metadata": {
        "id": "c1WJS4mjMovl",
        "colab_type": "code",
        "colab": {}
      },
      "source": [
        "C0 = np.argwhere(y_train == 0).flatten()\n",
        "C1 = np.argwhere(y_train == 1).flatten()\n",
        "C2 = np.argwhere(y_train == 2).flatten()\n",
        "C3 = np.argwhere(y_train == 3).flatten()\n",
        "C4 = np.argwhere(y_train == 4).flatten()\n",
        "C5 = np.argwhere(y_train == 5).flatten()"
      ],
      "execution_count": null,
      "outputs": []
    },
    {
      "cell_type": "code",
      "metadata": {
        "id": "v6T3STJcJaOM",
        "colab_type": "code",
        "colab": {
          "base_uri": "https://localhost:8080/",
          "height": 34
        },
        "outputId": "d401b361-7e4c-4076-af3b-1a43bc604b32"
      },
      "source": [
        "x_train[C0, :][0].shape"
      ],
      "execution_count": null,
      "outputs": [
        {
          "output_type": "execute_result",
          "data": {
            "text/plain": [
              "(187,)"
            ]
          },
          "metadata": {
            "tags": []
          },
          "execution_count": 36
        }
      ]
    },
    {
      "cell_type": "code",
      "metadata": {
        "id": "GxfouNy7Muxf",
        "colab_type": "code",
        "colab": {
          "base_uri": "https://localhost:8080/",
          "height": 231
        },
        "outputId": "65d9ff2e-d63e-4772-b476-4f6fcd81634c"
      },
      "source": [
        "x = np.arange(0, 187)*8/1000.0\n",
        "\n",
        "plt.figure(figsize=(20,12))\n",
        "plt.plot(x, x_train[C0, :][0], label=\"N\") # Display first normal beat.\n",
        "plt.plot(x, x_train[C1, :][0], label=\"L\") # Display first abnormal beat.\n",
        "plt.plot(x, x_train[C2, :][0], label=\"R\") # Display first abnormal beat.\n",
        "plt.plot(x, x_train[C3, :][0], label=\"V\") # Display first abnormal beat.\n",
        "plt.plot(x, x_train[C4, :][0], label=\"/\") # Display first abnormal beat.\n",
        "plt.plot(x, x_train[C5, :][0], label=\"A\") \n",
        "\n",
        "plt.legend()\n",
        "plt.title(\"1-beat ECG for every category\", fontsize=20)\n",
        "plt.ylabel(\"Normalized Amplitude (0 - 1)\", fontsize=15)\n",
        "plt.xlabel(\"Time (ms)\", fontsize=15)\n",
        "plt.savefig('/content/drive/My Drive/Colab Notebooks/data_ecg_v2/1-beat ECG for every category 2.jpg')"
      ],
      "execution_count": null,
      "outputs": [
        {
          "output_type": "error",
          "ename": "NameError",
          "evalue": "ignored",
          "traceback": [
            "\u001b[0;31m---------------------------------------------------------------------------\u001b[0m",
            "\u001b[0;31mNameError\u001b[0m                                 Traceback (most recent call last)",
            "\u001b[0;32m<ipython-input-1-888acd393a83>\u001b[0m in \u001b[0;36m<module>\u001b[0;34m()\u001b[0m\n\u001b[0;32m----> 1\u001b[0;31m \u001b[0mx\u001b[0m \u001b[0;34m=\u001b[0m \u001b[0mnp\u001b[0m\u001b[0;34m.\u001b[0m\u001b[0marange\u001b[0m\u001b[0;34m(\u001b[0m\u001b[0;36m0\u001b[0m\u001b[0;34m,\u001b[0m \u001b[0;36m187\u001b[0m\u001b[0;34m)\u001b[0m\u001b[0;34m*\u001b[0m\u001b[0;36m8\u001b[0m\u001b[0;34m/\u001b[0m\u001b[0;36m1000.0\u001b[0m\u001b[0;34m\u001b[0m\u001b[0;34m\u001b[0m\u001b[0m\n\u001b[0m\u001b[1;32m      2\u001b[0m \u001b[0;34m\u001b[0m\u001b[0m\n\u001b[1;32m      3\u001b[0m \u001b[0mplt\u001b[0m\u001b[0;34m.\u001b[0m\u001b[0mfigure\u001b[0m\u001b[0;34m(\u001b[0m\u001b[0mfigsize\u001b[0m\u001b[0;34m=\u001b[0m\u001b[0;34m(\u001b[0m\u001b[0;36m20\u001b[0m\u001b[0;34m,\u001b[0m\u001b[0;36m12\u001b[0m\u001b[0;34m)\u001b[0m\u001b[0;34m)\u001b[0m\u001b[0;34m\u001b[0m\u001b[0;34m\u001b[0m\u001b[0m\n\u001b[1;32m      4\u001b[0m \u001b[0mplt\u001b[0m\u001b[0;34m.\u001b[0m\u001b[0mplot\u001b[0m\u001b[0;34m(\u001b[0m\u001b[0mx\u001b[0m\u001b[0;34m,\u001b[0m \u001b[0mx_train\u001b[0m\u001b[0;34m[\u001b[0m\u001b[0mC0\u001b[0m\u001b[0;34m,\u001b[0m \u001b[0;34m:\u001b[0m\u001b[0;34m]\u001b[0m\u001b[0;34m[\u001b[0m\u001b[0;36m0\u001b[0m\u001b[0;34m]\u001b[0m\u001b[0;34m,\u001b[0m \u001b[0mlabel\u001b[0m\u001b[0;34m=\u001b[0m\u001b[0;34m\"N\"\u001b[0m\u001b[0;34m)\u001b[0m \u001b[0;31m# Display first normal beat.\u001b[0m\u001b[0;34m\u001b[0m\u001b[0;34m\u001b[0m\u001b[0m\n\u001b[1;32m      5\u001b[0m \u001b[0mplt\u001b[0m\u001b[0;34m.\u001b[0m\u001b[0mplot\u001b[0m\u001b[0;34m(\u001b[0m\u001b[0mx\u001b[0m\u001b[0;34m,\u001b[0m \u001b[0mx_train\u001b[0m\u001b[0;34m[\u001b[0m\u001b[0mC1\u001b[0m\u001b[0;34m,\u001b[0m \u001b[0;34m:\u001b[0m\u001b[0;34m]\u001b[0m\u001b[0;34m[\u001b[0m\u001b[0;36m0\u001b[0m\u001b[0;34m]\u001b[0m\u001b[0;34m,\u001b[0m \u001b[0mlabel\u001b[0m\u001b[0;34m=\u001b[0m\u001b[0;34m\"L\"\u001b[0m\u001b[0;34m)\u001b[0m \u001b[0;31m# Display first abnormal beat.\u001b[0m\u001b[0;34m\u001b[0m\u001b[0;34m\u001b[0m\u001b[0m\n",
            "\u001b[0;31mNameError\u001b[0m: name 'np' is not defined"
          ]
        }
      ]
    },
    {
      "cell_type": "code",
      "metadata": {
        "id": "heRGlxgwODK7",
        "colab_type": "code",
        "colab": {}
      },
      "source": [
        "feature_columns = [tf.feature_column.numeric_column('beat', shape=[187])]\n",
        "\n",
        "estimator = tf.estimator.DNNClassifier(\n",
        "   feature_columns = feature_columns,\n",
        "   hidden_units = [256, 64, 16],\n",
        "   optimizer = tf.optimizers.Adam(1e-4),\n",
        "   n_classes = 5,\n",
        "   dropout = 0.1,\n",
        "   model_dir = '/content/drive/My Drive/Colab Notebooks/ecg_model'\n",
        ")\n",
        "\n",
        "input_fn_train = tf.compat.v1.estimator.inputs.numpy_input_fn(\n",
        "    x = {'beat': x_train},\n",
        "    y = y_train,\n",
        "    num_epochs = None,\n",
        "    batch_size = 50,\n",
        "    shuffle = True\n",
        ")"
      ],
      "execution_count": null,
      "outputs": []
    },
    {
      "cell_type": "code",
      "metadata": {
        "id": "7qDkfDEnPJ5l",
        "colab_type": "code",
        "colab": {
          "base_uri": "https://localhost:8080/",
          "height": 34
        },
        "outputId": "5448cae1-bb20-4c1f-deff-739a8f7963b5"
      },
      "source": [
        "estimator.train(input_fn = input_fn_train, steps=400000) "
      ],
      "execution_count": null,
      "outputs": [
        {
          "output_type": "execute_result",
          "data": {
            "text/plain": [
              "<tensorflow_estimator.python.estimator.canned.dnn.DNNClassifierV2 at 0x7fdac19e3f60>"
            ]
          },
          "metadata": {
            "tags": []
          },
          "execution_count": 46
        }
      ]
    },
    {
      "cell_type": "code",
      "metadata": {
        "id": "FG-M7nHeQLv4",
        "colab_type": "code",
        "colab": {}
      },
      "source": [
        "input_fn_validate = tf.compat.v1.estimator.inputs.numpy_input_fn(\n",
        "    x = {'beat': x_validate},\n",
        "    y=y_validate,\n",
        "    num_epochs=1,\n",
        "    shuffle=False\n",
        ")"
      ],
      "execution_count": null,
      "outputs": []
    },
    {
      "cell_type": "code",
      "metadata": {
        "id": "u8OfMiqCQo-J",
        "colab_type": "code",
        "colab": {
          "base_uri": "https://localhost:8080/",
          "height": 70
        },
        "outputId": "f0dfe097-21c8-4acf-ff2e-60fc860e3748"
      },
      "source": [
        "accuracy_score = estimator.evaluate(input_fn=input_fn_validate)\n",
        "print('\\nTest Accuracy: {0:f}%\\n'.format(accuracy_score['accuracy']*100))"
      ],
      "execution_count": null,
      "outputs": [
        {
          "output_type": "stream",
          "text": [
            "\n",
            "Test Accuracy: 99.203354%\n",
            "\n"
          ],
          "name": "stdout"
        }
      ]
    },
    {
      "cell_type": "code",
      "metadata": {
        "id": "V5-PF3s3WqBS",
        "colab_type": "code",
        "colab": {}
      },
      "source": [
        "input_fn_test = tf.compat.v1.estimator.inputs.numpy_input_fn(\n",
        " x={'beat': x_test},\n",
        " y=y_test,\n",
        " num_epochs=1,\n",
        " shuffle=False\n",
        ")"
      ],
      "execution_count": null,
      "outputs": []
    },
    {
      "cell_type": "code",
      "metadata": {
        "id": "JE72dPViWuPZ",
        "colab_type": "code",
        "colab": {}
      },
      "source": [
        "predictions = estimator.predict(input_fn=input_fn_test)"
      ],
      "execution_count": null,
      "outputs": []
    },
    {
      "cell_type": "code",
      "metadata": {
        "id": "8dpQcvg_W1Sr",
        "colab_type": "code",
        "colab": {
          "base_uri": "https://localhost:8080/",
          "height": 1000
        },
        "outputId": "099b5faa-78cd-40b9-82a1-3a78a4484373"
      },
      "source": [
        "totvals = 0\n",
        "totwrong = 0\n",
        "\n",
        "for prediction, expected in zip(predictions, y_test):\n",
        "    totvals = totvals + 1\n",
        "    catpred = prediction['class_ids'][0]\n",
        "    certainty = prediction['probabilities'][catpred] * 100\n",
        "    if (expected != catpred):\n",
        "        totwrong = totwrong + 1\n",
        "        #print (prediction)\n",
        "        print('Real: ', expected, ', pred: ', catpred, ', cert: ', certainty)\n",
        "\n",
        "print('Accuracy: ', ((totvals - totwrong) * 100.0 / totvals))\n",
        "print('Wrong: ', totwrong, ' out of ', totvals)"
      ],
      "execution_count": null,
      "outputs": [
        {
          "output_type": "stream",
          "text": [
            "Real:  3 , pred:  0 , cert:  99.39026832580566\n",
            "Real:  3 , pred:  0 , cert:  76.35917067527771\n",
            "Real:  2 , pred:  0 , cert:  83.0461859703064\n",
            "Real:  0 , pred:  2 , cert:  74.12071228027344\n",
            "Real:  0 , pred:  3 , cert:  65.74440002441406\n",
            "Real:  4 , pred:  0 , cert:  95.9308922290802\n",
            "Real:  0 , pred:  2 , cert:  83.0263078212738\n",
            "Real:  3 , pred:  4 , cert:  94.24446821212769\n",
            "Real:  1 , pred:  0 , cert:  99.99946355819702\n",
            "Real:  3 , pred:  0 , cert:  99.77204203605652\n",
            "Real:  2 , pred:  0 , cert:  99.99836683273315\n",
            "Real:  0 , pred:  3 , cert:  99.80777502059937\n",
            "Real:  3 , pred:  0 , cert:  99.9182641506195\n",
            "Real:  0 , pred:  3 , cert:  77.8688907623291\n",
            "Real:  0 , pred:  4 , cert:  95.72435021400452\n",
            "Real:  0 , pred:  3 , cert:  99.30335283279419\n",
            "Real:  0 , pred:  3 , cert:  90.40619134902954\n",
            "Real:  1 , pred:  0 , cert:  94.30714249610901\n",
            "Real:  0 , pred:  1 , cert:  98.13007116317749\n",
            "Real:  0 , pred:  3 , cert:  99.28761720657349\n",
            "Real:  3 , pred:  0 , cert:  100.0\n",
            "Real:  3 , pred:  0 , cert:  63.20308446884155\n",
            "Real:  2 , pred:  0 , cert:  99.9993085861206\n",
            "Real:  1 , pred:  0 , cert:  99.997079372406\n",
            "Real:  0 , pred:  4 , cert:  77.39563584327698\n",
            "Real:  3 , pred:  0 , cert:  85.82853674888611\n",
            "Real:  3 , pred:  0 , cert:  100.0\n",
            "Real:  3 , pred:  0 , cert:  99.97676014900208\n",
            "Real:  4 , pred:  0 , cert:  67.6358699798584\n",
            "Real:  0 , pred:  3 , cert:  99.94738698005676\n",
            "Real:  3 , pred:  0 , cert:  53.38771343231201\n",
            "Real:  3 , pred:  0 , cert:  80.86512684822083\n",
            "Real:  0 , pred:  3 , cert:  53.40731143951416\n",
            "Real:  1 , pred:  0 , cert:  99.9882698059082\n",
            "Real:  3 , pred:  0 , cert:  99.88393187522888\n",
            "Real:  0 , pred:  1 , cert:  88.96942138671875\n",
            "Real:  3 , pred:  0 , cert:  95.95006108283997\n",
            "Real:  0 , pred:  3 , cert:  76.18731260299683\n",
            "Real:  3 , pred:  0 , cert:  80.17686009407043\n",
            "Real:  0 , pred:  4 , cert:  99.39296245574951\n",
            "Real:  1 , pred:  0 , cert:  69.78498697280884\n",
            "Real:  0 , pred:  3 , cert:  98.05220365524292\n",
            "Real:  0 , pred:  2 , cert:  50.96675753593445\n",
            "Real:  0 , pred:  3 , cert:  98.92205595970154\n",
            "Real:  0 , pred:  3 , cert:  99.99899864196777\n",
            "Real:  3 , pred:  0 , cert:  99.99326467514038\n",
            "Real:  3 , pred:  0 , cert:  99.93528723716736\n",
            "Real:  3 , pred:  0 , cert:  96.61445617675781\n",
            "Real:  3 , pred:  0 , cert:  99.99703168869019\n",
            "Real:  3 , pred:  0 , cert:  92.60953664779663\n",
            "Real:  4 , pred:  0 , cert:  57.58394002914429\n",
            "Real:  1 , pred:  0 , cert:  77.3716688156128\n",
            "Real:  0 , pred:  4 , cert:  69.00336742401123\n",
            "Real:  3 , pred:  0 , cert:  99.98180270195007\n",
            "Real:  2 , pred:  0 , cert:  72.31257557868958\n",
            "Real:  3 , pred:  0 , cert:  71.89227342605591\n",
            "Real:  1 , pred:  0 , cert:  99.64336156845093\n",
            "Real:  3 , pred:  0 , cert:  86.39260530471802\n",
            "Real:  0 , pred:  3 , cert:  98.09082746505737\n",
            "Real:  1 , pred:  0 , cert:  97.91392683982849\n",
            "Real:  3 , pred:  0 , cert:  88.03707361221313\n",
            "Real:  1 , pred:  0 , cert:  99.57542419433594\n",
            "Real:  3 , pred:  0 , cert:  99.37998652458191\n",
            "Real:  3 , pred:  0 , cert:  99.99890327453613\n",
            "Real:  1 , pred:  0 , cert:  73.21981191635132\n",
            "Real:  0 , pred:  1 , cert:  74.94412064552307\n",
            "Real:  0 , pred:  3 , cert:  95.97561955451965\n",
            "Real:  3 , pred:  4 , cert:  99.96237754821777\n",
            "Real:  0 , pred:  1 , cert:  58.49883556365967\n",
            "Real:  0 , pred:  3 , cert:  97.3612129688263\n",
            "Real:  0 , pred:  3 , cert:  97.56037592887878\n",
            "Real:  0 , pred:  1 , cert:  55.60634732246399\n",
            "Real:  0 , pred:  2 , cert:  80.78926801681519\n",
            "Real:  3 , pred:  0 , cert:  100.0\n",
            "Real:  3 , pred:  0 , cert:  91.00024104118347\n",
            "Real:  2 , pred:  0 , cert:  100.0\n",
            "Real:  1 , pred:  3 , cert:  73.09009432792664\n",
            "Real:  3 , pred:  0 , cert:  98.30674529075623\n",
            "Real:  0 , pred:  3 , cert:  60.707253217697144\n",
            "Real:  0 , pred:  3 , cert:  99.99841451644897\n",
            "Real:  0 , pred:  3 , cert:  99.05911087989807\n",
            "Real:  0 , pred:  4 , cert:  66.51226878166199\n",
            "Real:  0 , pred:  4 , cert:  50.06961226463318\n",
            "Real:  1 , pred:  0 , cert:  94.97247338294983\n",
            "Real:  3 , pred:  0 , cert:  99.87180233001709\n",
            "Real:  3 , pred:  0 , cert:  100.0\n",
            "Real:  3 , pred:  0 , cert:  99.67156648635864\n",
            "Real:  3 , pred:  0 , cert:  90.00306725502014\n",
            "Real:  2 , pred:  0 , cert:  94.43831443786621\n",
            "Real:  3 , pred:  0 , cert:  99.95918869972229\n",
            "Real:  0 , pred:  1 , cert:  92.19414591789246\n",
            "Real:  0 , pred:  3 , cert:  74.9993622303009\n",
            "Real:  3 , pred:  0 , cert:  93.46283078193665\n",
            "Real:  3 , pred:  0 , cert:  99.49488639831543\n",
            "Real:  0 , pred:  3 , cert:  83.14363360404968\n",
            "Real:  3 , pred:  0 , cert:  99.88923668861389\n",
            "Real:  0 , pred:  3 , cert:  46.457090973854065\n",
            "Real:  0 , pred:  1 , cert:  54.71222400665283\n",
            "Real:  3 , pred:  0 , cert:  99.99728202819824\n",
            "Real:  3 , pred:  0 , cert:  50.93406438827515\n",
            "Real:  0 , pred:  3 , cert:  95.91571092605591\n",
            "Real:  1 , pred:  0 , cert:  70.40480971336365\n",
            "Real:  3 , pred:  0 , cert:  98.37055206298828\n",
            "Real:  0 , pred:  3 , cert:  91.00000262260437\n",
            "Real:  0 , pred:  2 , cert:  98.49534034729004\n",
            "Real:  3 , pred:  0 , cert:  52.599018812179565\n",
            "Real:  1 , pred:  0 , cert:  63.63813877105713\n",
            "Real:  0 , pred:  3 , cert:  99.59492683410645\n",
            "Real:  0 , pred:  3 , cert:  49.689981341362\n",
            "Real:  0 , pred:  3 , cert:  85.29824614524841\n",
            "Real:  4 , pred:  0 , cert:  84.42039489746094\n",
            "Real:  3 , pred:  0 , cert:  99.99420642852783\n",
            "Real:  2 , pred:  0 , cert:  100.0\n",
            "Real:  1 , pred:  0 , cert:  97.61217832565308\n",
            "Real:  1 , pred:  0 , cert:  47.90525138378143\n",
            "Real:  3 , pred:  0 , cert:  92.72616505622864\n",
            "Real:  1 , pred:  0 , cert:  99.96743202209473\n",
            "Real:  3 , pred:  0 , cert:  99.99991655349731\n",
            "Real:  0 , pred:  2 , cert:  52.29436159133911\n",
            "Real:  3 , pred:  0 , cert:  99.60492253303528\n",
            "Real:  3 , pred:  0 , cert:  69.90894079208374\n",
            "Real:  1 , pred:  0 , cert:  99.54023361206055\n",
            "Real:  1 , pred:  0 , cert:  99.99582767486572\n",
            "Real:  3 , pred:  0 , cert:  99.88687634468079\n",
            "Real:  0 , pred:  3 , cert:  67.13854670524597\n",
            "Real:  0 , pred:  4 , cert:  59.599655866622925\n",
            "Real:  2 , pred:  0 , cert:  95.05806565284729\n",
            "Real:  0 , pred:  3 , cert:  98.95710945129395\n",
            "Real:  3 , pred:  0 , cert:  99.47230815887451\n",
            "Real:  0 , pred:  3 , cert:  99.06168580055237\n",
            "Real:  0 , pred:  3 , cert:  80.00369071960449\n",
            "Real:  0 , pred:  3 , cert:  99.9968409538269\n",
            "Real:  0 , pred:  1 , cert:  66.50615930557251\n",
            "Real:  0 , pred:  4 , cert:  88.41736316680908\n",
            "Real:  0 , pred:  3 , cert:  85.06377935409546\n",
            "Real:  3 , pred:  0 , cert:  87.12514638900757\n",
            "Real:  0 , pred:  3 , cert:  96.59390449523926\n",
            "Real:  0 , pred:  3 , cert:  63.34207057952881\n",
            "Real:  1 , pred:  0 , cert:  97.13218212127686\n",
            "Real:  3 , pred:  0 , cert:  99.02849793434143\n",
            "Real:  0 , pred:  3 , cert:  64.72695469856262\n",
            "Real:  0 , pred:  3 , cert:  64.17913436889648\n",
            "Real:  3 , pred:  0 , cert:  100.0\n",
            "Real:  0 , pred:  1 , cert:  60.19148826599121\n",
            "Real:  0 , pred:  4 , cert:  76.67652368545532\n",
            "Real:  3 , pred:  0 , cert:  51.640909910202026\n",
            "Real:  3 , pred:  0 , cert:  70.66786885261536\n",
            "Real:  4 , pred:  0 , cert:  97.4606990814209\n",
            "Real:  0 , pred:  3 , cert:  99.99889135360718\n",
            "Real:  1 , pred:  0 , cert:  79.60144281387329\n",
            "Real:  0 , pred:  3 , cert:  82.80348181724548\n",
            "Real:  0 , pred:  1 , cert:  94.6962296962738\n",
            "Real:  3 , pred:  0 , cert:  93.37846636772156\n",
            "Real:  3 , pred:  0 , cert:  99.93864297866821\n",
            "Real:  0 , pred:  2 , cert:  52.80410051345825\n",
            "Real:  0 , pred:  1 , cert:  54.49026823043823\n",
            "Real:  3 , pred:  0 , cert:  100.0\n",
            "Real:  0 , pred:  1 , cert:  99.31986927986145\n",
            "Real:  0 , pred:  3 , cert:  84.60418581962585\n",
            "Real:  2 , pred:  0 , cert:  89.67244625091553\n",
            "Real:  3 , pred:  0 , cert:  64.29324150085449\n",
            "Real:  0 , pred:  3 , cert:  55.672359466552734\n",
            "Real:  3 , pred:  0 , cert:  87.22326159477234\n",
            "Real:  3 , pred:  0 , cert:  99.12495613098145\n",
            "Real:  2 , pred:  1 , cert:  97.2350537776947\n",
            "Real:  3 , pred:  0 , cert:  96.22616171836853\n",
            "Real:  3 , pred:  0 , cert:  99.90424513816833\n",
            "Real:  4 , pred:  0 , cert:  81.02109432220459\n",
            "Real:  3 , pred:  0 , cert:  99.98169541358948\n",
            "Real:  0 , pred:  3 , cert:  99.99967813491821\n",
            "Real:  0 , pred:  1 , cert:  58.872610330581665\n",
            "Real:  3 , pred:  0 , cert:  100.0\n",
            "Real:  2 , pred:  0 , cert:  99.87603425979614\n",
            "Real:  1 , pred:  0 , cert:  63.88770341873169\n",
            "Real:  0 , pred:  4 , cert:  79.48588728904724\n",
            "Real:  3 , pred:  0 , cert:  99.9621033668518\n",
            "Real:  3 , pred:  0 , cert:  66.28525257110596\n",
            "Real:  0 , pred:  2 , cert:  97.8025734424591\n",
            "Real:  2 , pred:  0 , cert:  95.6974983215332\n",
            "Real:  3 , pred:  0 , cert:  99.70254302024841\n",
            "Real:  0 , pred:  3 , cert:  98.33481907844543\n",
            "Real:  3 , pred:  0 , cert:  99.95843768119812\n",
            "Real:  0 , pred:  3 , cert:  97.90967106819153\n",
            "Real:  3 , pred:  0 , cert:  99.87758994102478\n",
            "Real:  3 , pred:  4 , cert:  99.72347617149353\n",
            "Real:  3 , pred:  0 , cert:  99.36339855194092\n",
            "Real:  0 , pred:  3 , cert:  68.53740215301514\n",
            "Real:  0 , pred:  3 , cert:  99.93048906326294\n",
            "Real:  0 , pred:  1 , cert:  99.098140001297\n",
            "Real:  1 , pred:  4 , cert:  78.62762212753296\n",
            "Real:  2 , pred:  0 , cert:  99.83160495758057\n",
            "Real:  3 , pred:  0 , cert:  94.09897327423096\n",
            "Real:  3 , pred:  4 , cert:  83.121258020401\n",
            "Real:  3 , pred:  0 , cert:  99.99815225601196\n",
            "Real:  0 , pred:  1 , cert:  52.919501066207886\n",
            "Real:  0 , pred:  1 , cert:  96.18594646453857\n",
            "Real:  0 , pred:  3 , cert:  74.49836134910583\n",
            "Real:  3 , pred:  0 , cert:  98.95884990692139\n",
            "Real:  2 , pred:  0 , cert:  96.89170718193054\n",
            "Real:  0 , pred:  3 , cert:  99.93962049484253\n",
            "Real:  0 , pred:  3 , cert:  99.57420229911804\n",
            "Real:  3 , pred:  0 , cert:  98.25329780578613\n",
            "Real:  0 , pred:  3 , cert:  79.65840101242065\n",
            "Real:  3 , pred:  0 , cert:  99.99771118164062\n",
            "Real:  3 , pred:  0 , cert:  77.66242027282715\n",
            "Real:  3 , pred:  0 , cert:  99.99608993530273\n",
            "Real:  0 , pred:  1 , cert:  99.95297193527222\n",
            "Real:  4 , pred:  0 , cert:  97.03221917152405\n",
            "Real:  0 , pred:  3 , cert:  70.54436802864075\n",
            "Real:  1 , pred:  0 , cert:  52.67082452774048\n",
            "Real:  0 , pred:  2 , cert:  65.42477011680603\n",
            "Real:  0 , pred:  2 , cert:  98.86360764503479\n",
            "Real:  2 , pred:  0 , cert:  71.69991731643677\n",
            "Real:  0 , pred:  1 , cert:  65.69165587425232\n",
            "Real:  1 , pred:  0 , cert:  56.050366163253784\n",
            "Real:  3 , pred:  0 , cert:  98.8493025302887\n",
            "Real:  3 , pred:  0 , cert:  58.98081064224243\n",
            "Real:  3 , pred:  0 , cert:  92.58854389190674\n",
            "Real:  1 , pred:  3 , cert:  56.04411959648132\n",
            "Real:  3 , pred:  0 , cert:  99.6096670627594\n",
            "Real:  3 , pred:  0 , cert:  63.56980800628662\n",
            "Real:  0 , pred:  3 , cert:  56.6733717918396\n",
            "Real:  1 , pred:  0 , cert:  99.74709749221802\n",
            "Real:  3 , pred:  0 , cert:  99.99933242797852\n",
            "Real:  4 , pred:  0 , cert:  67.67321228981018\n",
            "Real:  0 , pred:  1 , cert:  79.27579879760742\n",
            "Real:  0 , pred:  3 , cert:  99.38805103302002\n",
            "Real:  3 , pred:  1 , cert:  99.9744713306427\n",
            "Real:  3 , pred:  0 , cert:  99.60806965827942\n",
            "Real:  0 , pred:  3 , cert:  75.80721378326416\n",
            "Real:  0 , pred:  2 , cert:  99.99997615814209\n",
            "Real:  0 , pred:  1 , cert:  91.51658415794373\n",
            "Real:  3 , pred:  0 , cert:  94.58264708518982\n",
            "Real:  2 , pred:  0 , cert:  54.19906973838806\n",
            "Real:  3 , pred:  0 , cert:  84.50584411621094\n",
            "Accuracy:  99.1789245658782\n",
            "Wrong:  235  out of  28621\n"
          ],
          "name": "stdout"
        }
      ]
    },
    {
      "cell_type": "markdown",
      "metadata": {
        "id": "ALYc3ABaZkcE",
        "colab_type": "text"
      },
      "source": [
        "#Our cnn model\n"
      ]
    },
    {
      "cell_type": "code",
      "metadata": {
        "id": "KrqnSSGVW9VF",
        "colab_type": "code",
        "colab": {}
      },
      "source": [
        "from tensorflow.keras.models import Sequential, Model\n",
        "from tensorflow.keras.layers import Dense, Conv1D, Flatten, Dropout, MaxPooling1D, Input, Softmax, Add, Activation\n",
        "\n",
        "from tensorflow.keras import backend as K\n",
        "from tensorflow.keras.optimizers import Adam\n",
        "from tensorflow.keras.callbacks import LearningRateScheduler, ModelCheckpoint\n",
        "from tensorflow.keras.utils import to_categorical\n"
      ],
      "execution_count": null,
      "outputs": []
    },
    {
      "cell_type": "code",
      "metadata": {
        "id": "xdFEdukOaLHY",
        "colab_type": "code",
        "colab": {
          "base_uri": "https://localhost:8080/",
          "height": 34
        },
        "outputId": "b1a7d0fe-7831-4dab-aafc-1822b838ecfa"
      },
      "source": [
        "x_train = np.reshape(x_train, (x_train.shape[0], x_train.shape[1], 1))\n",
        "x_validate = np.reshape(x_validate, (x_validate.shape[0], x_validate.shape[1], 1))\n",
        "x_test = np.reshape(x_test, (x_test.shape[0], x_test.shape[1], 1))\n",
        "print(x_train.shape, x_validate.shape, x_test.shape)"
      ],
      "execution_count": null,
      "outputs": [
        {
          "output_type": "stream",
          "text": [
            "(85862, 187, 1) (28620, 187, 1) (28621, 187, 1)\n"
          ],
          "name": "stdout"
        }
      ]
    },
    {
      "cell_type": "code",
      "metadata": {
        "id": "OPLlVjWBZrkx",
        "colab_type": "code",
        "colab": {}
      },
      "source": [
        "y_train = to_categorical(y_train)\n",
        "y_validate = to_categorical(y_validate)\n",
        "y_test = to_categorical(y_test)"
      ],
      "execution_count": null,
      "outputs": []
    },
    {
      "cell_type": "code",
      "metadata": {
        "id": "PVUkaXVnZ09r",
        "colab_type": "code",
        "colab": {
          "base_uri": "https://localhost:8080/",
          "height": 34
        },
        "outputId": "bf31d919-35c6-4940-97e4-22398cf7f45e"
      },
      "source": [
        "print(y_train.shape, y_validate.shape, y_test.shape)"
      ],
      "execution_count": null,
      "outputs": [
        {
          "output_type": "stream",
          "text": [
            "(85862, 5) (28620, 5) (28621, 5)\n"
          ],
          "name": "stdout"
        }
      ]
    },
    {
      "cell_type": "code",
      "metadata": {
        "id": "SIJnDPDAZ9XD",
        "colab_type": "code",
        "colab": {}
      },
      "source": [
        "n_obs, feature, depth = x_train.shape\n",
        "batch_size = 500"
      ],
      "execution_count": null,
      "outputs": []
    },
    {
      "cell_type": "code",
      "metadata": {
        "id": "MPYdXNwMattz",
        "colab_type": "code",
        "colab": {
          "base_uri": "https://localhost:8080/",
          "height": 1000
        },
        "outputId": "3ebf6169-3f13-4341-e1fd-e615f25266ae"
      },
      "source": [
        "K.clear_session()\n",
        "\n",
        "inp = Input(shape=(feature, depth))\n",
        "C = Conv1D(filters=32, kernel_size=5, strides=1)(inp)\n",
        "\n",
        "C11 = Conv1D(filters=32, kernel_size=5, strides=1, padding='same')(C)\n",
        "A11 = Activation(\"relu\")(C11)\n",
        "C12 = Conv1D(filters=32, kernel_size=5, strides=1, padding='same')(A11)\n",
        "S11 = Add()([C12, C])\n",
        "A12 = Activation(\"relu\")(S11)\n",
        "M11 = MaxPooling1D(pool_size=5, strides=2)(A12)\n",
        "\n",
        "\n",
        "C21 = Conv1D(filters=32, kernel_size=5, strides=1, padding='same')(M11)\n",
        "A21 = Activation(\"relu\")(C21)\n",
        "C22 = Conv1D(filters=32, kernel_size=5, strides=1, padding='same')(A21)\n",
        "S21 = Add()([C22, M11])\n",
        "A22 = Activation(\"relu\")(S21)\n",
        "M21 = MaxPooling1D(pool_size=5, strides=2)(A22)\n",
        "\n",
        "\n",
        "C31 = Conv1D(filters=32, kernel_size=5, strides=1, padding='same')(M21)\n",
        "A31 = Activation(\"relu\")(C31)\n",
        "C32 = Conv1D(filters=32, kernel_size=5, strides=1, padding='same')(A31)\n",
        "S31 = Add()([C32, M21])\n",
        "A32 = Activation(\"relu\")(S31)\n",
        "M31 = MaxPooling1D(pool_size=5, strides=2)(A32)\n",
        "\n",
        "\n",
        "C41 = Conv1D(filters=32, kernel_size=5, strides=1, padding='same')(M31)\n",
        "A41 = Activation(\"relu\")(C41)\n",
        "C42 = Conv1D(filters=32, kernel_size=5, strides=1, padding='same')(A41)\n",
        "S41 = Add()([C42, M31])\n",
        "A42 = Activation(\"relu\")(S41)\n",
        "M41 = MaxPooling1D(pool_size=5, strides=2)(A42)\n",
        "\n",
        "\n",
        "C51 = Conv1D(filters=32, kernel_size=5, strides=1, padding='same')(M41)\n",
        "A51 = Activation(\"relu\")(C51)\n",
        "C52 = Conv1D(filters=32, kernel_size=5, strides=1, padding='same')(A51)\n",
        "S51 = Add()([C52, M41])\n",
        "A52 = Activation(\"relu\")(S51)\n",
        "M51 = MaxPooling1D(pool_size=5, strides=2)(A52)\n",
        "\n",
        "F1 = Flatten()(M51)\n",
        "\n",
        "D1 = Dense(32)(F1)\n",
        "A6 = Activation(\"relu\")(D1)\n",
        "D2 = Dense(32)(A6)\n",
        "D3 = Dense(5)(D2)\n",
        "A7 = Softmax()(D3)\n",
        "\n",
        "model = Model(inputs=inp, outputs=A7)\n",
        "\n",
        "model.summary()"
      ],
      "execution_count": null,
      "outputs": [
        {
          "output_type": "stream",
          "text": [
            "Model: \"model\"\n",
            "__________________________________________________________________________________________________\n",
            "Layer (type)                    Output Shape         Param #     Connected to                     \n",
            "==================================================================================================\n",
            "input_1 (InputLayer)            [(None, 187, 1)]     0                                            \n",
            "__________________________________________________________________________________________________\n",
            "conv1d (Conv1D)                 (None, 183, 32)      192         input_1[0][0]                    \n",
            "__________________________________________________________________________________________________\n",
            "conv1d_1 (Conv1D)               (None, 183, 32)      5152        conv1d[0][0]                     \n",
            "__________________________________________________________________________________________________\n",
            "activation (Activation)         (None, 183, 32)      0           conv1d_1[0][0]                   \n",
            "__________________________________________________________________________________________________\n",
            "conv1d_2 (Conv1D)               (None, 183, 32)      5152        activation[0][0]                 \n",
            "__________________________________________________________________________________________________\n",
            "add (Add)                       (None, 183, 32)      0           conv1d_2[0][0]                   \n",
            "                                                                 conv1d[0][0]                     \n",
            "__________________________________________________________________________________________________\n",
            "activation_3 (Activation)       (None, 183, 32)      0           add[0][0]                        \n",
            "__________________________________________________________________________________________________\n",
            "max_pooling1d_1 (MaxPooling1D)  (None, 90, 32)       0           activation_3[0][0]               \n",
            "__________________________________________________________________________________________________\n",
            "conv1d_5 (Conv1D)               (None, 90, 32)       5152        max_pooling1d_1[0][0]            \n",
            "__________________________________________________________________________________________________\n",
            "activation_4 (Activation)       (None, 90, 32)       0           conv1d_5[0][0]                   \n",
            "__________________________________________________________________________________________________\n",
            "conv1d_6 (Conv1D)               (None, 90, 32)       5152        activation_4[0][0]               \n",
            "__________________________________________________________________________________________________\n",
            "add_2 (Add)                     (None, 90, 32)       0           conv1d_6[0][0]                   \n",
            "                                                                 max_pooling1d_1[0][0]            \n",
            "__________________________________________________________________________________________________\n",
            "activation_5 (Activation)       (None, 90, 32)       0           add_2[0][0]                      \n",
            "__________________________________________________________________________________________________\n",
            "max_pooling1d_2 (MaxPooling1D)  (None, 43, 32)       0           activation_5[0][0]               \n",
            "__________________________________________________________________________________________________\n",
            "conv1d_7 (Conv1D)               (None, 43, 32)       5152        max_pooling1d_2[0][0]            \n",
            "__________________________________________________________________________________________________\n",
            "activation_6 (Activation)       (None, 43, 32)       0           conv1d_7[0][0]                   \n",
            "__________________________________________________________________________________________________\n",
            "conv1d_8 (Conv1D)               (None, 43, 32)       5152        activation_6[0][0]               \n",
            "__________________________________________________________________________________________________\n",
            "add_3 (Add)                     (None, 43, 32)       0           conv1d_8[0][0]                   \n",
            "                                                                 max_pooling1d_2[0][0]            \n",
            "__________________________________________________________________________________________________\n",
            "activation_7 (Activation)       (None, 43, 32)       0           add_3[0][0]                      \n",
            "__________________________________________________________________________________________________\n",
            "max_pooling1d_3 (MaxPooling1D)  (None, 20, 32)       0           activation_7[0][0]               \n",
            "__________________________________________________________________________________________________\n",
            "conv1d_9 (Conv1D)               (None, 20, 32)       5152        max_pooling1d_3[0][0]            \n",
            "__________________________________________________________________________________________________\n",
            "activation_8 (Activation)       (None, 20, 32)       0           conv1d_9[0][0]                   \n",
            "__________________________________________________________________________________________________\n",
            "conv1d_10 (Conv1D)              (None, 20, 32)       5152        activation_8[0][0]               \n",
            "__________________________________________________________________________________________________\n",
            "add_4 (Add)                     (None, 20, 32)       0           conv1d_10[0][0]                  \n",
            "                                                                 max_pooling1d_3[0][0]            \n",
            "__________________________________________________________________________________________________\n",
            "activation_9 (Activation)       (None, 20, 32)       0           add_4[0][0]                      \n",
            "__________________________________________________________________________________________________\n",
            "max_pooling1d_4 (MaxPooling1D)  (None, 8, 32)        0           activation_9[0][0]               \n",
            "__________________________________________________________________________________________________\n",
            "flatten (Flatten)               (None, 256)          0           max_pooling1d_4[0][0]            \n",
            "__________________________________________________________________________________________________\n",
            "dense (Dense)                   (None, 32)           8224        flatten[0][0]                    \n",
            "__________________________________________________________________________________________________\n",
            "activation_10 (Activation)      (None, 32)           0           dense[0][0]                      \n",
            "__________________________________________________________________________________________________\n",
            "dense_1 (Dense)                 (None, 32)           1056        activation_10[0][0]              \n",
            "__________________________________________________________________________________________________\n",
            "dense_2 (Dense)                 (None, 5)            165         dense_1[0][0]                    \n",
            "__________________________________________________________________________________________________\n",
            "softmax (Softmax)               (None, 5)            0           dense_2[0][0]                    \n",
            "==================================================================================================\n",
            "Total params: 50,853\n",
            "Trainable params: 50,853\n",
            "Non-trainable params: 0\n",
            "__________________________________________________________________________________________________\n"
          ],
          "name": "stdout"
        }
      ]
    },
    {
      "cell_type": "code",
      "metadata": {
        "id": "FFXeOzWJbg6r",
        "colab_type": "code",
        "colab": {}
      },
      "source": [
        "def exp_decay(epoch):\n",
        "    initial_lrate = 0.001\n",
        "    k = 0.75\n",
        "    t = n_obs//(10000 * batch_size)  # every epoch we do n_obs/batch_size iteration\n",
        "    lrate = initial_lrate * math.exp(-k*t)\n",
        "    return lrate\n",
        "\n",
        "lrate = LearningRateScheduler(exp_decay)"
      ],
      "execution_count": null,
      "outputs": []
    },
    {
      "cell_type": "code",
      "metadata": {
        "id": "mpc8r1rKbz8o",
        "colab_type": "code",
        "colab": {}
      },
      "source": [
        "adam = Adam(lr = 0.001, beta_1 = 0.9, beta_2 = 0.999)"
      ],
      "execution_count": null,
      "outputs": []
    },
    {
      "cell_type": "code",
      "metadata": {
        "id": "kC7tLvUcb2iz",
        "colab_type": "code",
        "colab": {}
      },
      "source": [
        "model.compile(\n",
        "    loss = 'categorical_crossentropy',\n",
        "    optimizer = adam,\n",
        "    metrics = ['accuracy']\n",
        ")"
      ],
      "execution_count": null,
      "outputs": []
    },
    {
      "cell_type": "code",
      "metadata": {
        "id": "aGG72Uqdb69x",
        "colab_type": "code",
        "colab": {
          "base_uri": "https://localhost:8080/",
          "height": 390
        },
        "outputId": "f118fff3-2cab-4fbe-9e92-6ddec1d9aa63"
      },
      "source": [
        "history = model.fit(x_train, y_train, \n",
        "                    epochs = 10, \n",
        "                    batch_size = batch_size, \n",
        "                    verbose = 1,\n",
        "                    validation_data = (x_validate, y_validate), \n",
        "                    callbacks=[lrate])"
      ],
      "execution_count": null,
      "outputs": [
        {
          "output_type": "stream",
          "text": [
            "Train on 85862 samples, validate on 28620 samples\n",
            "Epoch 1/10\n",
            "85862/85862 [==============================] - 88s 1ms/sample - loss: 0.0045 - accuracy: 0.9985 - val_loss: 0.0127 - val_accuracy: 0.9964\n",
            "Epoch 2/10\n",
            "85862/85862 [==============================] - 88s 1ms/sample - loss: 0.0064 - accuracy: 0.9979 - val_loss: 0.0170 - val_accuracy: 0.9954\n",
            "Epoch 3/10\n",
            "85862/85862 [==============================] - 87s 1ms/sample - loss: 0.0058 - accuracy: 0.9981 - val_loss: 0.0136 - val_accuracy: 0.9964\n",
            "Epoch 4/10\n",
            "85862/85862 [==============================] - 87s 1ms/sample - loss: 0.0043 - accuracy: 0.9986 - val_loss: 0.0140 - val_accuracy: 0.9965\n",
            "Epoch 5/10\n",
            "85862/85862 [==============================] - 87s 1ms/sample - loss: 0.0044 - accuracy: 0.9985 - val_loss: 0.0140 - val_accuracy: 0.9966\n",
            "Epoch 6/10\n",
            "85862/85862 [==============================] - 87s 1ms/sample - loss: 0.0041 - accuracy: 0.9986 - val_loss: 0.0147 - val_accuracy: 0.9963\n",
            "Epoch 7/10\n",
            "85862/85862 [==============================] - 87s 1ms/sample - loss: 0.0055 - accuracy: 0.9982 - val_loss: 0.0111 - val_accuracy: 0.9972\n",
            "Epoch 8/10\n",
            "85862/85862 [==============================] - 87s 1ms/sample - loss: 0.0045 - accuracy: 0.9985 - val_loss: 0.0141 - val_accuracy: 0.9964\n",
            "Epoch 9/10\n",
            "85862/85862 [==============================] - 86s 1ms/sample - loss: 0.0047 - accuracy: 0.9985 - val_loss: 0.0131 - val_accuracy: 0.9967\n",
            "Epoch 10/10\n",
            "85862/85862 [==============================] - 87s 1ms/sample - loss: 0.0038 - accuracy: 0.9988 - val_loss: 0.0131 - val_accuracy: 0.9971\n"
          ],
          "name": "stdout"
        }
      ]
    },
    {
      "cell_type": "code",
      "metadata": {
        "id": "W9x3qn_GcGUp",
        "colab_type": "code",
        "colab": {
          "base_uri": "https://localhost:8080/",
          "height": 573
        },
        "outputId": "bde29c31-4b88-4b87-9afd-be6ce8daef5a"
      },
      "source": [
        "# Plot training & validation accuracy values\n",
        "plt.plot(history.history['accuracy'])\n",
        "plt.plot(history.history['val_accuracy'])\n",
        "plt.title('Model accuracy')\n",
        "plt.ylabel('Accuracy')\n",
        "plt.xlabel('Epoch')\n",
        "plt.legend(['Train', 'Valid'], loc='upper left')\n",
        "plt.show()\n",
        "\n",
        "# Plot training & validation loss values\n",
        "plt.plot(history.history['loss'])\n",
        "plt.plot(history.history['val_loss'])\n",
        "plt.title('Model loss')\n",
        "plt.ylabel('Loss')\n",
        "plt.xlabel('Epoch')\n",
        "plt.legend(['Train', 'Valid'], loc='upper left')\n",
        "plt.show()"
      ],
      "execution_count": null,
      "outputs": [
        {
          "output_type": "display_data",
          "data": {
            "image/png": "[encoded data removed]",
            "text/plain": [
              "<Figure size 432x288 with 1 Axes>"
            ]
          },
          "metadata": {
            "tags": []
          }
        },
        {
          "output_type": "display_data",
          "data": {
            "image/png": "[encoded data removed]",
            "text/plain": [
              "<Figure size 432x288 with 1 Axes>"
            ]
          },
          "metadata": {
            "tags": []
          }
        }
      ]
    },
    {
      "cell_type": "code",
      "metadata": {
        "id": "dQUgFFDWdwTN",
        "colab_type": "code",
        "colab": {
          "base_uri": "https://localhost:8080/",
          "height": 52
        },
        "outputId": "89b951a0-731f-4a38-e754-37dea56cb759"
      },
      "source": [
        "y_train_preds = model.predict(x_train, verbose = 1)\n",
        "y_validate_preds = model.predict(x_validate, verbose = 1)\n",
        "y_test_preds = model.predict(x_test)"
      ],
      "execution_count": null,
      "outputs": [
        {
          "output_type": "stream",
          "text": [
            "85862/85862 [==============================] - 28s 327us/sample\n",
            "28620/28620 [==============================] - 9s 325us/sample\n"
          ],
          "name": "stdout"
        }
      ]
    },
    {
      "cell_type": "code",
      "metadata": {
        "id": "FK4xN6Y1n66M",
        "colab_type": "code",
        "colab": {
          "base_uri": "https://localhost:8080/",
          "height": 52
        },
        "outputId": "7ec9eb2a-4a7e-44cb-ceaf-9b753e85224f"
      },
      "source": [
        "y_test_preds[0]"
      ],
      "execution_count": null,
      "outputs": [
        {
          "output_type": "execute_result",
          "data": {
            "text/plain": [
              "array([1.0000000e+00, 8.7685941e-16, 7.3693185e-24, 7.5506177e-15,\n",
              "       2.1419553e-22], dtype=float32)"
            ]
          },
          "metadata": {
            "tags": []
          },
          "execution_count": 86
        }
      ]
    },
    {
      "cell_type": "code",
      "metadata": {
        "id": "ygdUf9wQeRSO",
        "colab_type": "code",
        "colab": {}
      },
      "source": [
        "# Python script for confusion matrix creation. \n",
        "from sklearn.metrics import confusion_matrix \n",
        "from sklearn.metrics import accuracy_score \n",
        "from sklearn.metrics import classification_report "
      ],
      "execution_count": null,
      "outputs": []
    },
    {
      "cell_type": "code",
      "metadata": {
        "id": "8IFlYofIesOu",
        "colab_type": "code",
        "colab": {
          "base_uri": "https://localhost:8080/",
          "height": 372
        },
        "outputId": "c8ab88ef-ece8-4918-8c28-d3e547066bec"
      },
      "source": [
        "y_train_preds = [np.argmax(i) for i in y_train_preds ]\n",
        "y_train = [np.argmax(i) for i in y_train ]\n",
        "\n",
        "results = confusion_matrix(y_train, y_train_preds) \n",
        "  \n",
        "print ('Confusion Matrix :')\n",
        "print(results) \n",
        "print ('Accuracy Score :',accuracy_score(y_train, y_train_preds))\n",
        "print ('Report : ')\n",
        "print (classification_report(y_train, y_train_preds)) "
      ],
      "execution_count": null,
      "outputs": [
        {
          "output_type": "stream",
          "text": [
            "Confusion Matrix :\n",
            "[[67411     1     0    25     0]\n",
            " [    1  3904     0     0     0]\n",
            " [    2     0  5797     0     0]\n",
            " [    9     0     0  2882     0]\n",
            " [    1     2     0     7  5820]]\n",
            "Accuracy Score : 0.9994409634063963\n",
            "Report : \n",
            "              precision    recall  f1-score   support\n",
            "\n",
            "           0       1.00      1.00      1.00     67437\n",
            "           1       1.00      1.00      1.00      3905\n",
            "           2       1.00      1.00      1.00      5799\n",
            "           3       0.99      1.00      0.99      2891\n",
            "           4       1.00      1.00      1.00      5830\n",
            "\n",
            "    accuracy                           1.00     85862\n",
            "   macro avg       1.00      1.00      1.00     85862\n",
            "weighted avg       1.00      1.00      1.00     85862\n",
            "\n"
          ],
          "name": "stdout"
        }
      ]
    },
    {
      "cell_type": "code",
      "metadata": {
        "id": "yooc7Ax0oZFY",
        "colab_type": "code",
        "colab": {
          "base_uri": "https://localhost:8080/",
          "height": 372
        },
        "outputId": "b93c7769-8bb3-46b2-b104-3967e50bcbbd"
      },
      "source": [
        "y_validate_preds = [np.argmax(i) for i in y_validate_preds ]\n",
        "y_validate = [np.argmax(i) for i in y_validate]\n",
        "\n",
        "results = confusion_matrix(y_validate, y_validate_preds) \n",
        "  \n",
        "print ('Confusion Matrix :')\n",
        "print(results) \n",
        "print ('Accuracy Score :',accuracy_score(y_validate, y_validate_preds))\n",
        "print ('Report : ')\n",
        "print (classification_report(y_validate, y_validate_preds)) "
      ],
      "execution_count": null,
      "outputs": [
        {
          "output_type": "stream",
          "text": [
            "Confusion Matrix :\n",
            "[[22457     0     3    36     1]\n",
            " [    4  1341     0     1     0]\n",
            " [    8     1  1884     3     0]\n",
            " [   19     4     0   928     0]\n",
            " [    2     0     0     0  1928]]\n",
            "Accuracy Score : 0.9971348707197764\n",
            "Report : \n",
            "              precision    recall  f1-score   support\n",
            "\n",
            "           0       1.00      1.00      1.00     22497\n",
            "           1       1.00      1.00      1.00      1346\n",
            "           2       1.00      0.99      1.00      1896\n",
            "           3       0.96      0.98      0.97       951\n",
            "           4       1.00      1.00      1.00      1930\n",
            "\n",
            "    accuracy                           1.00     28620\n",
            "   macro avg       0.99      0.99      0.99     28620\n",
            "weighted avg       1.00      1.00      1.00     28620\n",
            "\n"
          ],
          "name": "stdout"
        }
      ]
    },
    {
      "cell_type": "code",
      "metadata": {
        "id": "_G8VBG2_ouaz",
        "colab_type": "code",
        "colab": {
          "base_uri": "https://localhost:8080/",
          "height": 372
        },
        "outputId": "72d4fd50-f254-4971-f742-8f77e9a183a3"
      },
      "source": [
        "y_test_preds = [np.argmax(i) for i in y_test_preds ]\n",
        "y_test = [np.argmax(i) for i in y_test ]\n",
        "\n",
        "results = confusion_matrix(y_test, y_test_preds) \n",
        "  \n",
        "print ('Confusion Matrix :')\n",
        "print(results) \n",
        "print ('Accuracy Score :',accuracy_score(y_test, y_test_preds))\n",
        "print ('Report : ')\n",
        "print (classification_report(y_test, y_test_preds)) "
      ],
      "execution_count": null,
      "outputs": [
        {
          "output_type": "stream",
          "text": [
            "Confusion Matrix :\n",
            "[[22477     1     0    35     0]\n",
            " [    4  1310     0     1     0]\n",
            " [    4     1  1884     1     0]\n",
            " [   31     0     0   910     0]\n",
            " [    3     2     0     3  1954]]\n",
            "Accuracy Score : 0.9969952133049159\n",
            "Report : \n",
            "              precision    recall  f1-score   support\n",
            "\n",
            "           0       1.00      1.00      1.00     22513\n",
            "           1       1.00      1.00      1.00      1315\n",
            "           2       1.00      1.00      1.00      1890\n",
            "           3       0.96      0.97      0.96       941\n",
            "           4       1.00      1.00      1.00      1962\n",
            "\n",
            "    accuracy                           1.00     28621\n",
            "   macro avg       0.99      0.99      0.99     28621\n",
            "weighted avg       1.00      1.00      1.00     28621\n",
            "\n"
          ],
          "name": "stdout"
        }
      ]
    },
    {
      "cell_type": "code",
      "metadata": {
        "id": "BqjB1oRVh8hA",
        "colab_type": "code",
        "colab": {}
      },
      "source": [
        "def plot_cm(y_true, y_pred, figsize=(10,10)):\n",
        "    cm = confusion_matrix(y_true, y_pred, labels=np.unique(y_true))\n",
        "    cm_sum = np.sum(cm, axis=1, keepdims=True)\n",
        "    cm_perc = cm / cm_sum.astype(float) * 100\n",
        "    annot = np.empty_like(cm).astype(str)\n",
        "    nrows, ncols = cm.shape\n",
        "    for i in range(nrows):\n",
        "        for j in range(ncols):\n",
        "            c = cm[i, j]\n",
        "            p = cm_perc[i, j]\n",
        "            if i == j:\n",
        "                s = cm_sum[i]\n",
        "                annot[i, j] = '%.1f%%\\n%d/%d' % (p, c, s)\n",
        "            elif c == 0:\n",
        "                annot[i, j] = ''\n",
        "            else:\n",
        "                annot[i, j] = '%.1f%%\\n%d' % (p, c)\n",
        "    cm = pd.DataFrame(cm, index=np.unique(y_true), columns=np.unique(y_true))\n",
        "    cm.index.name = 'Actual'\n",
        "    cm.columns.name = 'Predicted'\n",
        "    fig, ax = plt.subplots(figsize=figsize)\n",
        "    sns.heatmap(cm, cmap= \"YlGnBu\", annot=annot, fmt='', ax=ax)"
      ],
      "execution_count": null,
      "outputs": []
    },
    {
      "cell_type": "code",
      "metadata": {
        "id": "Fcw0j-TkiVRn",
        "colab_type": "code",
        "colab": {
          "base_uri": "https://localhost:8080/",
          "height": 1000
        },
        "outputId": "a63ad9cf-bb83-4fc4-99da-2f6a1becf2f0"
      },
      "source": [
        "plot_cm(y_train, y_train_preds)\n",
        "plot_cm(y_validate, y_validate_preds)\n",
        "plot_cm(y_test, y_test_preds)"
      ],
      "execution_count": null,
      "outputs": [
        {
          "output_type": "display_data",
          "data": {
            "image/png": "[encoded data removed]",
            "text/plain": [
              "<Figure size 720x720 with 2 Axes>"
            ]
          },
          "metadata": {
            "tags": []
          }
        },
        {
          "output_type": "display_data",
          "data": {
            "image/png": "[encoded data removed]",
            "text/plain": [
              "<Figure size 720x720 with 2 Axes>"
            ]
          },
          "metadata": {
            "tags": []
          }
        },
        {
          "output_type": "display_data",
          "data": {
            "image/png": "[encoded data removed]",
            "text/plain": [
              "<Figure size 720x720 with 2 Axes>"
            ]
          },
          "metadata": {
            "tags": []
          }
        }
      ]
    },
    {
      "cell_type": "code",
      "metadata": {
        "id": "Swq1bNYSoGI3",
        "colab_type": "code",
        "colab": {}
      },
      "source": [
        ""
      ],
      "execution_count": null,
      "outputs": []
    }
  ]
}