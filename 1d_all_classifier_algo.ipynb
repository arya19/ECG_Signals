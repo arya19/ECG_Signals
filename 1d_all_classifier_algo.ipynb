{
  "nbformat": 4,
  "nbformat_minor": 0,
  "metadata": {
    "colab": {
      "name": "1d_all_classifier_algo.ipynb",
      "provenance": [],
      "authorship_tag": "ABX9TyOk21xy1+ubdVX5KpgL055X",
      "include_colab_link": true
    },
    "kernelspec": {
      "name": "python3",
      "display_name": "Python 3"
    },
    "accelerator": "GPU"
  },
  "cells": [
    {
      "cell_type": "markdown",
      "metadata": {
        "id": "view-in-github",
        "colab_type": "text"
      },
      "source": [
        "<a href=\"https://colab.research.google.com/github/utkarshsharma1/ECG_Signals/blob/master/1d_all_classifier_algo.ipynb\" target=\"_parent\"><img src=\"https://colab.research.google.com/assets/colab-badge.svg\" alt=\"Open In Colab\"/></a>"
      ]
    },
    {
      "cell_type": "code",
      "metadata": {
        "id": "flfET7uMrY5k",
        "colab_type": "code",
        "colab": {
          "base_uri": "https://localhost:8080/",
          "height": 85
        },
        "outputId": "285926d4-d160-4b64-d08c-b7731377c846"
      },
      "source": [
        "try:\n",
        "  # %tensorflow_version only exists in Colab.\n",
        "  %tensorflow_version 2.x\n",
        "except Exception:\n",
        "  pass\n",
        "\n",
        "!pip install pyyaml h5py  # Required to save models in HDF5 format"
      ],
      "execution_count": null,
      "outputs": [
        {
          "output_type": "stream",
          "text": [
            "Requirement already satisfied: pyyaml in /usr/local/lib/python3.6/dist-packages (3.13)\n",
            "Requirement already satisfied: h5py in /usr/local/lib/python3.6/dist-packages (2.10.0)\n",
            "Requirement already satisfied: numpy>=1.7 in /usr/local/lib/python3.6/dist-packages (from h5py) (1.18.3)\n",
            "Requirement already satisfied: six in /usr/local/lib/python3.6/dist-packages (from h5py) (1.12.0)\n"
          ],
          "name": "stdout"
        }
      ]
    },
    {
      "cell_type": "code",
      "metadata": {
        "id": "A0Ai5xS-rwJ_",
        "colab_type": "code",
        "colab": {
          "base_uri": "https://localhost:8080/",
          "height": 122
        },
        "outputId": "73117180-afe2-4cee-819a-a09263b3c204"
      },
      "source": [
        "from google.colab import drive\n",
        "drive.mount('/content/drive')"
      ],
      "execution_count": null,
      "outputs": [
        {
          "output_type": "stream",
          "text": [
            "Go to this URL in a browser: https://accounts.google.com/o/oauth2/auth?client_id=947318989803-6bn6qk8qdgf4n4g3pfee6491hc0brc4i.apps.googleusercontent.com&redirect_uri=urn%3aietf%3awg%3aoauth%3a2.0%3aoob&response_type=code&scope=email%20https%3a%2f%2fwww.googleapis.com%2fauth%2fdocs.test%20https%3a%2f%2fwww.googleapis.com%2fauth%2fdrive%20https%3a%2f%2fwww.googleapis.com%2fauth%2fdrive.photos.readonly%20https%3a%2f%2fwww.googleapis.com%2fauth%2fpeopleapi.readonly\n",
            "\n",
            "Enter your authorization code:\n",
            "··········\n",
            "Mounted at /content/drive\n"
          ],
          "name": "stdout"
        }
      ]
    },
    {
      "cell_type": "code",
      "metadata": {
        "id": "j2XBJcgaryF9",
        "colab_type": "code",
        "colab": {}
      },
      "source": [
        "%matplotlib inline\n",
        "\n",
        "import pandas as pd\n",
        "import numpy as np\n",
        "import os\n",
        "import matplotlib.pyplot as plt\n"
      ],
      "execution_count": null,
      "outputs": []
    },
    {
      "cell_type": "code",
      "metadata": {
        "id": "kXWKdXDlsJIA",
        "colab_type": "code",
        "colab": {
          "base_uri": "https://localhost:8080/",
          "height": 644
        },
        "outputId": "0c930ea2-5373-44c8-a147-74f67002a85a"
      },
      "source": [
        "!pip install wfdb\n",
        "import wfdb              # much needed for annotations\n",
        "\n",
        "\n",
        "!pip install biosppy\n",
        "from biosppy.signals import ecg\n",
        "from scipy import signal"
      ],
      "execution_count": null,
      "outputs": [
        {
          "output_type": "stream",
          "text": [
            "Collecting wfdb\n",
            "\u001b[?25l  Downloading https://files.pythonhosted.org/packages/b2/96/c2200539fdf4f087e14d30ed62a66544b6f441196bcb8ecc7a29ec6503b9/wfdb-2.2.1.tar.gz (94kB)\n",
            "\u001b[K     |████████████████████████████████| 102kB 2.6MB/s \n",
            "\u001b[?25hCollecting nose>=1.3.7\n",
            "\u001b[?25l  Downloading https://files.pythonhosted.org/packages/15/d8/dd071918c040f50fa1cf80da16423af51ff8ce4a0f2399b7bf8de45ac3d9/nose-1.3.7-py3-none-any.whl (154kB)\n",
            "\u001b[K     |████████████████████████████████| 163kB 7.0MB/s \n",
            "\u001b[?25hRequirement already satisfied: numpy>=1.11.0 in /usr/local/lib/python3.6/dist-packages (from wfdb) (1.18.3)\n",
            "Requirement already satisfied: matplotlib>=1.5.1 in /usr/local/lib/python3.6/dist-packages (from wfdb) (3.2.1)\n",
            "Requirement already satisfied: requests>=2.10.0 in /usr/local/lib/python3.6/dist-packages (from wfdb) (2.23.0)\n",
            "Requirement already satisfied: pandas>=0.19.1 in /usr/local/lib/python3.6/dist-packages (from wfdb) (1.0.3)\n",
            "Requirement already satisfied: scipy>=0.19.0 in /usr/local/lib/python3.6/dist-packages (from wfdb) (1.4.1)\n",
            "Requirement already satisfied: sklearn>=0.0 in /usr/local/lib/python3.6/dist-packages (from wfdb) (0.0)\n",
            "Requirement already satisfied: pyparsing!=2.0.4,!=2.1.2,!=2.1.6,>=2.0.1 in /usr/local/lib/python3.6/dist-packages (from matplotlib>=1.5.1->wfdb) (2.4.7)\n",
            "Requirement already satisfied: kiwisolver>=1.0.1 in /usr/local/lib/python3.6/dist-packages (from matplotlib>=1.5.1->wfdb) (1.2.0)\n",
            "Requirement already satisfied: python-dateutil>=2.1 in /usr/local/lib/python3.6/dist-packages (from matplotlib>=1.5.1->wfdb) (2.8.1)\n",
            "Requirement already satisfied: cycler>=0.10 in /usr/local/lib/python3.6/dist-packages (from matplotlib>=1.5.1->wfdb) (0.10.0)\n",
            "Requirement already satisfied: idna<3,>=2.5 in /usr/local/lib/python3.6/dist-packages (from requests>=2.10.0->wfdb) (2.9)\n",
            "Requirement already satisfied: urllib3!=1.25.0,!=1.25.1,<1.26,>=1.21.1 in /usr/local/lib/python3.6/dist-packages (from requests>=2.10.0->wfdb) (1.24.3)\n",
            "Requirement already satisfied: chardet<4,>=3.0.2 in /usr/local/lib/python3.6/dist-packages (from requests>=2.10.0->wfdb) (3.0.4)\n",
            "Requirement already satisfied: certifi>=2017.4.17 in /usr/local/lib/python3.6/dist-packages (from requests>=2.10.0->wfdb) (2020.4.5.1)\n",
            "Requirement already satisfied: pytz>=2017.2 in /usr/local/lib/python3.6/dist-packages (from pandas>=0.19.1->wfdb) (2018.9)\n",
            "Requirement already satisfied: scikit-learn in /usr/local/lib/python3.6/dist-packages (from sklearn>=0.0->wfdb) (0.22.2.post1)\n",
            "Requirement already satisfied: six>=1.5 in /usr/local/lib/python3.6/dist-packages (from python-dateutil>=2.1->matplotlib>=1.5.1->wfdb) (1.12.0)\n",
            "Requirement already satisfied: joblib>=0.11 in /usr/local/lib/python3.6/dist-packages (from scikit-learn->sklearn>=0.0->wfdb) (0.14.1)\n",
            "Building wheels for collected packages: wfdb\n",
            "  Building wheel for wfdb (setup.py) ... \u001b[?25l\u001b[?25hdone\n",
            "  Created wheel for wfdb: filename=wfdb-2.2.1-cp36-none-any.whl size=100368 sha256=8cd0ad32e3418a3679d6c05aadd17726c0890d5b14e5b6d67f8f7f031ae5f6a8\n",
            "  Stored in directory: /root/.cache/pip/wheels/bb/a9/00/0078d26b0c15b31be0001af8eb659496709c361c69641303f1\n",
            "Successfully built wfdb\n",
            "Installing collected packages: nose, wfdb\n",
            "Successfully installed nose-1.3.7 wfdb-2.2.1\n",
            "Collecting biosppy\n",
            "\u001b[?25l  Downloading https://files.pythonhosted.org/packages/b7/60/d09a277f9d31a2fc9190edf7e8a685c4f9b54b5dff487f523b916f441e1a/biosppy-0.6.1-py2.py3-none-any.whl (76kB)\n",
            "\u001b[K     |████████████████████████████████| 81kB 2.5MB/s \n"
          ],
          "name": "stdout"
        }
      ]
    },
    {
      "cell_type": "code",
      "metadata": {
        "id": "b-OyQOSCsNY5",
        "colab_type": "code",
        "colab": {}
      },
      "source": [
        "sample_database = ['100', '101', '102', '103', '104', '105', '106', '107', '108', \n",
        "                   '109', '111', '112', '113', '114', '115', '116', '117', '118',\n",
        "                   '119', '121', '122', '123', '124', '200', '201', '202', '203',\n",
        "                   '205', '207', '208', '209', '210', '212', '213', '214', '215',\n",
        "                   '217', '219', '220', '221', '222', '223', '228', '230', '231',\n",
        "                   '232', '233', '234']\n",
        "\n",
        "#abnormal = ['L', 'R', 'V', '/', 'A', 'f', 'F', 'j', 'a', 'E', 'J', 'e', 'S']\n",
        "abnormal = ['L', 'R', 'V', '/']"
      ],
      "execution_count": null,
      "outputs": []
    },
    {
      "cell_type": "code",
      "metadata": {
        "id": "XHgbyfkVsQW9",
        "colab_type": "code",
        "colab": {}
      },
      "source": [
        "def load_ecg_signal(file):\n",
        "    \n",
        "    record = wfdb.rdrecord(file, pb_dir= 'mitdb')\n",
        "    annotation = wfdb.rdann(file, 'atr', pb_dir= 'mitdb')\n",
        "    \n",
        "    #This gives signal\n",
        "    p_signal = record.p_signal\n",
        "    \n",
        "    assert record.fs == 360, 'Sample frequency is not 360'\n",
        "    \n",
        "    #This gives symbols & annotation index\n",
        "    atr_symbol = annotation.symbol\n",
        "    atr_sample = annotation.sample\n",
        "    \n",
        "    return p_signal, atr_symbol, atr_sample"
      ],
      "execution_count": null,
      "outputs": []
    },
    {
      "cell_type": "code",
      "metadata": {
        "id": "DMhMO5jvsXQO",
        "colab_type": "code",
        "colab": {}
      },
      "source": [
        "def make_dataset(sample_database, no_of_sec, fs):\n",
        "    \n",
        "    #No of columns\n",
        "    num_cols = 2 * no_of_sec * fs\n",
        "    X_all = np.zeros((1, num_cols))\n",
        "    Y_all = np.zeros((1,1))\n",
        "    symbol_all = []\n",
        "    \n",
        "    max_rows = []\n",
        "    \n",
        "    for i in sample_database:\n",
        "        #file = path + i\n",
        "        print(i)\n",
        "        p_signal, atr_symbol, atr_sample = load_ecg_signal(i)\n",
        "        \n",
        "        #Take out first signal as there are 2 signals\n",
        "        p_signal = p_signal[:,0]\n",
        "        \n",
        "        #Make a dataframe to exclude irrevalent atr_symbol\n",
        "        #atr_sample is index of annotation\n",
        "        df_annotation = pd.DataFrame({'atr_symbol': atr_symbol,'atr_sample': atr_sample})\n",
        "        df_annotation = df_annotation.loc[df_annotation.atr_symbol.isin(abnormal + ['N'])]\n",
        "        \n",
        "        #Gives no of accepted pulses\n",
        "        no_of_rows = len(df_annotation)\n",
        "        \n",
        "        #creates matrix accordingly\n",
        "        X = np.zeros((no_of_rows, num_cols))\n",
        "        Y = np.zeros((no_of_rows, 1))\n",
        "        \n",
        "        #keep track of rows\n",
        "        row_number = 0\n",
        "        \n",
        "        #Now iterate through the dataframe\n",
        "        for atr_sample, atr_symbol in zip(df_annotation.atr_sample.values, df_annotation.atr_symbol.values):\n",
        "            \n",
        "            #Took min and max value in order to tackle the 2 extreme end cases\n",
        "            left = max([0, (atr_sample - no_of_sec * fs)])\n",
        "            right = min([len(p_signal), (atr_sample + no_of_sec * fs)])\n",
        "            x = p_signal[left: right]\n",
        "            \n",
        "            if len(x) == num_cols:\n",
        "            \n",
        "                #This will store all the values of p_signal from 'left' to 'right'\n",
        "                X[row_number, :] = x\n",
        "                \n",
        "                #This line will store 0 if its normal & 1 if its abnormal in Y\n",
        "                if(atr_symbol in abnormal):\n",
        "                  Y[row_number, :] = abnormal.index(atr_symbol) + 1\n",
        "                else:\n",
        "                  Y[row_number, :] = 0\n",
        "                \n",
        "                #A list consisting of all symbols\n",
        "                symbol_all.append(atr_symbol)\n",
        "                row_number += 1\n",
        "                \n",
        "        #Reduces rows of X and Y as we remove some datas whose len(x) != num_cols\n",
        "        X = X[: row_number, :]\n",
        "        Y = Y[: row_number, :]\n",
        "                \n",
        "        #For checking dimensions       \n",
        "        max_rows.append(row_number)\n",
        "                \n",
        "        #append X and Y from previous iteration with new data\n",
        "        X_all = np.append(X_all, X, axis = 0)\n",
        "        Y_all = np.append(Y_all, Y, axis = 0)\n",
        "     \n",
        "    #Removes first column as it contains only zeros when we initialized it\n",
        "    X_all = X_all[1:, :]\n",
        "    Y_all = Y_all[1:, :]\n",
        "            \n",
        "    \n",
        "    assert np.sum(max_rows) == X_all.shape[0], 'No of rows messed 1'\n",
        "    assert Y_all.shape[0] == X_all.shape[0], 'No of rows messed 2' \n",
        "    assert Y_all.shape[0] == len(symbol_all), 'No of rows messed 3'\n",
        "            \n",
        "    return X_all, Y_all, symbol_all"
      ],
      "execution_count": null,
      "outputs": []
    },
    {
      "cell_type": "code",
      "metadata": {
        "id": "Am98NczbscEH",
        "colab_type": "code",
        "colab": {
          "base_uri": "https://localhost:8080/",
          "height": 833
        },
        "outputId": "525ea80a-3fc8-44f8-fb86-27091e69bf4d"
      },
      "source": [
        "#Lets keep no_of_sec as -+ of 3\n",
        "no_of_sec = 1\n",
        "#sampling frequency is 360\n",
        "fs = 94\n",
        "X_all, Y_all, Symbol_all = make_dataset(sample_database, no_of_sec, fs)"
      ],
      "execution_count": null,
      "outputs": [
        {
          "output_type": "stream",
          "text": [
            "100\n",
            "101\n",
            "102\n",
            "103\n",
            "104\n",
            "105\n",
            "106\n",
            "107\n",
            "108\n",
            "109\n",
            "111\n",
            "112\n",
            "113\n",
            "114\n",
            "115\n",
            "116\n",
            "117\n",
            "118\n",
            "119\n",
            "121\n",
            "122\n",
            "123\n",
            "124\n",
            "200\n",
            "201\n",
            "202\n",
            "203\n",
            "205\n",
            "207\n",
            "208\n",
            "209\n",
            "210\n",
            "212\n",
            "213\n",
            "214\n",
            "215\n",
            "217\n",
            "219\n",
            "220\n",
            "221\n",
            "222\n",
            "223\n",
            "228\n",
            "230\n",
            "231\n",
            "232\n",
            "233\n",
            "234\n"
          ],
          "name": "stdout"
        }
      ]
    },
    {
      "cell_type": "code",
      "metadata": {
        "id": "bCKJGEOpt7PJ",
        "colab_type": "code",
        "colab": {
          "base_uri": "https://localhost:8080/",
          "height": 34
        },
        "outputId": "0913269c-bcc5-4fa8-d01b-7e9237b028cd"
      },
      "source": [
        "print(X_all.shape, Y_all.shape, len(Symbol_all))"
      ],
      "execution_count": null,
      "outputs": [
        {
          "output_type": "stream",
          "text": [
            "(104518, 188) (104518, 1) 104518\n"
          ],
          "name": "stdout"
        }
      ]
    },
    {
      "cell_type": "code",
      "metadata": {
        "id": "hb1c3f0Vs2ZC",
        "colab_type": "code",
        "colab": {
          "base_uri": "https://localhost:8080/",
          "height": 296
        },
        "outputId": "8b555abb-82ea-4563-dacc-309179436d74"
      },
      "source": [
        "plt.plot(X_all[80988])\n",
        "plt.xlabel('Time index')\n",
        "plt.ylabel('ECG Signal')\n",
        "plt.show\n",
        "print('Y value : ', Y_all[80988])"
      ],
      "execution_count": null,
      "outputs": [
        {
          "output_type": "stream",
          "text": [
            "Y value :  [3.]\n"
          ],
          "name": "stdout"
        },
        {
          "output_type": "display_data",
          "data": {
            "image/png": "[encoded data removed]",
            "text/plain": [
              "<Figure size 432x288 with 1 Axes>"
            ]
          },
          "metadata": {
            "tags": []
          }
        }
      ]
    },
    {
      "cell_type": "code",
      "metadata": {
        "id": "rK5ONPOx08bC",
        "colab_type": "code",
        "colab": {}
      },
      "source": [
        ""
      ],
      "execution_count": null,
      "outputs": []
    }
  ]
}